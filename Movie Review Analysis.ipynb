{
  "nbformat": 4,
  "nbformat_minor": 0,
  "metadata": {
    "colab": {
      "provenance": []
    },
    "kernelspec": {
      "name": "python3",
      "display_name": "Python 3"
    },
    "language_info": {
      "name": "python"
    }
  },
  "cells": [
    {
      "cell_type": "markdown",
      "source": [
        "# HW1\n",
        "Name: Lu Guo"
      ],
      "metadata": {
        "id": "R_9vYoMwf0F5"
      }
    },
    {
      "cell_type": "markdown",
      "source": [
        "## Import data"
      ],
      "metadata": {
        "id": "LjRdBBPxxlb0"
      }
    },
    {
      "cell_type": "code",
      "source": [
        "from google.colab import drive\n",
        "drive.mount(\"/drive\", force_remount=True)\n",
        "\n",
        "import json\n",
        "import pandas as pd\n",
        "\n",
        "data = []\n",
        "with open('/drive/My Drive/Colab Notebooks/Wed_Homework1/Amazon_Instant_Video_5.json') as f:\n",
        "    for line in f:\n",
        "        data.append(json.loads(line))\n",
        "          "
      ],
      "metadata": {
        "id": "N8gj79sXfdp-",
        "colab": {
          "base_uri": "https://localhost:8080/"
        },
        "outputId": "51c7829f-704d-4f83-ffd0-405a9bd58e3a"
      },
      "execution_count": 47,
      "outputs": [
        {
          "output_type": "stream",
          "name": "stdout",
          "text": [
            "Mounted at /drive\n"
          ]
        }
      ]
    },
    {
      "cell_type": "markdown",
      "source": [
        "# Data Extraction Tasks"
      ],
      "metadata": {
        "id": "z-2zSKUexhin"
      }
    },
    {
      "cell_type": "markdown",
      "source": [
        "## 1.Data Extraction"
      ],
      "metadata": {
        "id": "5QmFmIZ2wMNO"
      }
    },
    {
      "cell_type": "code",
      "source": [
        "# Extract the desired fields and save to a dataframe\n",
        "df = pd.DataFrame(data, columns=['reviewText', 'overall', 'summary'])\n",
        "df.head(2)"
      ],
      "metadata": {
        "colab": {
          "base_uri": "https://localhost:8080/",
          "height": 112
        },
        "id": "ZEtM2qPSwJ1F",
        "outputId": "743deb4e-8fb3-44e1-d21f-264c533e548a"
      },
      "execution_count": 48,
      "outputs": [
        {
          "output_type": "execute_result",
          "data": {
            "text/plain": [
              "                                          reviewText  overall  \\\n",
              "0  I had big expectations because I love English ...      2.0   \n",
              "1  I highly recommend this series. It is a must f...      5.0   \n",
              "\n",
              "                      summary  \n",
              "0  A little bit boring for me  \n",
              "1       Excellent Grown Up TV  "
            ],
            "text/html": [
              "\n",
              "  <div id=\"df-c5ac0076-873d-469d-a64c-d3a5fb5f80e1\">\n",
              "    <div class=\"colab-df-container\">\n",
              "      <div>\n",
              "<style scoped>\n",
              "    .dataframe tbody tr th:only-of-type {\n",
              "        vertical-align: middle;\n",
              "    }\n",
              "\n",
              "    .dataframe tbody tr th {\n",
              "        vertical-align: top;\n",
              "    }\n",
              "\n",
              "    .dataframe thead th {\n",
              "        text-align: right;\n",
              "    }\n",
              "</style>\n",
              "<table border=\"1\" class=\"dataframe\">\n",
              "  <thead>\n",
              "    <tr style=\"text-align: right;\">\n",
              "      <th></th>\n",
              "      <th>reviewText</th>\n",
              "      <th>overall</th>\n",
              "      <th>summary</th>\n",
              "    </tr>\n",
              "  </thead>\n",
              "  <tbody>\n",
              "    <tr>\n",
              "      <th>0</th>\n",
              "      <td>I had big expectations because I love English ...</td>\n",
              "      <td>2.0</td>\n",
              "      <td>A little bit boring for me</td>\n",
              "    </tr>\n",
              "    <tr>\n",
              "      <th>1</th>\n",
              "      <td>I highly recommend this series. It is a must f...</td>\n",
              "      <td>5.0</td>\n",
              "      <td>Excellent Grown Up TV</td>\n",
              "    </tr>\n",
              "  </tbody>\n",
              "</table>\n",
              "</div>\n",
              "      <button class=\"colab-df-convert\" onclick=\"convertToInteractive('df-c5ac0076-873d-469d-a64c-d3a5fb5f80e1')\"\n",
              "              title=\"Convert this dataframe to an interactive table.\"\n",
              "              style=\"display:none;\">\n",
              "        \n",
              "  <svg xmlns=\"http://www.w3.org/2000/svg\" height=\"24px\"viewBox=\"0 0 24 24\"\n",
              "       width=\"24px\">\n",
              "    <path d=\"M0 0h24v24H0V0z\" fill=\"none\"/>\n",
              "    <path d=\"M18.56 5.44l.94 2.06.94-2.06 2.06-.94-2.06-.94-.94-2.06-.94 2.06-2.06.94zm-11 1L8.5 8.5l.94-2.06 2.06-.94-2.06-.94L8.5 2.5l-.94 2.06-2.06.94zm10 10l.94 2.06.94-2.06 2.06-.94-2.06-.94-.94-2.06-.94 2.06-2.06.94z\"/><path d=\"M17.41 7.96l-1.37-1.37c-.4-.4-.92-.59-1.43-.59-.52 0-1.04.2-1.43.59L10.3 9.45l-7.72 7.72c-.78.78-.78 2.05 0 2.83L4 21.41c.39.39.9.59 1.41.59.51 0 1.02-.2 1.41-.59l7.78-7.78 2.81-2.81c.8-.78.8-2.07 0-2.86zM5.41 20L4 18.59l7.72-7.72 1.47 1.35L5.41 20z\"/>\n",
              "  </svg>\n",
              "      </button>\n",
              "      \n",
              "  <style>\n",
              "    .colab-df-container {\n",
              "      display:flex;\n",
              "      flex-wrap:wrap;\n",
              "      gap: 12px;\n",
              "    }\n",
              "\n",
              "    .colab-df-convert {\n",
              "      background-color: #E8F0FE;\n",
              "      border: none;\n",
              "      border-radius: 50%;\n",
              "      cursor: pointer;\n",
              "      display: none;\n",
              "      fill: #1967D2;\n",
              "      height: 32px;\n",
              "      padding: 0 0 0 0;\n",
              "      width: 32px;\n",
              "    }\n",
              "\n",
              "    .colab-df-convert:hover {\n",
              "      background-color: #E2EBFA;\n",
              "      box-shadow: 0px 1px 2px rgba(60, 64, 67, 0.3), 0px 1px 3px 1px rgba(60, 64, 67, 0.15);\n",
              "      fill: #174EA6;\n",
              "    }\n",
              "\n",
              "    [theme=dark] .colab-df-convert {\n",
              "      background-color: #3B4455;\n",
              "      fill: #D2E3FC;\n",
              "    }\n",
              "\n",
              "    [theme=dark] .colab-df-convert:hover {\n",
              "      background-color: #434B5C;\n",
              "      box-shadow: 0px 1px 3px 1px rgba(0, 0, 0, 0.15);\n",
              "      filter: drop-shadow(0px 1px 2px rgba(0, 0, 0, 0.3));\n",
              "      fill: #FFFFFF;\n",
              "    }\n",
              "  </style>\n",
              "\n",
              "      <script>\n",
              "        const buttonEl =\n",
              "          document.querySelector('#df-c5ac0076-873d-469d-a64c-d3a5fb5f80e1 button.colab-df-convert');\n",
              "        buttonEl.style.display =\n",
              "          google.colab.kernel.accessAllowed ? 'block' : 'none';\n",
              "\n",
              "        async function convertToInteractive(key) {\n",
              "          const element = document.querySelector('#df-c5ac0076-873d-469d-a64c-d3a5fb5f80e1');\n",
              "          const dataTable =\n",
              "            await google.colab.kernel.invokeFunction('convertToInteractive',\n",
              "                                                     [key], {});\n",
              "          if (!dataTable) return;\n",
              "\n",
              "          const docLinkHtml = 'Like what you see? Visit the ' +\n",
              "            '<a target=\"_blank\" href=https://colab.research.google.com/notebooks/data_table.ipynb>data table notebook</a>'\n",
              "            + ' to learn more about interactive tables.';\n",
              "          element.innerHTML = '';\n",
              "          dataTable['output_type'] = 'display_data';\n",
              "          await google.colab.output.renderOutput(dataTable, element);\n",
              "          const docLink = document.createElement('div');\n",
              "          docLink.innerHTML = docLinkHtml;\n",
              "          element.appendChild(docLink);\n",
              "        }\n",
              "      </script>\n",
              "    </div>\n",
              "  </div>\n",
              "  "
            ]
          },
          "metadata": {},
          "execution_count": 48
        }
      ]
    },
    {
      "cell_type": "code",
      "source": [
        "len(df)"
      ],
      "metadata": {
        "colab": {
          "base_uri": "https://localhost:8080/"
        },
        "id": "-jpJDJg92fEq",
        "outputId": "a97c7a8b-6395-4583-d21c-5fd1f98997f2"
      },
      "execution_count": 49,
      "outputs": [
        {
          "output_type": "execute_result",
          "data": {
            "text/plain": [
              "37126"
            ]
          },
          "metadata": {},
          "execution_count": 49
        }
      ]
    },
    {
      "cell_type": "markdown",
      "source": [
        "## 2. Save extracted data to a document"
      ],
      "metadata": {
        "id": "UJlQNeo4xqez"
      }
    },
    {
      "cell_type": "code",
      "source": [
        "df.to_csv(\"/drive/My Drive/Colab Notebooks/Wed_Homework1/reviews_extracted_data.json\") # save extracted texts"
      ],
      "metadata": {
        "id": "fwEhfWET1fz3"
      },
      "execution_count": 30,
      "outputs": []
    },
    {
      "cell_type": "markdown",
      "source": [
        "# Data Pre-Processing Tasks"
      ],
      "metadata": {
        "id": "6IvzW7G9w8xN"
      }
    },
    {
      "cell_type": "markdown",
      "source": [
        "## 3. Pre-process reviewText data"
      ],
      "metadata": {
        "id": "KywF4K4Rxqt1"
      }
    },
    {
      "cell_type": "markdown",
      "source": [
        "### 3.1 Tokenization reviewText"
      ],
      "metadata": {
        "id": "rHUCL1CD0eZC"
      }
    },
    {
      "cell_type": "code",
      "source": [
        "# tokenize the text\n",
        "# I choose to tokenize because I want to count the frequency of each word\n",
        "import nltk\n",
        "nltk.download('punkt')\n",
        "from nltk.tokenize import word_tokenize\n",
        "from nltk.corpus import stopwords\n",
        "\n",
        "# Tokenize the reviewText and save to reviewText_token\n",
        "df['reviewText_token'] = df['reviewText'].apply(word_tokenize)"
      ],
      "metadata": {
        "colab": {
          "base_uri": "https://localhost:8080/"
        },
        "id": "zzeQxRgZyPDc",
        "outputId": "a29bf1ce-7990-4dbe-dbbb-2217fdfe86f8"
      },
      "execution_count": 51,
      "outputs": [
        {
          "output_type": "stream",
          "name": "stderr",
          "text": [
            "[nltk_data] Downloading package punkt to /root/nltk_data...\n",
            "[nltk_data]   Package punkt is already up-to-date!\n"
          ]
        }
      ]
    },
    {
      "cell_type": "markdown",
      "source": [
        "### 3.2 - 3.4 Make tokens lowercase; remove non-words, remove stopwords"
      ],
      "metadata": {
        "id": "iEEMhkbiyR6W"
      }
    },
    {
      "cell_type": "code",
      "source": [
        "nltk.download('stopwords')\n",
        "stop_words = set(stopwords.words('english'))\n",
        "\n",
        "# I lower cases because I want to count the same words in upper and lower cases together, which provide the same information\n",
        "df['reviewText_token'] = df['reviewText_token'].apply(lambda x: [item.lower() for item in x]) # use lower case\n",
        "\n",
        "# I remove non-words because I want to focus on the content words, and I want to remove the punctuations, numbers, and symbols, which are not helpful for my analysis\n",
        "df['reviewText_token'] = df['reviewText_token'].apply(lambda x: [item for item in x if item.isalpha()])# Only keep word tokens\n",
        "\n",
        "# I remove the stop words because they are not helpful for my analysis, they are not content words and provide no information\n",
        "df['reviewText_token'] = df['reviewText_token'].apply(lambda x: [item for item in x if item not in stop_words])# remove stop words"
      ],
      "metadata": {
        "id": "AB3ADlyq0YRn",
        "colab": {
          "base_uri": "https://localhost:8080/"
        },
        "outputId": "cd71dba5-16ca-4354-9ecb-48ffbe547325"
      },
      "execution_count": 52,
      "outputs": [
        {
          "output_type": "stream",
          "name": "stderr",
          "text": [
            "[nltk_data] Downloading package stopwords to /root/nltk_data...\n",
            "[nltk_data]   Package stopwords is already up-to-date!\n"
          ]
        }
      ]
    },
    {
      "cell_type": "code",
      "source": [
        "df[\"reviewText_token\"][0:5]"
      ],
      "metadata": {
        "colab": {
          "base_uri": "https://localhost:8080/"
        },
        "id": "hUENUmc91l1J",
        "outputId": "58865390-ad74-4df4-8b25-2675c8e369d0"
      },
      "execution_count": 53,
      "outputs": [
        {
          "output_type": "execute_result",
          "data": {
            "text/plain": [
              "0    [big, expectations, love, english, tv, particu...\n",
              "1    [highly, recommend, series, must, anyone, year...\n",
              "2    [one, real, snoozer, believe, anything, read, ...\n",
              "3    [mysteries, interesting, tension, robson, tall...\n",
              "4    [show, always, excellent, far, british, crime,...\n",
              "Name: reviewText_token, dtype: object"
            ]
          },
          "metadata": {},
          "execution_count": 53
        }
      ]
    },
    {
      "cell_type": "markdown",
      "source": [
        "### 3.5 Lemmatization "
      ],
      "metadata": {
        "id": "1PZGx30jzLHR"
      }
    },
    {
      "cell_type": "code",
      "source": [
        "# I use lemmatization because I want to count the same words in different inflections together\n",
        "from nltk.stem import WordNetLemmatizer\n",
        "nltk.download('wordnet')\n",
        "nltk.download('omw-1.4')\n",
        "lemmatizer = WordNetLemmatizer()\n",
        "df['reviewText_token'] = df['reviewText_token'].apply(lambda x: [lemmatizer.lemmatize(item) for item in x])"
      ],
      "metadata": {
        "id": "LW1Wg1e99RIg",
        "colab": {
          "base_uri": "https://localhost:8080/"
        },
        "outputId": "2e000785-f804-40c3-8ea9-6fa4526d39a7"
      },
      "execution_count": 54,
      "outputs": [
        {
          "output_type": "stream",
          "name": "stderr",
          "text": [
            "[nltk_data] Downloading package wordnet to /root/nltk_data...\n",
            "[nltk_data]   Package wordnet is already up-to-date!\n",
            "[nltk_data] Downloading package omw-1.4 to /root/nltk_data...\n",
            "[nltk_data]   Package omw-1.4 is already up-to-date!\n"
          ]
        }
      ]
    },
    {
      "cell_type": "code",
      "source": [
        "df[\"reviewText_token\"][0]"
      ],
      "metadata": {
        "colab": {
          "base_uri": "https://localhost:8080/"
        },
        "id": "wHyyq5DR1eDM",
        "outputId": "5fc48c24-ef74-40ad-e1eb-381989ba92c5"
      },
      "execution_count": 56,
      "outputs": [
        {
          "output_type": "execute_result",
          "data": {
            "text/plain": [
              "['big',\n",
              " 'expectation',\n",
              " 'love',\n",
              " 'english',\n",
              " 'tv',\n",
              " 'particular',\n",
              " 'investigative',\n",
              " 'detective',\n",
              " 'stuff',\n",
              " 'guy',\n",
              " 'really',\n",
              " 'boring',\n",
              " 'appeal']"
            ]
          },
          "metadata": {},
          "execution_count": 56
        }
      ]
    },
    {
      "cell_type": "code",
      "source": [
        "# merge the tokens to a list\n",
        "reviewText_token = []\n",
        "for i in range(len(df)):\n",
        "    reviewText_token.extend(df['reviewText_token'][i])\n"
      ],
      "metadata": {
        "id": "QRHLgAyCnK_2"
      },
      "execution_count": 57,
      "outputs": []
    },
    {
      "cell_type": "code",
      "source": [
        "len(reviewText_token) # lengthe of reviewText_token"
      ],
      "metadata": {
        "colab": {
          "base_uri": "https://localhost:8080/"
        },
        "id": "hSx6gBfV0KFx",
        "outputId": "ec541a87-0c1b-4fd9-e8a5-835facb128d4"
      },
      "execution_count": 58,
      "outputs": [
        {
          "output_type": "execute_result",
          "data": {
            "text/plain": [
              "1683720"
            ]
          },
          "metadata": {},
          "execution_count": 58
        }
      ]
    },
    {
      "cell_type": "code",
      "source": [
        "reviewText_token[1:3]"
      ],
      "metadata": {
        "colab": {
          "base_uri": "https://localhost:8080/"
        },
        "id": "6qfp6wx6ynhj",
        "outputId": "d3f0c5e3-8fe2-49f8-87f8-9025eda9ca48"
      },
      "execution_count": 59,
      "outputs": [
        {
          "output_type": "execute_result",
          "data": {
            "text/plain": [
              "['expectation', 'love']"
            ]
          },
          "metadata": {},
          "execution_count": 59
        }
      ]
    },
    {
      "cell_type": "markdown",
      "source": [
        "# 4. Pre-process summary data\n",
        "## 4.1 Tokenize summary data"
      ],
      "metadata": {
        "id": "7kCyD6CJyATz"
      }
    },
    {
      "cell_type": "code",
      "source": [
        "# Tokenize the summay and save to summray_token\n",
        "df['summary_token'] = df['summary'].apply(word_tokenize)"
      ],
      "metadata": {
        "id": "QQjx-LfxyPTD"
      },
      "execution_count": 60,
      "outputs": []
    },
    {
      "cell_type": "markdown",
      "source": [
        "### 4.2 - 4.4 Make tokens lowercase; remove non-words, remove stopwords"
      ],
      "metadata": {
        "id": "R4Oq4wxMyKPx"
      }
    },
    {
      "cell_type": "code",
      "source": [
        "df['summary_token'] = df['summary_token'].apply(lambda x: [item.lower() for item in x]) # use lower case\n",
        "df['summary_token'] = df['summary_token'].apply(lambda x: [item for item in x if item.isalpha()])# Only keep word tokens\n",
        "df['summary_token'] = df['summary_token'].apply(lambda x: [item for item in x if item not in stop_words])# remove stop words"
      ],
      "metadata": {
        "id": "tjQHUqQXysOe"
      },
      "execution_count": 61,
      "outputs": []
    },
    {
      "cell_type": "markdown",
      "source": [
        "### 4.5 Lemmatization summary"
      ],
      "metadata": {
        "id": "EyepK9oVyMM_"
      }
    },
    {
      "cell_type": "code",
      "source": [
        "df['summary_token'] = df['summary_token'].apply(lambda x: [lemmatizer.lemmatize(item) for item in x])"
      ],
      "metadata": {
        "id": "JTqIBhpVzDcs"
      },
      "execution_count": 62,
      "outputs": []
    },
    {
      "cell_type": "code",
      "source": [
        "summary_token = []\n",
        "for i in range(len(df)):\n",
        "    summary_token.extend(df['summary_token'][i])"
      ],
      "metadata": {
        "id": "gWG1kYR_0dgM"
      },
      "execution_count": 63,
      "outputs": []
    },
    {
      "cell_type": "code",
      "source": [
        "len(summary_token)"
      ],
      "metadata": {
        "colab": {
          "base_uri": "https://localhost:8080/"
        },
        "id": "0q7VIOAp5Ikf",
        "outputId": "d5957c4c-29d1-4755-b49e-13f135b6d67b"
      },
      "execution_count": 64,
      "outputs": [
        {
          "output_type": "execute_result",
          "data": {
            "text/plain": [
              "104879"
            ]
          },
          "metadata": {},
          "execution_count": 64
        }
      ]
    },
    {
      "cell_type": "code",
      "source": [
        "summary_token[0:5]"
      ],
      "metadata": {
        "colab": {
          "base_uri": "https://localhost:8080/"
        },
        "id": "MfiJHSyz5N4J",
        "outputId": "ddd2abb6-913c-49be-9425-527a2b7acfb3"
      },
      "execution_count": 65,
      "outputs": [
        {
          "output_type": "execute_result",
          "data": {
            "text/plain": [
              "['little', 'bit', 'boring', 'excellent', 'grown']"
            ]
          },
          "metadata": {},
          "execution_count": 65
        }
      ]
    },
    {
      "cell_type": "code",
      "source": [
        "df.to_csv(\"/drive/My Drive/Colab Notebooks/Wed_Homework1/reviews_pre-processed_data.json\") # save pre-processed texts"
      ],
      "metadata": {
        "id": "15Qv5RBNEEuu"
      },
      "execution_count": 75,
      "outputs": []
    },
    {
      "cell_type": "markdown",
      "source": [
        "## List top 50 words by frequency\n",
        "\n"
      ],
      "metadata": {
        "id": "MV4A6JKmE79c"
      }
    },
    {
      "cell_type": "code",
      "source": [
        "# list the top 50 words for reviewText\n",
        "from nltk import FreqDist\n",
        "fdist = FreqDist(reviewText_token) \n",
        "counter = 0\n",
        "for word, frequency in fdist.most_common(50):\n",
        "    print(word+\",\", end=\" \")\n",
        "    counter += 1\n",
        "    if counter % 10 == 0:  # print ten words a line\n",
        "        print(\"\")"
      ],
      "metadata": {
        "colab": {
          "base_uri": "https://localhost:8080/"
        },
        "id": "4WoZxVYHE7D6",
        "outputId": "c3245a85-3fb3-468b-90e0-4701892dc10a"
      },
      "execution_count": 121,
      "outputs": [
        {
          "output_type": "stream",
          "name": "stdout",
          "text": [
            "show, season, one, like, character, series, episode, good, great, story, \n",
            "love, get, really, movie, watch, time, would, see, film, well, \n",
            "make, much, first, watching, people, even, way, thing, think, could, \n",
            "new, also, know, go, two, interesting, life, better, little, tv, \n",
            "many, still, actor, plot, end, best, lot, acting, keep, going, \n"
          ]
        }
      ]
    },
    {
      "cell_type": "code",
      "source": [
        "# list the top 50 words for summary\n",
        "from nltk import FreqDist\n",
        "fdist_summary = FreqDist(summary_token) \n",
        "counter = 0\n",
        "for word, frequency in fdist_summary.most_common(50):\n",
        "    print(word+\",\", end=\" \")\n",
        "    counter += 1\n",
        "    if counter % 10 == 0:  # print ten words a line\n",
        "        print(\"\")"
      ],
      "metadata": {
        "colab": {
          "base_uri": "https://localhost:8080/"
        },
        "id": "eQ2BTYdzHl2x",
        "outputId": "51652209-8b28-4271-acf0-65893e62bbee"
      },
      "execution_count": 122,
      "outputs": [
        {
          "output_type": "stream",
          "name": "stdout",
          "text": [
            "show, great, good, season, love, series, best, one, fun, like, \n",
            "better, movie, interesting, funny, star, tv, excellent, watch, story, awesome, \n",
            "really, episode, entertaining, new, time, get, drama, still, well, bad, \n",
            "another, character, see, favorite, loved, ever, watching, first, review, much, \n",
            "worth, film, keep, little, ok, kid, amazing, ca, five, could, \n"
          ]
        }
      ]
    },
    {
      "cell_type": "markdown",
      "source": [
        "## List top 50 bigrams by frequency"
      ],
      "metadata": {
        "id": "9QVS0ZB-H0hu"
      }
    },
    {
      "cell_type": "code",
      "source": [
        "# tokenize the bigram of reviewText\n",
        "from nltk.util import ngrams\n",
        "reviewText_bigram = ngrams(reviewText_token, 2)\n",
        "fdist2 = FreqDist(reviewText_bigram)\n",
        "fdist2.most_common(50)\n",
        "# print the top 50 bigrams\n",
        "result = []\n",
        "counter  = 0\n",
        "for word, frequency in fdist2.most_common(50):\n",
        "    print(word[0]+\" \"+word[1]+\",\", end = \" \")\n",
        "    result.append(word[0]+\" \"+word[1]) # merge two words together, so it is much clear\n",
        "    counter += 1\n",
        "    if counter % 10 == 0:  # print ten words a line\n",
        "        print(\"\")"
      ],
      "metadata": {
        "colab": {
          "base_uri": "https://localhost:8080/"
        },
        "id": "ZBF_-uZTHlEq",
        "outputId": "cfb406a7-6fce-4a39-fcc6-7bccab188fe0"
      },
      "execution_count": 71,
      "outputs": [
        {
          "output_type": "stream",
          "name": "stdout",
          "text": [
            "story line, love show, first season, great show, ca wait, first episode, main character, season one, tv show, second season, \n",
            "well done, one best, like show, show like, every episode, worth watching, good show, even though, looking forward, well written, \n",
            "year old, really like, really good, watch show, highly recommend, next season, look like, show great, amazon prime, feel like, \n",
            "season two, character development, bad guy, look forward, tv series, episode season, fun watch, special effect, one favorite, would recommend, \n",
            "really enjoyed, watching show, would like, show really, show good, much better, pretty good, season show, wait see, get better, \n"
          ]
        }
      ]
    },
    {
      "cell_type": "code",
      "source": [
        "# tokenize the bigram of summary\n",
        "from nltk.util import ngrams\n",
        "summary_bigram = ngrams(summary_token, 2)\n",
        "summary_fdist2 = FreqDist(summary_bigram)\n",
        "summary_fdist2.most_common(50)\n",
        "# print the top 50 bigrams\n",
        "counter  = 0\n",
        "summary_result = []\n",
        "for word, frequency in summary_fdist2.most_common(50):\n",
        "    print(word[0]+\" \"+word[1]+\",\", end = \" \")\n",
        "    summary_result.append(word[0]+\" \"+word[1]) # merge two words together, so it is clear\n",
        "    counter += 1\n",
        "    if counter % 10 == 0:  # print ten words a line\n",
        "        print(\"\")"
      ],
      "metadata": {
        "colab": {
          "base_uri": "https://localhost:8080/"
        },
        "id": "Je4WyvTwOKNZ",
        "outputId": "5a6365ac-2134-42af-96a7-fffe1eb82b56"
      },
      "execution_count": 72,
      "outputs": [
        {
          "output_type": "stream",
          "name": "stdout",
          "text": [
            "great show, love show, good show, great series, show great, one best, best show, show love, five star, season great, \n",
            "great season, show good, good series, love love, series great, tv show, getting better, first season, well done, love series, \n",
            "pretty good, season one, fun show, favorite show, show ever, awesome show, worth watching, season good, another great, get better, \n",
            "season love, good season, one favorite, show tv, best season, series good, tv series, must see, ca wait, story line, \n",
            "second season, good great, keep getting, excellent show, fun watch, good story, good movie, really good, excellent series, love great, \n"
          ]
        }
      ]
    },
    {
      "cell_type": "markdown",
      "source": [
        "## List the top 50 bigrams by their mutual information score"
      ],
      "metadata": {
        "id": "87QtE1C6NKoo"
      }
    },
    {
      "cell_type": "code",
      "source": [
        "# list the top 50 bigrams of reviewText by their mutual information score\n",
        "from nltk.collocations import BigramAssocMeasures, BigramCollocationFinder\n",
        "bigram_measures = nltk.collocations.BigramAssocMeasures() # bigram measurer\n",
        "finder = BigramCollocationFinder.from_words(reviewText_token) # initialized with the tokens\n",
        "\n",
        "finder.apply_freq_filter(5) # only bigrams that appear 5+ times\n",
        "scored = finder.score_ngrams(bigram_measures.pmi) # PMI is a measure of interestingness that allows us to score each bigram.\n",
        "for bscore in scored[:50]:\n",
        "    print (bscore)"
      ],
      "metadata": {
        "colab": {
          "base_uri": "https://localhost:8080/"
        },
        "id": "7JzQyySgNK6i",
        "outputId": "377dc8a3-3eb6-4450-b9bd-0be62e51aaaf"
      },
      "execution_count": 73,
      "outputs": [
        {
          "output_type": "stream",
          "name": "stdout",
          "text": [
            "(('cariba', 'heine'), 18.361292714861253)\n",
            "(('embeth', 'davidtz'), 18.361292714861253)\n",
            "(('erland', 'tosterud'), 18.361292714861253)\n",
            "(('glynn', 'turman'), 18.361292714861253)\n",
            "(('pomerantz', 'audioworld'), 18.361292714861253)\n",
            "(('shia', 'labeouf'), 18.361292714861253)\n",
            "(('donal', 'logue'), 18.09825830902746)\n",
            "(('horton', 'foote'), 18.09825830902746)\n",
            "(('karan', 'soni'), 18.09825830902746)\n",
            "(('leticia', 'dolera'), 18.09825830902746)\n",
            "(('parminder', 'nagra'), 18.09825830902746)\n",
            "(('sami', 'gayle'), 18.09825830902746)\n",
            "(('cch', 'pounder'), 18.098258309027457)\n",
            "(('elyse', 'levesque'), 18.098258309027457)\n",
            "(('ginnifer', 'goodwin'), 18.098258309027457)\n",
            "(('hatfields', 'mccoys'), 18.098258309027457)\n",
            "(('oded', 'fehr'), 18.098258309027457)\n",
            "(('oprah', 'winfrey'), 18.098258309027457)\n",
            "(('viet', 'nam'), 18.098258309027457)\n",
            "(('zeljko', 'ivanek'), 18.098258309027457)\n",
            "(('alyson', 'hannigan'), 17.875865887691013)\n",
            "(('anamaria', 'marinca'), 17.875865887691013)\n",
            "(('bret', 'easton'), 17.875865887691013)\n",
            "(('laetitia', 'casta'), 17.875865887691013)\n",
            "(('autumn', 'reeser'), 17.87586588769101)\n",
            "(('elia', 'koteas'), 17.87586588769101)\n",
            "(('hiroyuki', 'sanada'), 17.87586588769101)\n",
            "(('xan', 'cassavetes'), 17.87586588769101)\n",
            "(('ato', 'essandoh'), 17.835223903193665)\n",
            "(('franck', 'khalfoun'), 17.835223903193665)\n",
            "(('paulo', 'costanzo'), 17.835223903193665)\n",
            "(('alaina', 'huffman'), 17.68322080974862)\n",
            "(('caity', 'lotz'), 17.68322080974862)\n",
            "(('guillaume', 'canet'), 17.68322080974862)\n",
            "(('pauley', 'perrette'), 17.68322080974862)\n",
            "(('ashton', 'kutcher'), 17.683220809748615)\n",
            "(('cobie', 'smulders'), 17.683220809748615)\n",
            "(('koji', 'yakusho'), 17.683220809748615)\n",
            "(('alexia', 'landeau'), 17.612831481857217)\n",
            "(('kether', 'donohue'), 17.612831481857217)\n",
            "(('marisa', 'tomei'), 17.612831481857217)\n",
            "(('ali', 'larter'), 17.513295808306303)\n",
            "(('betsy', 'brandt'), 17.513295808306303)\n",
            "(('blythe', 'danner'), 17.513295808306303)\n",
            "(('dominique', 'mcelligott'), 17.513295808306303)\n",
            "(('doris', 'lessing'), 17.513295808306303)\n",
            "(('pinewood', 'derby'), 17.513295808306303)\n",
            "(('romola', 'garai'), 17.513295808306303)\n",
            "(('witching', 'bitching'), 17.513295808306303)\n",
            "(('eran', 'creevy'), 17.49057573180622)\n"
          ]
        }
      ]
    },
    {
      "cell_type": "code",
      "source": [
        "# list the top 50 bigrams by their mutual information score for summary\n",
        "from nltk.collocations import BigramAssocMeasures, BigramCollocationFinder\n",
        "bigram_measures = nltk.collocations.BigramAssocMeasures() # bigram measurer\n",
        "finder1 = BigramCollocationFinder.from_words(summary_token) # initialized with the tokens\n",
        "\n",
        "finder1.apply_freq_filter(5) # only bigrams that appear 5+ times\n",
        "scored = finder1.score_ngrams(bigram_measures.pmi) # PMI is a measure of interestingness that allows us to score each bigram.\n",
        "for bscore in scored[:50]:\n",
        "    print (bscore)"
      ],
      "metadata": {
        "colab": {
          "base_uri": "https://localhost:8080/"
        },
        "id": "6qKpLS6LVWSl",
        "outputId": "1d14f5e8-be32-4d00-82fd-ee3b5f09b929"
      },
      "execution_count": 74,
      "outputs": [
        {
          "output_type": "stream",
          "name": "stdout",
          "text": [
            "(('jeffrey', 'tambor'), 14.356438214482637)\n",
            "(('bubble', 'guppy'), 13.871011387312393)\n",
            "(('clich', 'eacute'), 13.871011387312393)\n",
            "(('cliff', 'hanger'), 13.871011387312393)\n",
            "(('natalie', 'zea'), 13.871011387312393)\n",
            "(('bering', 'sea'), 13.678366309369999)\n",
            "(('rizzoli', 'isle'), 13.648618965975945)\n",
            "(('helen', 'mirren'), 13.508441307927686)\n",
            "(('ho', 'hum'), 13.356438214482637)\n",
            "(('hart', 'dixie'), 13.245406902093892)\n",
            "(('battlestar', 'galactica'), 13.218934690732702)\n",
            "(('rise', 'candleford'), 13.2189346907327)\n",
            "(('titus', 'welliver'), 13.093403808648844)\n",
            "(('simon', 'baker'), 13.093403808648842)\n",
            "(('kevin', 'bacon'), 13.06693159728765)\n",
            "(('louie', 'ck'), 13.023014480757443)\n",
            "(('tangled', 'web'), 13.00029440425736)\n",
            "(('lark', 'rise'), 12.996542269396251)\n",
            "(('richard', 'gere'), 12.977926591228906)\n",
            "(('sarah', 'shahi'), 12.977926591228906)\n",
            "(('sleepy', 'hollow'), 12.977926591228906)\n",
            "(('tear', 'jerker'), 12.977926591228906)\n",
            "(('royal', 'pain'), 12.871011387312395)\n",
            "(('grey', 'anatomy'), 12.871011387312393)\n",
            "(('morgan', 'freeman'), 12.871011387312393)\n",
            "(('alton', 'brown'), 12.830369402815048)\n",
            "(('pride', 'prejudice'), 12.733507863562458)\n",
            "(('charles', 'dickens'), 12.714892185395112)\n",
            "(('benedict', 'cumberbatch'), 12.508441307927686)\n",
            "(('came', 'bran'), 12.508441307927686)\n",
            "(('daniel', 'tiger'), 12.481969096566493)\n",
            "(('timothy', 'olyphant'), 12.385584560142153)\n",
            "(('jumped', 'shark'), 12.368511046783208)\n",
            "(('cup', 'tea'), 12.34797663573444)\n",
            "(('beauty', 'beast'), 12.315796229985292)\n",
            "(('shaun', 'sheep'), 12.263328810091155)\n",
            "(('train', 'wreck'), 12.223987918458985)\n",
            "(('gon', 'na'), 12.2189346907327)\n",
            "(('london', 'hospital'), 12.192939482199757)\n",
            "(('chris', 'carter'), 12.160518004507377)\n",
            "(('blu', 'ray'), 11.974232107671165)\n",
            "(('historically', 'accurate'), 11.938826771539969)\n",
            "(('matt', 'smith'), 11.92347880720653)\n",
            "(('matt', 'bomer'), 11.923478807206529)\n",
            "(('project', 'runway'), 11.871011387312393)\n",
            "(('professional', 'depth'), 11.830369402815048)\n",
            "(('david', 'suchet'), 11.808001589786594)\n",
            "(('csi', 'miami'), 11.771475713761479)\n",
            "(('creature', 'feature'), 11.752366890813775)\n",
            "(('jack', 'bauer'), 11.73976685403414)\n"
          ]
        }
      ]
    },
    {
      "cell_type": "markdown",
      "source": [
        "## List the top 50 content words in the context of the word “video” or “videos” in the reviewTexts"
      ],
      "metadata": {
        "id": "vK_QxtBikvQn"
      }
    },
    {
      "cell_type": "code",
      "source": [
        "# filter the reviewTexts if they contain the word \"video\" or \"videos\"\n",
        "df_video = df[df['reviewText'].str.contains(\"video|videos\", case = False)] # include upper cases\n",
        "len(df_video)"
      ],
      "metadata": {
        "id": "YhgOziYFkvhT",
        "colab": {
          "base_uri": "https://localhost:8080/"
        },
        "outputId": "46b8b286-4092-4a92-df2f-d0b89ed6bb73"
      },
      "execution_count": 93,
      "outputs": [
        {
          "output_type": "execute_result",
          "data": {
            "text/plain": [
              "926"
            ]
          },
          "metadata": {},
          "execution_count": 93
        }
      ]
    },
    {
      "cell_type": "code",
      "source": [
        "df_video.head(2)"
      ],
      "metadata": {
        "id": "KhT0zbJivlY2",
        "colab": {
          "base_uri": "https://localhost:8080/",
          "height": 112
        },
        "outputId": "a7878393-b8b0-480f-ee6b-9c1e49874d21"
      },
      "execution_count": 94,
      "outputs": [
        {
          "output_type": "execute_result",
          "data": {
            "text/plain": [
              "                                           reviewText  overall  \\\n",
              "46  funny thing. My brother's been trying to get m...      4.0   \n",
              "69  Love the show. Period. Have just finished watc...      5.0   \n",
              "\n",
              "                                           summary  \\\n",
              "46              It's Always Sunny in New Hampshire   \n",
              "69  Best show still in production on Broadcast TV?   \n",
              "\n",
              "                                     reviewText_token  \\\n",
              "46  [funny, thing, brother, trying, get, watch, sh...   \n",
              "69  [love, show, period, finished, watching, first...   \n",
              "\n",
              "                                     summary_token  \n",
              "46                 [always, sunny, new, hampshire]  \n",
              "69  [best, show, still, production, broadcast, tv]  "
            ],
            "text/html": [
              "\n",
              "  <div id=\"df-10d8d1b5-3d78-4507-87bc-05689d123811\">\n",
              "    <div class=\"colab-df-container\">\n",
              "      <div>\n",
              "<style scoped>\n",
              "    .dataframe tbody tr th:only-of-type {\n",
              "        vertical-align: middle;\n",
              "    }\n",
              "\n",
              "    .dataframe tbody tr th {\n",
              "        vertical-align: top;\n",
              "    }\n",
              "\n",
              "    .dataframe thead th {\n",
              "        text-align: right;\n",
              "    }\n",
              "</style>\n",
              "<table border=\"1\" class=\"dataframe\">\n",
              "  <thead>\n",
              "    <tr style=\"text-align: right;\">\n",
              "      <th></th>\n",
              "      <th>reviewText</th>\n",
              "      <th>overall</th>\n",
              "      <th>summary</th>\n",
              "      <th>reviewText_token</th>\n",
              "      <th>summary_token</th>\n",
              "    </tr>\n",
              "  </thead>\n",
              "  <tbody>\n",
              "    <tr>\n",
              "      <th>46</th>\n",
              "      <td>funny thing. My brother's been trying to get m...</td>\n",
              "      <td>4.0</td>\n",
              "      <td>It's Always Sunny in New Hampshire</td>\n",
              "      <td>[funny, thing, brother, trying, get, watch, sh...</td>\n",
              "      <td>[always, sunny, new, hampshire]</td>\n",
              "    </tr>\n",
              "    <tr>\n",
              "      <th>69</th>\n",
              "      <td>Love the show. Period. Have just finished watc...</td>\n",
              "      <td>5.0</td>\n",
              "      <td>Best show still in production on Broadcast TV?</td>\n",
              "      <td>[love, show, period, finished, watching, first...</td>\n",
              "      <td>[best, show, still, production, broadcast, tv]</td>\n",
              "    </tr>\n",
              "  </tbody>\n",
              "</table>\n",
              "</div>\n",
              "      <button class=\"colab-df-convert\" onclick=\"convertToInteractive('df-10d8d1b5-3d78-4507-87bc-05689d123811')\"\n",
              "              title=\"Convert this dataframe to an interactive table.\"\n",
              "              style=\"display:none;\">\n",
              "        \n",
              "  <svg xmlns=\"http://www.w3.org/2000/svg\" height=\"24px\"viewBox=\"0 0 24 24\"\n",
              "       width=\"24px\">\n",
              "    <path d=\"M0 0h24v24H0V0z\" fill=\"none\"/>\n",
              "    <path d=\"M18.56 5.44l.94 2.06.94-2.06 2.06-.94-2.06-.94-.94-2.06-.94 2.06-2.06.94zm-11 1L8.5 8.5l.94-2.06 2.06-.94-2.06-.94L8.5 2.5l-.94 2.06-2.06.94zm10 10l.94 2.06.94-2.06 2.06-.94-2.06-.94-.94-2.06-.94 2.06-2.06.94z\"/><path d=\"M17.41 7.96l-1.37-1.37c-.4-.4-.92-.59-1.43-.59-.52 0-1.04.2-1.43.59L10.3 9.45l-7.72 7.72c-.78.78-.78 2.05 0 2.83L4 21.41c.39.39.9.59 1.41.59.51 0 1.02-.2 1.41-.59l7.78-7.78 2.81-2.81c.8-.78.8-2.07 0-2.86zM5.41 20L4 18.59l7.72-7.72 1.47 1.35L5.41 20z\"/>\n",
              "  </svg>\n",
              "      </button>\n",
              "      \n",
              "  <style>\n",
              "    .colab-df-container {\n",
              "      display:flex;\n",
              "      flex-wrap:wrap;\n",
              "      gap: 12px;\n",
              "    }\n",
              "\n",
              "    .colab-df-convert {\n",
              "      background-color: #E8F0FE;\n",
              "      border: none;\n",
              "      border-radius: 50%;\n",
              "      cursor: pointer;\n",
              "      display: none;\n",
              "      fill: #1967D2;\n",
              "      height: 32px;\n",
              "      padding: 0 0 0 0;\n",
              "      width: 32px;\n",
              "    }\n",
              "\n",
              "    .colab-df-convert:hover {\n",
              "      background-color: #E2EBFA;\n",
              "      box-shadow: 0px 1px 2px rgba(60, 64, 67, 0.3), 0px 1px 3px 1px rgba(60, 64, 67, 0.15);\n",
              "      fill: #174EA6;\n",
              "    }\n",
              "\n",
              "    [theme=dark] .colab-df-convert {\n",
              "      background-color: #3B4455;\n",
              "      fill: #D2E3FC;\n",
              "    }\n",
              "\n",
              "    [theme=dark] .colab-df-convert:hover {\n",
              "      background-color: #434B5C;\n",
              "      box-shadow: 0px 1px 3px 1px rgba(0, 0, 0, 0.15);\n",
              "      filter: drop-shadow(0px 1px 2px rgba(0, 0, 0, 0.3));\n",
              "      fill: #FFFFFF;\n",
              "    }\n",
              "  </style>\n",
              "\n",
              "      <script>\n",
              "        const buttonEl =\n",
              "          document.querySelector('#df-10d8d1b5-3d78-4507-87bc-05689d123811 button.colab-df-convert');\n",
              "        buttonEl.style.display =\n",
              "          google.colab.kernel.accessAllowed ? 'block' : 'none';\n",
              "\n",
              "        async function convertToInteractive(key) {\n",
              "          const element = document.querySelector('#df-10d8d1b5-3d78-4507-87bc-05689d123811');\n",
              "          const dataTable =\n",
              "            await google.colab.kernel.invokeFunction('convertToInteractive',\n",
              "                                                     [key], {});\n",
              "          if (!dataTable) return;\n",
              "\n",
              "          const docLinkHtml = 'Like what you see? Visit the ' +\n",
              "            '<a target=\"_blank\" href=https://colab.research.google.com/notebooks/data_table.ipynb>data table notebook</a>'\n",
              "            + ' to learn more about interactive tables.';\n",
              "          element.innerHTML = '';\n",
              "          dataTable['output_type'] = 'display_data';\n",
              "          await google.colab.output.renderOutput(dataTable, element);\n",
              "          const docLink = document.createElement('div');\n",
              "          docLink.innerHTML = docLinkHtml;\n",
              "          element.appendChild(docLink);\n",
              "        }\n",
              "      </script>\n",
              "    </div>\n",
              "  </div>\n",
              "  "
            ]
          },
          "metadata": {},
          "execution_count": 94
        }
      ]
    },
    {
      "cell_type": "code",
      "source": [
        "# merge tokens with video/videos to a list\n",
        "reviewText_video_token = []\n",
        "for list1 in df_video['reviewText_token']:\n",
        "    reviewText_video_token.extend(list1)\n",
        "\n",
        "len(reviewText_video_token)"
      ],
      "metadata": {
        "id": "PL9rCKQt41eQ",
        "colab": {
          "base_uri": "https://localhost:8080/"
        },
        "outputId": "9c4d4013-6fbe-42db-fdd3-7156c9cc2c70"
      },
      "execution_count": 101,
      "outputs": [
        {
          "output_type": "execute_result",
          "data": {
            "text/plain": [
              "117640"
            ]
          },
          "metadata": {},
          "execution_count": 101
        }
      ]
    },
    {
      "cell_type": "code",
      "source": [
        "# use POS tagging to filter the content words\n",
        "nltk.download('averaged_perceptron_tagger')\n",
        "from nltk import pos_tag\n",
        "pos_tagged_words = pos_tag(reviewText_video_token)\n",
        "\n",
        "# list all the unique POS tags\n",
        "tags = set([pos for word, pos in pos_tagged_words])\n",
        "print(tags)"
      ],
      "metadata": {
        "colab": {
          "base_uri": "https://localhost:8080/"
        },
        "id": "xonmfxnXJRJm",
        "outputId": "f35f0108-8785-4412-ff12-e18cfce5f25e"
      },
      "execution_count": 103,
      "outputs": [
        {
          "output_type": "stream",
          "name": "stderr",
          "text": [
            "[nltk_data] Downloading package averaged_perceptron_tagger to\n",
            "[nltk_data]     /root/nltk_data...\n",
            "[nltk_data]   Package averaged_perceptron_tagger is already up-to-\n",
            "[nltk_data]       date!\n"
          ]
        },
        {
          "output_type": "stream",
          "name": "stdout",
          "text": [
            "{'CD', 'WDT', 'WRB', 'RB', 'NNS', 'PRP', 'VB', 'WP', 'RBR', 'VBN', 'JJS', 'JJ', 'UH', 'VBG', 'VBD', 'DT', 'EX', 'WP$', 'VBZ', 'MD', 'IN', 'NN', 'PRP$', 'JJR', 'PDT', 'VBP', 'RBS', 'TO', 'NNP', 'CC', 'FW', 'RP'}\n"
          ]
        }
      ]
    },
    {
      "cell_type": "markdown",
      "source": [
        "non-content words are: 'CD', 'WDT', 'WRB', 'PRP', 'WP', 'UH', 'DT', 'WP\\$', 'MD', 'IN', 'PRP\\$', 'TO', 'CC', 'FW', 'RP'.\n",
        "\n",
        "    \n",
        "content words are: 'RB', 'NNS', 'VB', 'RBR', 'VBN', 'JJS', 'JJ', 'JJR', 'VBG', 'VBD', 'VBZ', 'NN', 'JJR', 'VBP', 'RBS', 'NNP'."
      ],
      "metadata": {
        "id": "mEqzbhmtMcBC"
      }
    },
    {
      "cell_type": "code",
      "source": [
        "content_words = [word for word, pos in pos_tagged_words if pos in ['RB', 'NNS', 'VB', 'RBR', 'VBN', 'JJS', 'JJ', 'JJR', 'VBG', 'VBD', 'VBZ', 'NN', 'JJR', 'VBP', 'RBS', 'NNP']]\n",
        "\n",
        "fdist_video = FreqDist(content_words)\n",
        "fdist_video.most_common(50)\n",
        "# print the top 50 words\n",
        "counter = 0\n",
        "for word, frequency in fdist_video.most_common(50):\n",
        "    print(word+\",\", end = \" \")\n",
        "    counter += 1\n",
        "    if counter % 25 == 0:  # print ten words a line\n",
        "        print(\"\")\n",
        "    "
      ],
      "metadata": {
        "colab": {
          "base_uri": "https://localhost:8080/"
        },
        "id": "cpFAIKqZMRWO",
        "outputId": "79c4b907-aab4-4be2-c2d1-e20ca128d52e"
      },
      "execution_count": 124,
      "outputs": [
        {
          "output_type": "stream",
          "name": "stdout",
          "text": [
            "video, show, film, season, episode, series, movie, character, get, time, good, story, really, see, watch, first, make, well, much, also, great, thing, go, even, scene, \n",
            "amazon, new, know, people, love, dvd, come, way, look, tv, watching, find, work, many, better, think, feature, life, take, year, end, cast, want, still, going, \n"
          ]
        }
      ]
    },
    {
      "cell_type": "code",
      "source": [
        "len(content_words)"
      ],
      "metadata": {
        "colab": {
          "base_uri": "https://localhost:8080/"
        },
        "id": "0HLCvEj7KD-w",
        "outputId": "a94beed3-36c8-4f17-e62a-21ab56582951"
      },
      "execution_count": 107,
      "outputs": [
        {
          "output_type": "execute_result",
          "data": {
            "text/plain": [
              "111258"
            ]
          },
          "metadata": {},
          "execution_count": 107
        }
      ]
    },
    {
      "cell_type": "markdown",
      "source": [
        "## List the top 50 content words in the context of the word “video” or “videos” in the reviewTexts for each overall rating"
      ],
      "metadata": {
        "id": "wJohvd5-64Ku"
      }
    },
    {
      "cell_type": "markdown",
      "source": [
        "### (1) Overall rating *1.0*"
      ],
      "metadata": {
        "id": "zcuwqggv7Kta"
      }
    },
    {
      "cell_type": "code",
      "source": [
        "df_video_1 = df_video[df_video['overall'] == 1] # filter the data with rating 1\n",
        "\n",
        "# merge tokens with video/videos to a list\n",
        "reviewText_video_token_1 = []\n",
        "for i in df_video_1['reviewText_token']:\n",
        "    reviewText_video_token_1.extend(i)\n",
        "pos_tagged_words_1 = pos_tag(reviewText_video_token_1)\n",
        "content_works_tag = ['RB','NNS','VB','RBR','VBN','JJS','JJ','JJR','VBG','VBD','VBZ','NN','JJR','VBP','RBS','NNP']\n",
        "content_words_1 = [word for word, pos in pos_tagged_words_1 if pos in content_works_tag]\n",
        "\n",
        "fdist_video_1 = FreqDist(content_words_1) \n",
        "\n",
        "counter=0\n",
        "word1 = []\n",
        "for word, frequency in fdist_video_1.most_common(50):\n",
        "    word1.append(word)\n",
        "    print(word+\",\", end = \" \")\n",
        "    counter += 1\n",
        "    if counter % 15 == 0:  # print ten words a line\n",
        "        print(\"\")\n",
        "    \n"
      ],
      "metadata": {
        "colab": {
          "base_uri": "https://localhost:8080/"
        },
        "id": "Lc71Tb3f63ZP",
        "outputId": "80dcb9e1-520a-4f93-d28c-2ad804e5b166"
      },
      "execution_count": 128,
      "outputs": [
        {
          "output_type": "stream",
          "name": "stdout",
          "text": [
            "movie, video, film, get, bad, character, time, people, dvd, even, make, see, watch, season, episode, \n",
            "know, really, story, way, amazon, go, camera, horror, money, thing, think, good, look, better, first, \n",
            "actor, minute, show, watching, nothing, star, come, anything, want, much, say, space, scene, guy, made, \n",
            "find, take, year, acting, new, "
          ]
        }
      ]
    },
    {
      "cell_type": "markdown",
      "source": [
        "### (2) Overall rating *2.0*"
      ],
      "metadata": {
        "id": "Hvfo4ToE8OtO"
      }
    },
    {
      "cell_type": "code",
      "source": [
        "df_video_2 = df_video[df_video['overall'] == 2] # filter the data with rating 2\n",
        "\n",
        "# merge tokens with video/videos to a list\n",
        "reviewText_video_token_2 = []\n",
        "for i in df_video_2['reviewText_token']:\n",
        "    reviewText_video_token_2.extend(i)\n",
        "pos_tagged_words_2 = pos_tag(reviewText_video_token_2)\n",
        "content_words_2 = [word for word, pos in pos_tagged_words_2 if pos in content_works_tag]\n",
        "\n",
        "\n",
        "fdist_video_2 = FreqDist(content_words_2) \n",
        "\n",
        "counter=0\n",
        "word2 = []\n",
        "for word, frequency in fdist_video_2.most_common(50):\n",
        "    word2.append(word)\n",
        "    print(word+\",\", end = \" \")\n",
        "    counter += 1\n",
        "    if counter % 10 == 0:  # print ten words a line\n",
        "        print(\"\")\n",
        "    "
      ],
      "metadata": {
        "colab": {
          "base_uri": "https://localhost:8080/"
        },
        "id": "h6b5hW2_8PBg",
        "outputId": "fde07ee0-8bd0-488d-b8be-fc92807161c0"
      },
      "execution_count": 130,
      "outputs": [
        {
          "output_type": "stream",
          "name": "stdout",
          "text": [
            "film, movie, video, story, show, character, much, make, really, good, \n",
            "time, get, scene, go, found, thing, way, even, see, footage, \n",
            "know, first, vampire, car, watch, also, plot, people, come, feel, \n",
            "episode, seems, minute, better, take, something, well, review, made, little, \n",
            "look, think, bad, however, new, still, work, horror, find, great, \n"
          ]
        }
      ]
    },
    {
      "cell_type": "markdown",
      "source": [
        "### (3) Overall rating *3.0*"
      ],
      "metadata": {
        "id": "ORwsiF028q4O"
      }
    },
    {
      "cell_type": "code",
      "source": [
        "df_video_3 = df_video[df_video['overall'] == 3] # filter the data with rating 3\n",
        "\n",
        "# merge tokens with video/videos to a list\n",
        "reviewText_video_token_3 = []\n",
        "for i in df_video_3['reviewText_token']:\n",
        "    reviewText_video_token_3.extend(i)\n",
        "pos_tagged_words_3 = pos_tag(reviewText_video_token_3)\n",
        "content_words_3 = [word for word, pos in pos_tagged_words_3 if pos in content_works_tag]\n",
        "\n",
        "fdist_video_3 = FreqDist(content_words_3) \n",
        "\n",
        "counter=0\n",
        "word3 = []\n",
        "for word, frequency in fdist_video_3.most_common(50):\n",
        "    word3.append(word)\n",
        "    print(word+\",\", end = \" \")\n",
        "    counter += 1\n",
        "    if counter % 10 == 0:  # print ten words a line\n",
        "        print(\"\")"
      ],
      "metadata": {
        "colab": {
          "base_uri": "https://localhost:8080/"
        },
        "id": "WWHlSF4C8mn7",
        "outputId": "abeab431-0f01-4650-b279-bd4937bbb344"
      },
      "execution_count": 131,
      "outputs": [
        {
          "output_type": "stream",
          "name": "stdout",
          "text": [
            "film, video, movie, show, story, get, time, character, thing, season, \n",
            "good, much, episode, see, really, series, go, make, first, even, \n",
            "well, people, watch, also, come, going, work, way, think, know, \n",
            "dvd, something, guy, scene, watching, director, end, look, better, minute, \n",
            "new, still, feature, horror, many, never, back, take, interesting, part, \n"
          ]
        }
      ]
    },
    {
      "cell_type": "markdown",
      "source": [
        "### (4) Overall rating *4.0*"
      ],
      "metadata": {
        "id": "vpxM0d7I8tkI"
      }
    },
    {
      "cell_type": "code",
      "source": [
        "df_video_4 = df_video[df_video['overall'] == 4] # filter the data with rating 4\n",
        "\n",
        "# merge tokens with video/videos to a list\n",
        "reviewText_video_token_4 = []\n",
        "for i in df_video_4['reviewText_token']:\n",
        "    reviewText_video_token_4.extend(i)\n",
        "pos_tagged_words_4 = pos_tag(reviewText_video_token_4)\n",
        "content_words_4 = [word for word, pos in pos_tagged_words_4 if pos in content_works_tag]\n",
        "\n",
        "fdist_video_4 = FreqDist(content_words_4) \n",
        "\n",
        "counter=0\n",
        "word4 = []\n",
        "for word, frequency in fdist_video_4.most_common(50):\n",
        "    word4.append(word)\n",
        "    print(word+\",\", end = \" \")\n",
        "    counter += 1\n",
        "    if counter % 10 == 0:  # print ten words a line\n",
        "        print(\"\")\n",
        "    "
      ],
      "metadata": {
        "colab": {
          "base_uri": "https://localhost:8080/"
        },
        "id": "Gmnt9ETS8sXJ",
        "outputId": "c6d94f69-27ad-4364-9425-7e2b0e0a37cf"
      },
      "execution_count": 132,
      "outputs": [
        {
          "output_type": "stream",
          "name": "stdout",
          "text": [
            "film, show, video, season, episode, movie, get, series, character, time, \n",
            "good, first, well, also, much, make, story, scene, see, really, \n",
            "thing, great, watch, even, new, find, look, year, way, go, \n",
            "know, people, take, come, last, little, still, love, better, cast, \n",
            "end, life, bit, made, many, feature, never, work, think, seems, \n"
          ]
        }
      ]
    },
    {
      "cell_type": "markdown",
      "source": [
        "### (5) Overall rating *5.0*"
      ],
      "metadata": {
        "id": "FXZWLzPl8t0U"
      }
    },
    {
      "cell_type": "code",
      "source": [
        "df_video_5 = df_video[df_video['overall'] == 5] # filter the data with rating 5\n",
        "\n",
        "# merge tokens with video/videos to a list\n",
        "reviewText_video_token_5 = []\n",
        "for i in df_video_5['reviewText_token']:\n",
        "    reviewText_video_token_5.extend(i)\n",
        "pos_tagged_words_5 = pos_tag(reviewText_video_token_5)\n",
        "content_words_5 = [word for word, pos in pos_tagged_words_5 if pos in content_works_tag]\n",
        "\n",
        "fdist_video_5 = FreqDist(content_words_5) \n",
        "\n",
        "counter=0\n",
        "word5 = []\n",
        "for word, frequency in fdist_video_5.most_common(50):\n",
        "    word5.append(word)\n",
        "    print(word+\",\", end = \" \")\n",
        "    counter += 1\n",
        "    if counter % 10 == 0:  # print ten words a line\n",
        "        print(\"\")\n",
        "    "
      ],
      "metadata": {
        "colab": {
          "base_uri": "https://localhost:8080/"
        },
        "id": "vEw2rktS8swV",
        "outputId": "d9b85b77-8974-4860-c29f-437869c03bd4"
      },
      "execution_count": 133,
      "outputs": [
        {
          "output_type": "stream",
          "name": "stdout",
          "text": [
            "show, video, season, episode, series, character, get, great, watch, amazon, \n",
            "time, good, love, well, first, see, really, also, dvd, make, \n",
            "instant, film, thing, go, new, tv, scene, even, story, many, \n",
            "much, watching, feature, movie, know, cast, work, set, look, life, \n",
            "quality, audio, fan, come, people, want, best, commentary, find, lot, \n"
          ]
        }
      ]
    },
    {
      "cell_type": "code",
      "source": [
        "# Compare the content words in different rating\n",
        "data_diff = {'rate1':word1,'rate2':word2,'rate3':word3,'rate4':word4,'rate5':word5}\n",
        "df_diff = pd.DataFrame(data_diff)\n",
        "\n",
        "print(df_diff)"
      ],
      "metadata": {
        "colab": {
          "base_uri": "https://localhost:8080/"
        },
        "id": "IRxD7jn6ZpE5",
        "outputId": "92106c48-f97e-4cdd-aa17-62a920bfaee0"
      },
      "execution_count": 135,
      "outputs": [
        {
          "output_type": "stream",
          "name": "stdout",
          "text": [
            "        rate1      rate2        rate3      rate4       rate5\n",
            "0       movie       film         film       film        show\n",
            "1       video      movie        video       show       video\n",
            "2        film      video        movie      video      season\n",
            "3         get      story         show     season     episode\n",
            "4         bad       show        story    episode      series\n",
            "5   character  character          get      movie   character\n",
            "6        time       much         time        get         get\n",
            "7      people       make    character     series       great\n",
            "8         dvd     really        thing  character       watch\n",
            "9        even       good       season       time      amazon\n",
            "10       make       time         good       good        time\n",
            "11        see        get         much      first        good\n",
            "12      watch      scene      episode       well        love\n",
            "13     season         go          see       also        well\n",
            "14    episode      found       really       much       first\n",
            "15       know      thing       series       make         see\n",
            "16     really        way           go      story      really\n",
            "17      story       even         make      scene        also\n",
            "18        way        see        first        see         dvd\n",
            "19     amazon    footage         even     really        make\n",
            "20         go       know         well      thing     instant\n",
            "21     camera      first       people      great        film\n",
            "22     horror    vampire        watch      watch       thing\n",
            "23      money        car         also       even          go\n",
            "24      thing      watch         come        new         new\n",
            "25      think       also        going       find          tv\n",
            "26       good       plot         work       look       scene\n",
            "27       look     people          way       year        even\n",
            "28     better       come        think        way       story\n",
            "29      first       feel         know         go        many\n",
            "30      actor    episode          dvd       know        much\n",
            "31     minute      seems    something     people    watching\n",
            "32       show     minute          guy       take     feature\n",
            "33   watching     better        scene       come       movie\n",
            "34    nothing       take     watching       last        know\n",
            "35       star  something     director     little        cast\n",
            "36       come       well          end      still        work\n",
            "37   anything     review         look       love         set\n",
            "38       want       made       better     better        look\n",
            "39       much     little       minute       cast        life\n",
            "40        say       look          new        end     quality\n",
            "41      space      think        still       life       audio\n",
            "42      scene        bad      feature        bit         fan\n",
            "43        guy    however       horror       made        come\n",
            "44       made        new         many       many      people\n",
            "45       find      still        never    feature        want\n",
            "46       take       work         back      never        best\n",
            "47       year     horror         take       work  commentary\n",
            "48     acting       find  interesting      think        find\n",
            "49        new      great         part      seems         lot\n"
          ]
        }
      ]
    },
    {
      "cell_type": "markdown",
      "source": [
        "## Additional analysis: Are there any different words in the two top 50 frequency words for a total score of 1.0 and 5.0?"
      ],
      "metadata": {
        "id": "wd9oDf4XT-vm"
      }
    },
    {
      "cell_type": "code",
      "source": [
        "# compare the two lists, return the top 50 words that are in the list of rating 5 but not in the list of rating 1\n",
        "for word in word1:\n",
        "    if word not in word5:\n",
        "        print(word+\",\", end=\" \")"
      ],
      "metadata": {
        "colab": {
          "base_uri": "https://localhost:8080/"
        },
        "id": "unBEEERD-Vns",
        "outputId": "b284f0fa-62f4-4c92-f298-a3fdde8964bc"
      },
      "execution_count": 136,
      "outputs": [
        {
          "output_type": "stream",
          "name": "stdout",
          "text": [
            "bad, way, camera, horror, money, think, better, actor, minute, nothing, star, anything, say, space, guy, made, take, year, acting, "
          ]
        }
      ]
    },
    {
      "cell_type": "code",
      "source": [
        "#  return the words that are in the list of rating 5 top 50 words but not in the list of rating 1\n",
        "for word in word5:\n",
        "    if word not in word1:\n",
        "        print(word+\",\", end=\" \")"
      ],
      "metadata": {
        "colab": {
          "base_uri": "https://localhost:8080/"
        },
        "id": "HRg8_T4wCQCB",
        "outputId": "485fb886-19d6-407a-ccfe-cb9423170c79"
      },
      "execution_count": 137,
      "outputs": [
        {
          "output_type": "stream",
          "name": "stdout",
          "text": [
            "series, great, love, well, also, instant, tv, many, feature, cast, work, set, life, quality, audio, fan, best, commentary, lot, "
          ]
        }
      ]
    },
    {
      "cell_type": "markdown",
      "source": [
        "## Draw word cloud for tokens from reviewText and summary."
      ],
      "metadata": {
        "id": "yr-bE4vGWA59"
      }
    },
    {
      "cell_type": "code",
      "source": [
        "# draw the word cloud for reviewText\n",
        "from wordcloud import WordCloud\n",
        "import matplotlib.pyplot as plt\n",
        "wordcloud = WordCloud().generate_from_frequencies(fdist)\n",
        "plt.imshow(wordcloud, interpolation='bilinear')\n",
        "plt.axis(\"off\")\n",
        "plt.show()"
      ],
      "metadata": {
        "colab": {
          "base_uri": "https://localhost:8080/",
          "height": 198
        },
        "id": "aVOICzbrUjpm",
        "outputId": "4d419cfd-e6b5-43d6-c055-3bde40e665d4"
      },
      "execution_count": 139,
      "outputs": [
        {
          "output_type": "display_data",
          "data": {
            "text/plain": [
              "<Figure size 432x288 with 1 Axes>"
            ],
            "image/png": "[encoded data removed]"
          },
          "metadata": {
            "needs_background": "light"
          }
        }
      ]
    },
    {
      "cell_type": "code",
      "source": [
        "# draw the word cloud for summary\n",
        "wordcloud1 = WordCloud().generate_from_frequencies(fdist_summary)\n",
        "plt.imshow(wordcloud1, interpolation='bilinear')\n",
        "plt.axis(\"off\")\n",
        "plt.show()"
      ],
      "metadata": {
        "colab": {
          "base_uri": "https://localhost:8080/",
          "height": 198
        },
        "id": "E2dzn_T1Ucfy",
        "outputId": "190bf4e7-049c-4c05-ed30-598dba8e18c1"
      },
      "execution_count": 138,
      "outputs": [
        {
          "output_type": "display_data",
          "data": {
            "text/plain": [
              "<Figure size 432x288 with 1 Axes>"
            ],
            "image/png": "[encoded data removed]"
          },
          "metadata": {
            "needs_background": "light"
          }
        }
      ]
    }
  ]
}