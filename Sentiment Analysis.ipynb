{
  "cells": [
    {
      "cell_type": "markdown",
      "metadata": {
        "id": "wP-tXQEDfk6U"
      },
      "source": [
        "# IST 664 HW2\n",
        "## Name: Lu Guo"
      ]
    },
    {
      "cell_type": "markdown",
      "metadata": {
        "id": "a8IEtOx1IJgO"
      },
      "source": [
        "## Introduction: \n",
        "\n",
        "In this homework, we will use the data from HW1, which contains the reviewText and summary for movies. \n",
        "\n",
        "The first task is to extract sentences from the reviewText and summary, then describe the sentences, including i“reviewText? (1 or 0)”, “summary? (1 or 0)”, “original text”, “extracted sentence”, “length of a sentence”, “adjective word list”, “noun list”, “bigram list”, “capital word list”, and “exclamation mark? (1 or 0)”. The result of task 1 is saved in goolge drive. The link to task 1 csv is https://drive.google.com/file/d/1-3wUCvQVo3JrSkzP1084witD_HMvNni1/view?usp=share_link.\n",
        "\n",
        "The second task is predict sentiment for each sentence. Then decribe \"reviewText”, “the number of positive sentences in reviewText\", \"the number of negative sentences in reviewText\", \"summary\", “the number of positive sentences in summary”, and “the number of negative sentences in summary”. The result of task 2 is also saved in google drive. The link to taks 2 csv is https://drive.google.com/file/d/1-1DMeTodcgsfuptoeHrawZW52SMjFwcu/view?usp=share_link.\n",
        "\n",
        "The link of code in google colab is:  https://colab.research.google.com/drive/1Yw4Vc08zj1l87Ub-u7Xzy4jDR3bKjpy7#scrollTo=a8IEtOx1IJgO\n",
        "\n",
        "The link to introduction video is: https://video.syr.edu/media/t/1_2ia4jh19"
      ]
    },
    {
      "cell_type": "markdown",
      "metadata": {
        "id": "ftoYkFEWIJgO"
      },
      "source": [
        "# Task 1: Extract sentences from reviewText and summary"
      ]
    },
    {
      "cell_type": "markdown",
      "metadata": {
        "id": "vVo3CINEIJgO"
      },
      "source": [
        "## 1.1 Load data"
      ]
    },
    {
      "cell_type": "code",
      "execution_count": 1,
      "metadata": {
        "colab": {
          "base_uri": "https://localhost:8080/"
        },
        "id": "1bz-omPZAPv1",
        "outputId": "b4001277-9634-40ca-f7ad-e03b8f9eebac"
      },
      "outputs": [
        {
          "output_type": "stream",
          "name": "stdout",
          "text": [
            "Mounted at /drive\n"
          ]
        }
      ],
      "source": [
        "from google.colab import drive\n",
        "drive.mount(\"/drive\", force_remount=True)\n",
        "\n",
        "import json\n",
        "import pandas as pd\n",
        "\n",
        "data = []\n",
        "with open('/drive/My Drive/Colab Notebooks/Wed_Homework1/Amazon_Instant_Video_5.json') as f:\n",
        "    for line in f:\n",
        "        data.append(json.loads(line))\n",
        "# Extract the desired fields and save to a dataframe\n",
        "df = pd.DataFrame(data, columns=['reviewText', 'summary'])"
      ]
    },
    {
      "cell_type": "code",
      "execution_count": 2,
      "metadata": {
        "colab": {
          "base_uri": "https://localhost:8080/",
          "height": 112
        },
        "id": "Baxas1gHCM_B",
        "outputId": "2673b0a7-74f8-4b29-a2dc-dee5a8c9de2f"
      },
      "outputs": [
        {
          "output_type": "execute_result",
          "data": {
            "text/plain": [
              "                                          reviewText  \\\n",
              "0  I had big expectations because I love English ...   \n",
              "1  I highly recommend this series. It is a must f...   \n",
              "\n",
              "                      summary  \n",
              "0  A little bit boring for me  \n",
              "1       Excellent Grown Up TV  "
            ],
            "text/html": [
              "\n",
              "  <div id=\"df-7ebd3806-a6e1-41d1-ad60-77e4e38bd844\">\n",
              "    <div class=\"colab-df-container\">\n",
              "      <div>\n",
              "<style scoped>\n",
              "    .dataframe tbody tr th:only-of-type {\n",
              "        vertical-align: middle;\n",
              "    }\n",
              "\n",
              "    .dataframe tbody tr th {\n",
              "        vertical-align: top;\n",
              "    }\n",
              "\n",
              "    .dataframe thead th {\n",
              "        text-align: right;\n",
              "    }\n",
              "</style>\n",
              "<table border=\"1\" class=\"dataframe\">\n",
              "  <thead>\n",
              "    <tr style=\"text-align: right;\">\n",
              "      <th></th>\n",
              "      <th>reviewText</th>\n",
              "      <th>summary</th>\n",
              "    </tr>\n",
              "  </thead>\n",
              "  <tbody>\n",
              "    <tr>\n",
              "      <th>0</th>\n",
              "      <td>I had big expectations because I love English ...</td>\n",
              "      <td>A little bit boring for me</td>\n",
              "    </tr>\n",
              "    <tr>\n",
              "      <th>1</th>\n",
              "      <td>I highly recommend this series. It is a must f...</td>\n",
              "      <td>Excellent Grown Up TV</td>\n",
              "    </tr>\n",
              "  </tbody>\n",
              "</table>\n",
              "</div>\n",
              "      <button class=\"colab-df-convert\" onclick=\"convertToInteractive('df-7ebd3806-a6e1-41d1-ad60-77e4e38bd844')\"\n",
              "              title=\"Convert this dataframe to an interactive table.\"\n",
              "              style=\"display:none;\">\n",
              "        \n",
              "  <svg xmlns=\"http://www.w3.org/2000/svg\" height=\"24px\"viewBox=\"0 0 24 24\"\n",
              "       width=\"24px\">\n",
              "    <path d=\"M0 0h24v24H0V0z\" fill=\"none\"/>\n",
              "    <path d=\"M18.56 5.44l.94 2.06.94-2.06 2.06-.94-2.06-.94-.94-2.06-.94 2.06-2.06.94zm-11 1L8.5 8.5l.94-2.06 2.06-.94-2.06-.94L8.5 2.5l-.94 2.06-2.06.94zm10 10l.94 2.06.94-2.06 2.06-.94-2.06-.94-.94-2.06-.94 2.06-2.06.94z\"/><path d=\"M17.41 7.96l-1.37-1.37c-.4-.4-.92-.59-1.43-.59-.52 0-1.04.2-1.43.59L10.3 9.45l-7.72 7.72c-.78.78-.78 2.05 0 2.83L4 21.41c.39.39.9.59 1.41.59.51 0 1.02-.2 1.41-.59l7.78-7.78 2.81-2.81c.8-.78.8-2.07 0-2.86zM5.41 20L4 18.59l7.72-7.72 1.47 1.35L5.41 20z\"/>\n",
              "  </svg>\n",
              "      </button>\n",
              "      \n",
              "  <style>\n",
              "    .colab-df-container {\n",
              "      display:flex;\n",
              "      flex-wrap:wrap;\n",
              "      gap: 12px;\n",
              "    }\n",
              "\n",
              "    .colab-df-convert {\n",
              "      background-color: #E8F0FE;\n",
              "      border: none;\n",
              "      border-radius: 50%;\n",
              "      cursor: pointer;\n",
              "      display: none;\n",
              "      fill: #1967D2;\n",
              "      height: 32px;\n",
              "      padding: 0 0 0 0;\n",
              "      width: 32px;\n",
              "    }\n",
              "\n",
              "    .colab-df-convert:hover {\n",
              "      background-color: #E2EBFA;\n",
              "      box-shadow: 0px 1px 2px rgba(60, 64, 67, 0.3), 0px 1px 3px 1px rgba(60, 64, 67, 0.15);\n",
              "      fill: #174EA6;\n",
              "    }\n",
              "\n",
              "    [theme=dark] .colab-df-convert {\n",
              "      background-color: #3B4455;\n",
              "      fill: #D2E3FC;\n",
              "    }\n",
              "\n",
              "    [theme=dark] .colab-df-convert:hover {\n",
              "      background-color: #434B5C;\n",
              "      box-shadow: 0px 1px 3px 1px rgba(0, 0, 0, 0.15);\n",
              "      filter: drop-shadow(0px 1px 2px rgba(0, 0, 0, 0.3));\n",
              "      fill: #FFFFFF;\n",
              "    }\n",
              "  </style>\n",
              "\n",
              "      <script>\n",
              "        const buttonEl =\n",
              "          document.querySelector('#df-7ebd3806-a6e1-41d1-ad60-77e4e38bd844 button.colab-df-convert');\n",
              "        buttonEl.style.display =\n",
              "          google.colab.kernel.accessAllowed ? 'block' : 'none';\n",
              "\n",
              "        async function convertToInteractive(key) {\n",
              "          const element = document.querySelector('#df-7ebd3806-a6e1-41d1-ad60-77e4e38bd844');\n",
              "          const dataTable =\n",
              "            await google.colab.kernel.invokeFunction('convertToInteractive',\n",
              "                                                     [key], {});\n",
              "          if (!dataTable) return;\n",
              "\n",
              "          const docLinkHtml = 'Like what you see? Visit the ' +\n",
              "            '<a target=\"_blank\" href=https://colab.research.google.com/notebooks/data_table.ipynb>data table notebook</a>'\n",
              "            + ' to learn more about interactive tables.';\n",
              "          element.innerHTML = '';\n",
              "          dataTable['output_type'] = 'display_data';\n",
              "          await google.colab.output.renderOutput(dataTable, element);\n",
              "          const docLink = document.createElement('div');\n",
              "          docLink.innerHTML = docLinkHtml;\n",
              "          element.appendChild(docLink);\n",
              "        }\n",
              "      </script>\n",
              "    </div>\n",
              "  </div>\n",
              "  "
            ]
          },
          "metadata": {},
          "execution_count": 2
        }
      ],
      "source": [
        "df = df[:2000] # only use the first 2000 rows of review, so that the program can run faster\n",
        "df.head(2)"
      ]
    },
    {
      "cell_type": "code",
      "execution_count": 3,
      "metadata": {
        "colab": {
          "base_uri": "https://localhost:8080/"
        },
        "id": "STQGv7BP7LET",
        "outputId": "433b7e4d-1f56-4e66-cee4-421bbce1bcf1"
      },
      "outputs": [
        {
          "output_type": "stream",
          "name": "stdout",
          "text": [
            "                                          reviewText\n",
            "0  I had big expectations because I love English ...\n",
            "1  I highly recommend this series. It is a must f...\n",
            "2  This one is a real snoozer. Don't believe anyt...\n",
            "3  Mysteries are interesting.  The tension betwee...\n",
            "4  This show always is excellent, as far as briti...\n",
            "                          summary\n",
            "0      A little bit boring for me\n",
            "1           Excellent Grown Up TV\n",
            "2           Way too boring for me\n",
            "3     Robson Green is mesmerizing\n",
            "4  Robson green and great writing\n"
          ]
        }
      ],
      "source": [
        "# create new dataframe to split review and summary\n",
        "df_review = df[df.columns[0:1]] # reviewText\n",
        "print(df_review.head())\n",
        "df_summary = df[df.columns[1:]] # summary\n",
        "print(df_summary.head())"
      ]
    },
    {
      "cell_type": "markdown",
      "metadata": {
        "id": "2CCZsOOoIJgQ"
      },
      "source": [
        "## 1.2 Extract sentences from reviewText and summary"
      ]
    },
    {
      "cell_type": "markdown",
      "metadata": {
        "id": "G0SuxOlyIJgQ"
      },
      "source": [
        "Extract sentences from reviewText:"
      ]
    },
    {
      "cell_type": "code",
      "execution_count": 4,
      "metadata": {
        "colab": {
          "base_uri": "https://localhost:8080/"
        },
        "id": "SCCocyi-CX_F",
        "outputId": "d3b9399b-fc31-46ee-a481-df54df4f63f8"
      },
      "outputs": [
        {
          "output_type": "stream",
          "name": "stderr",
          "text": [
            "[nltk_data] Downloading package punkt to /root/nltk_data...\n",
            "[nltk_data]   Package punkt is already up-to-date!\n"
          ]
        },
        {
          "output_type": "stream",
          "name": "stdout",
          "text": [
            "                                       original text  \\\n",
            "0  I had big expectations because I love English ...   \n",
            "1  I had big expectations because I love English ...   \n",
            "2  I highly recommend this series. It is a must f...   \n",
            "3  I highly recommend this series. It is a must f...   \n",
            "4  I highly recommend this series. It is a must f...   \n",
            "\n",
            "                                  extracted sentence  reviewText? (1 or 0)  \\\n",
            "0  I had big expectations because I love English ...                     1   \n",
            "1                     It didn't appeal to me at all.                     1   \n",
            "2                    I highly recommend this series.                     1   \n",
            "3  It is a must for anyone who is yearning to wat...                     1   \n",
            "4  Complex characters and plots to keep one total...                     1   \n",
            "\n",
            "   summary? (1 or 0)  \n",
            "0                  0  \n",
            "1                  0  \n",
            "2                  0  \n",
            "3                  0  \n",
            "4                  0  \n"
          ]
        }
      ],
      "source": [
        "import nltk\n",
        "nltk.download('punkt')\n",
        "\n",
        "def split_sentences(text):\n",
        "    sentences = nltk.sent_tokenize(text)\n",
        "    return sentences\n",
        "\n",
        "# split review to sentences, each row has one sentence\n",
        "df_review = df_review.assign(sentence=df_review['reviewText'].apply(split_sentences)).explode('sentence').reset_index(drop=True)\n",
        "\n",
        "# rename reviewText to original text, and sentence to extracted sentence\n",
        "df_review = df_review.rename(columns={'reviewText': 'original text', 'sentence':'extracted sentence'})\n",
        "# add a coulmn called reviewText and give value = 1 to all rows, which represents the extracted sentence is from reviewText\n",
        "df_review['reviewText? (1 or 0)'] = 1\n",
        "df_review['summary? (1 or 0)'] = 0\n",
        "df_review.head()\n",
        "\n",
        "print(df_review.head())"
      ]
    },
    {
      "cell_type": "markdown",
      "metadata": {
        "id": "dTW7nrF8IJgR"
      },
      "source": [
        "Extract sentences from summary:"
      ]
    },
    {
      "cell_type": "code",
      "execution_count": 5,
      "metadata": {
        "colab": {
          "base_uri": "https://localhost:8080/",
          "height": 206
        },
        "id": "pd1qb1yYZsYk",
        "outputId": "a165c182-b79e-4339-e40a-7b1a8655bad2"
      },
      "outputs": [
        {
          "output_type": "execute_result",
          "data": {
            "text/plain": [
              "                    original text              extracted sentence  \\\n",
              "0      A little bit boring for me      A little bit boring for me   \n",
              "1           Excellent Grown Up TV           Excellent Grown Up TV   \n",
              "2           Way too boring for me           Way too boring for me   \n",
              "3     Robson Green is mesmerizing     Robson Green is mesmerizing   \n",
              "4  Robson green and great writing  Robson green and great writing   \n",
              "\n",
              "   reviewText? (1 or 0)  summary? (1 or 0)  \n",
              "0                     0                  1  \n",
              "1                     0                  1  \n",
              "2                     0                  1  \n",
              "3                     0                  1  \n",
              "4                     0                  1  "
            ],
            "text/html": [
              "\n",
              "  <div id=\"df-c378289f-d0c5-41f0-9353-eab3e8797e14\">\n",
              "    <div class=\"colab-df-container\">\n",
              "      <div>\n",
              "<style scoped>\n",
              "    .dataframe tbody tr th:only-of-type {\n",
              "        vertical-align: middle;\n",
              "    }\n",
              "\n",
              "    .dataframe tbody tr th {\n",
              "        vertical-align: top;\n",
              "    }\n",
              "\n",
              "    .dataframe thead th {\n",
              "        text-align: right;\n",
              "    }\n",
              "</style>\n",
              "<table border=\"1\" class=\"dataframe\">\n",
              "  <thead>\n",
              "    <tr style=\"text-align: right;\">\n",
              "      <th></th>\n",
              "      <th>original text</th>\n",
              "      <th>extracted sentence</th>\n",
              "      <th>reviewText? (1 or 0)</th>\n",
              "      <th>summary? (1 or 0)</th>\n",
              "    </tr>\n",
              "  </thead>\n",
              "  <tbody>\n",
              "    <tr>\n",
              "      <th>0</th>\n",
              "      <td>A little bit boring for me</td>\n",
              "      <td>A little bit boring for me</td>\n",
              "      <td>0</td>\n",
              "      <td>1</td>\n",
              "    </tr>\n",
              "    <tr>\n",
              "      <th>1</th>\n",
              "      <td>Excellent Grown Up TV</td>\n",
              "      <td>Excellent Grown Up TV</td>\n",
              "      <td>0</td>\n",
              "      <td>1</td>\n",
              "    </tr>\n",
              "    <tr>\n",
              "      <th>2</th>\n",
              "      <td>Way too boring for me</td>\n",
              "      <td>Way too boring for me</td>\n",
              "      <td>0</td>\n",
              "      <td>1</td>\n",
              "    </tr>\n",
              "    <tr>\n",
              "      <th>3</th>\n",
              "      <td>Robson Green is mesmerizing</td>\n",
              "      <td>Robson Green is mesmerizing</td>\n",
              "      <td>0</td>\n",
              "      <td>1</td>\n",
              "    </tr>\n",
              "    <tr>\n",
              "      <th>4</th>\n",
              "      <td>Robson green and great writing</td>\n",
              "      <td>Robson green and great writing</td>\n",
              "      <td>0</td>\n",
              "      <td>1</td>\n",
              "    </tr>\n",
              "  </tbody>\n",
              "</table>\n",
              "</div>\n",
              "      <button class=\"colab-df-convert\" onclick=\"convertToInteractive('df-c378289f-d0c5-41f0-9353-eab3e8797e14')\"\n",
              "              title=\"Convert this dataframe to an interactive table.\"\n",
              "              style=\"display:none;\">\n",
              "        \n",
              "  <svg xmlns=\"http://www.w3.org/2000/svg\" height=\"24px\"viewBox=\"0 0 24 24\"\n",
              "       width=\"24px\">\n",
              "    <path d=\"M0 0h24v24H0V0z\" fill=\"none\"/>\n",
              "    <path d=\"M18.56 5.44l.94 2.06.94-2.06 2.06-.94-2.06-.94-.94-2.06-.94 2.06-2.06.94zm-11 1L8.5 8.5l.94-2.06 2.06-.94-2.06-.94L8.5 2.5l-.94 2.06-2.06.94zm10 10l.94 2.06.94-2.06 2.06-.94-2.06-.94-.94-2.06-.94 2.06-2.06.94z\"/><path d=\"M17.41 7.96l-1.37-1.37c-.4-.4-.92-.59-1.43-.59-.52 0-1.04.2-1.43.59L10.3 9.45l-7.72 7.72c-.78.78-.78 2.05 0 2.83L4 21.41c.39.39.9.59 1.41.59.51 0 1.02-.2 1.41-.59l7.78-7.78 2.81-2.81c.8-.78.8-2.07 0-2.86zM5.41 20L4 18.59l7.72-7.72 1.47 1.35L5.41 20z\"/>\n",
              "  </svg>\n",
              "      </button>\n",
              "      \n",
              "  <style>\n",
              "    .colab-df-container {\n",
              "      display:flex;\n",
              "      flex-wrap:wrap;\n",
              "      gap: 12px;\n",
              "    }\n",
              "\n",
              "    .colab-df-convert {\n",
              "      background-color: #E8F0FE;\n",
              "      border: none;\n",
              "      border-radius: 50%;\n",
              "      cursor: pointer;\n",
              "      display: none;\n",
              "      fill: #1967D2;\n",
              "      height: 32px;\n",
              "      padding: 0 0 0 0;\n",
              "      width: 32px;\n",
              "    }\n",
              "\n",
              "    .colab-df-convert:hover {\n",
              "      background-color: #E2EBFA;\n",
              "      box-shadow: 0px 1px 2px rgba(60, 64, 67, 0.3), 0px 1px 3px 1px rgba(60, 64, 67, 0.15);\n",
              "      fill: #174EA6;\n",
              "    }\n",
              "\n",
              "    [theme=dark] .colab-df-convert {\n",
              "      background-color: #3B4455;\n",
              "      fill: #D2E3FC;\n",
              "    }\n",
              "\n",
              "    [theme=dark] .colab-df-convert:hover {\n",
              "      background-color: #434B5C;\n",
              "      box-shadow: 0px 1px 3px 1px rgba(0, 0, 0, 0.15);\n",
              "      filter: drop-shadow(0px 1px 2px rgba(0, 0, 0, 0.3));\n",
              "      fill: #FFFFFF;\n",
              "    }\n",
              "  </style>\n",
              "\n",
              "      <script>\n",
              "        const buttonEl =\n",
              "          document.querySelector('#df-c378289f-d0c5-41f0-9353-eab3e8797e14 button.colab-df-convert');\n",
              "        buttonEl.style.display =\n",
              "          google.colab.kernel.accessAllowed ? 'block' : 'none';\n",
              "\n",
              "        async function convertToInteractive(key) {\n",
              "          const element = document.querySelector('#df-c378289f-d0c5-41f0-9353-eab3e8797e14');\n",
              "          const dataTable =\n",
              "            await google.colab.kernel.invokeFunction('convertToInteractive',\n",
              "                                                     [key], {});\n",
              "          if (!dataTable) return;\n",
              "\n",
              "          const docLinkHtml = 'Like what you see? Visit the ' +\n",
              "            '<a target=\"_blank\" href=https://colab.research.google.com/notebooks/data_table.ipynb>data table notebook</a>'\n",
              "            + ' to learn more about interactive tables.';\n",
              "          element.innerHTML = '';\n",
              "          dataTable['output_type'] = 'display_data';\n",
              "          await google.colab.output.renderOutput(dataTable, element);\n",
              "          const docLink = document.createElement('div');\n",
              "          docLink.innerHTML = docLinkHtml;\n",
              "          element.appendChild(docLink);\n",
              "        }\n",
              "      </script>\n",
              "    </div>\n",
              "  </div>\n",
              "  "
            ]
          },
          "metadata": {},
          "execution_count": 5
        }
      ],
      "source": [
        "# rename summary to original text\n",
        "df_summary = df_summary.assign(sentence=df_summary['summary'].apply(split_sentences)).explode('sentence').reset_index(drop=True)\n",
        "df_summary = df_summary.rename(columns={'summary': 'original text', 'sentence':'extracted sentence'})\n",
        "# add a coulmn called reviewText and give value = 1 to all rows\n",
        "df_summary['reviewText? (1 or 0)'] = 0\n",
        "df_summary['summary? (1 or 0)'] = 1\n",
        "df_summary.head()"
      ]
    },
    {
      "cell_type": "markdown",
      "metadata": {
        "id": "z6afFruFIJgR"
      },
      "source": [
        "Merge reviewText and summary:"
      ]
    },
    {
      "cell_type": "code",
      "execution_count": 6,
      "metadata": {
        "colab": {
          "base_uri": "https://localhost:8080/",
          "height": 258
        },
        "id": "rdXRgjQqaf0K",
        "outputId": "2bfac469-52ff-4081-84a6-36da6db26db9"
      },
      "outputs": [
        {
          "output_type": "stream",
          "name": "stdout",
          "text": [
            "Number of sentences from reviewText: 13005\n",
            "Number of sentences from summary: 2130\n",
            "Total rows: 15135\n"
          ]
        },
        {
          "output_type": "execute_result",
          "data": {
            "text/plain": [
              "                                       original text  \\\n",
              "0  I had big expectations because I love English ...   \n",
              "1  I had big expectations because I love English ...   \n",
              "2  I highly recommend this series. It is a must f...   \n",
              "3  I highly recommend this series. It is a must f...   \n",
              "4  I highly recommend this series. It is a must f...   \n",
              "\n",
              "                                  extracted sentence  reviewText? (1 or 0)  \\\n",
              "0  I had big expectations because I love English ...                     1   \n",
              "1                     It didn't appeal to me at all.                     1   \n",
              "2                    I highly recommend this series.                     1   \n",
              "3  It is a must for anyone who is yearning to wat...                     1   \n",
              "4  Complex characters and plots to keep one total...                     1   \n",
              "\n",
              "   summary? (1 or 0)  \n",
              "0                  0  \n",
              "1                  0  \n",
              "2                  0  \n",
              "3                  0  \n",
              "4                  0  "
            ],
            "text/html": [
              "\n",
              "  <div id=\"df-ce136b47-ad86-4ee6-8391-9262a066a9dc\">\n",
              "    <div class=\"colab-df-container\">\n",
              "      <div>\n",
              "<style scoped>\n",
              "    .dataframe tbody tr th:only-of-type {\n",
              "        vertical-align: middle;\n",
              "    }\n",
              "\n",
              "    .dataframe tbody tr th {\n",
              "        vertical-align: top;\n",
              "    }\n",
              "\n",
              "    .dataframe thead th {\n",
              "        text-align: right;\n",
              "    }\n",
              "</style>\n",
              "<table border=\"1\" class=\"dataframe\">\n",
              "  <thead>\n",
              "    <tr style=\"text-align: right;\">\n",
              "      <th></th>\n",
              "      <th>original text</th>\n",
              "      <th>extracted sentence</th>\n",
              "      <th>reviewText? (1 or 0)</th>\n",
              "      <th>summary? (1 or 0)</th>\n",
              "    </tr>\n",
              "  </thead>\n",
              "  <tbody>\n",
              "    <tr>\n",
              "      <th>0</th>\n",
              "      <td>I had big expectations because I love English ...</td>\n",
              "      <td>I had big expectations because I love English ...</td>\n",
              "      <td>1</td>\n",
              "      <td>0</td>\n",
              "    </tr>\n",
              "    <tr>\n",
              "      <th>1</th>\n",
              "      <td>I had big expectations because I love English ...</td>\n",
              "      <td>It didn't appeal to me at all.</td>\n",
              "      <td>1</td>\n",
              "      <td>0</td>\n",
              "    </tr>\n",
              "    <tr>\n",
              "      <th>2</th>\n",
              "      <td>I highly recommend this series. It is a must f...</td>\n",
              "      <td>I highly recommend this series.</td>\n",
              "      <td>1</td>\n",
              "      <td>0</td>\n",
              "    </tr>\n",
              "    <tr>\n",
              "      <th>3</th>\n",
              "      <td>I highly recommend this series. It is a must f...</td>\n",
              "      <td>It is a must for anyone who is yearning to wat...</td>\n",
              "      <td>1</td>\n",
              "      <td>0</td>\n",
              "    </tr>\n",
              "    <tr>\n",
              "      <th>4</th>\n",
              "      <td>I highly recommend this series. It is a must f...</td>\n",
              "      <td>Complex characters and plots to keep one total...</td>\n",
              "      <td>1</td>\n",
              "      <td>0</td>\n",
              "    </tr>\n",
              "  </tbody>\n",
              "</table>\n",
              "</div>\n",
              "      <button class=\"colab-df-convert\" onclick=\"convertToInteractive('df-ce136b47-ad86-4ee6-8391-9262a066a9dc')\"\n",
              "              title=\"Convert this dataframe to an interactive table.\"\n",
              "              style=\"display:none;\">\n",
              "        \n",
              "  <svg xmlns=\"http://www.w3.org/2000/svg\" height=\"24px\"viewBox=\"0 0 24 24\"\n",
              "       width=\"24px\">\n",
              "    <path d=\"M0 0h24v24H0V0z\" fill=\"none\"/>\n",
              "    <path d=\"M18.56 5.44l.94 2.06.94-2.06 2.06-.94-2.06-.94-.94-2.06-.94 2.06-2.06.94zm-11 1L8.5 8.5l.94-2.06 2.06-.94-2.06-.94L8.5 2.5l-.94 2.06-2.06.94zm10 10l.94 2.06.94-2.06 2.06-.94-2.06-.94-.94-2.06-.94 2.06-2.06.94z\"/><path d=\"M17.41 7.96l-1.37-1.37c-.4-.4-.92-.59-1.43-.59-.52 0-1.04.2-1.43.59L10.3 9.45l-7.72 7.72c-.78.78-.78 2.05 0 2.83L4 21.41c.39.39.9.59 1.41.59.51 0 1.02-.2 1.41-.59l7.78-7.78 2.81-2.81c.8-.78.8-2.07 0-2.86zM5.41 20L4 18.59l7.72-7.72 1.47 1.35L5.41 20z\"/>\n",
              "  </svg>\n",
              "      </button>\n",
              "      \n",
              "  <style>\n",
              "    .colab-df-container {\n",
              "      display:flex;\n",
              "      flex-wrap:wrap;\n",
              "      gap: 12px;\n",
              "    }\n",
              "\n",
              "    .colab-df-convert {\n",
              "      background-color: #E8F0FE;\n",
              "      border: none;\n",
              "      border-radius: 50%;\n",
              "      cursor: pointer;\n",
              "      display: none;\n",
              "      fill: #1967D2;\n",
              "      height: 32px;\n",
              "      padding: 0 0 0 0;\n",
              "      width: 32px;\n",
              "    }\n",
              "\n",
              "    .colab-df-convert:hover {\n",
              "      background-color: #E2EBFA;\n",
              "      box-shadow: 0px 1px 2px rgba(60, 64, 67, 0.3), 0px 1px 3px 1px rgba(60, 64, 67, 0.15);\n",
              "      fill: #174EA6;\n",
              "    }\n",
              "\n",
              "    [theme=dark] .colab-df-convert {\n",
              "      background-color: #3B4455;\n",
              "      fill: #D2E3FC;\n",
              "    }\n",
              "\n",
              "    [theme=dark] .colab-df-convert:hover {\n",
              "      background-color: #434B5C;\n",
              "      box-shadow: 0px 1px 3px 1px rgba(0, 0, 0, 0.15);\n",
              "      filter: drop-shadow(0px 1px 2px rgba(0, 0, 0, 0.3));\n",
              "      fill: #FFFFFF;\n",
              "    }\n",
              "  </style>\n",
              "\n",
              "      <script>\n",
              "        const buttonEl =\n",
              "          document.querySelector('#df-ce136b47-ad86-4ee6-8391-9262a066a9dc button.colab-df-convert');\n",
              "        buttonEl.style.display =\n",
              "          google.colab.kernel.accessAllowed ? 'block' : 'none';\n",
              "\n",
              "        async function convertToInteractive(key) {\n",
              "          const element = document.querySelector('#df-ce136b47-ad86-4ee6-8391-9262a066a9dc');\n",
              "          const dataTable =\n",
              "            await google.colab.kernel.invokeFunction('convertToInteractive',\n",
              "                                                     [key], {});\n",
              "          if (!dataTable) return;\n",
              "\n",
              "          const docLinkHtml = 'Like what you see? Visit the ' +\n",
              "            '<a target=\"_blank\" href=https://colab.research.google.com/notebooks/data_table.ipynb>data table notebook</a>'\n",
              "            + ' to learn more about interactive tables.';\n",
              "          element.innerHTML = '';\n",
              "          dataTable['output_type'] = 'display_data';\n",
              "          await google.colab.output.renderOutput(dataTable, element);\n",
              "          const docLink = document.createElement('div');\n",
              "          docLink.innerHTML = docLinkHtml;\n",
              "          element.appendChild(docLink);\n",
              "        }\n",
              "      </script>\n",
              "    </div>\n",
              "  </div>\n",
              "  "
            ]
          },
          "metadata": {},
          "execution_count": 6
        }
      ],
      "source": [
        "df_merged = pd.concat([df_review, df_summary], ignore_index=True)\n",
        "print(\"Number of sentences from reviewText: \" + str(len(df_review)))\n",
        "print(\"Number of sentences from summary: \" + str(len(df_summary)))\n",
        "print(\"Total rows: \" + str(len(df_merged)))\n",
        "df_merged.head()"
      ]
    },
    {
      "cell_type": "markdown",
      "metadata": {
        "id": "qlhZVQ_JI84H"
      },
      "source": [
        "## 1.3 Tokenize sentences"
      ]
    },
    {
      "cell_type": "code",
      "execution_count": 7,
      "metadata": {
        "colab": {
          "base_uri": "https://localhost:8080/",
          "height": 241
        },
        "id": "XFoGdrleJFa5",
        "outputId": "48a51fdc-505e-430d-8977-293710ba8c54"
      },
      "outputs": [
        {
          "output_type": "stream",
          "name": "stderr",
          "text": [
            "/usr/local/lib/python3.9/dist-packages/torch/cuda/__init__.py:497: UserWarning: Can't initialize NVML\n",
            "  warnings.warn(\"Can't initialize NVML\")\n"
          ]
        },
        {
          "output_type": "execute_result",
          "data": {
            "text/plain": [
              "                                       original text  \\\n",
              "0  I had big expectations because I love English ...   \n",
              "1  I had big expectations because I love English ...   \n",
              "2  I highly recommend this series. It is a must f...   \n",
              "3  I highly recommend this series. It is a must f...   \n",
              "4  I highly recommend this series. It is a must f...   \n",
              "\n",
              "                                  extracted sentence  reviewText? (1 or 0)  \\\n",
              "0  I had big expectations because I love English ...                     1   \n",
              "1                     It didn't appeal to me at all.                     1   \n",
              "2                    I highly recommend this series.                     1   \n",
              "3  It is a must for anyone who is yearning to wat...                     1   \n",
              "4  Complex characters and plots to keep one total...                     1   \n",
              "\n",
              "   summary? (1 or 0)                                             tokens  \n",
              "0                  0  (I, had, big, expectations, because, I, love, ...  \n",
              "1                  0         (It, did, n't, appeal, to, me, at, all, .)  \n",
              "2                  0            (I, highly, recommend, this, series, .)  \n",
              "3                  0  (It, is, a, must, for, anyone, who, is, yearni...  \n",
              "4                  0  (Complex, characters, and, plots, to, keep, on...  "
            ],
            "text/html": [
              "\n",
              "  <div id=\"df-b7736ce7-c0b7-4f33-bcac-39be1294f322\">\n",
              "    <div class=\"colab-df-container\">\n",
              "      <div>\n",
              "<style scoped>\n",
              "    .dataframe tbody tr th:only-of-type {\n",
              "        vertical-align: middle;\n",
              "    }\n",
              "\n",
              "    .dataframe tbody tr th {\n",
              "        vertical-align: top;\n",
              "    }\n",
              "\n",
              "    .dataframe thead th {\n",
              "        text-align: right;\n",
              "    }\n",
              "</style>\n",
              "<table border=\"1\" class=\"dataframe\">\n",
              "  <thead>\n",
              "    <tr style=\"text-align: right;\">\n",
              "      <th></th>\n",
              "      <th>original text</th>\n",
              "      <th>extracted sentence</th>\n",
              "      <th>reviewText? (1 or 0)</th>\n",
              "      <th>summary? (1 or 0)</th>\n",
              "      <th>tokens</th>\n",
              "    </tr>\n",
              "  </thead>\n",
              "  <tbody>\n",
              "    <tr>\n",
              "      <th>0</th>\n",
              "      <td>I had big expectations because I love English ...</td>\n",
              "      <td>I had big expectations because I love English ...</td>\n",
              "      <td>1</td>\n",
              "      <td>0</td>\n",
              "      <td>(I, had, big, expectations, because, I, love, ...</td>\n",
              "    </tr>\n",
              "    <tr>\n",
              "      <th>1</th>\n",
              "      <td>I had big expectations because I love English ...</td>\n",
              "      <td>It didn't appeal to me at all.</td>\n",
              "      <td>1</td>\n",
              "      <td>0</td>\n",
              "      <td>(It, did, n't, appeal, to, me, at, all, .)</td>\n",
              "    </tr>\n",
              "    <tr>\n",
              "      <th>2</th>\n",
              "      <td>I highly recommend this series. It is a must f...</td>\n",
              "      <td>I highly recommend this series.</td>\n",
              "      <td>1</td>\n",
              "      <td>0</td>\n",
              "      <td>(I, highly, recommend, this, series, .)</td>\n",
              "    </tr>\n",
              "    <tr>\n",
              "      <th>3</th>\n",
              "      <td>I highly recommend this series. It is a must f...</td>\n",
              "      <td>It is a must for anyone who is yearning to wat...</td>\n",
              "      <td>1</td>\n",
              "      <td>0</td>\n",
              "      <td>(It, is, a, must, for, anyone, who, is, yearni...</td>\n",
              "    </tr>\n",
              "    <tr>\n",
              "      <th>4</th>\n",
              "      <td>I highly recommend this series. It is a must f...</td>\n",
              "      <td>Complex characters and plots to keep one total...</td>\n",
              "      <td>1</td>\n",
              "      <td>0</td>\n",
              "      <td>(Complex, characters, and, plots, to, keep, on...</td>\n",
              "    </tr>\n",
              "  </tbody>\n",
              "</table>\n",
              "</div>\n",
              "      <button class=\"colab-df-convert\" onclick=\"convertToInteractive('df-b7736ce7-c0b7-4f33-bcac-39be1294f322')\"\n",
              "              title=\"Convert this dataframe to an interactive table.\"\n",
              "              style=\"display:none;\">\n",
              "        \n",
              "  <svg xmlns=\"http://www.w3.org/2000/svg\" height=\"24px\"viewBox=\"0 0 24 24\"\n",
              "       width=\"24px\">\n",
              "    <path d=\"M0 0h24v24H0V0z\" fill=\"none\"/>\n",
              "    <path d=\"M18.56 5.44l.94 2.06.94-2.06 2.06-.94-2.06-.94-.94-2.06-.94 2.06-2.06.94zm-11 1L8.5 8.5l.94-2.06 2.06-.94-2.06-.94L8.5 2.5l-.94 2.06-2.06.94zm10 10l.94 2.06.94-2.06 2.06-.94-2.06-.94-.94-2.06-.94 2.06-2.06.94z\"/><path d=\"M17.41 7.96l-1.37-1.37c-.4-.4-.92-.59-1.43-.59-.52 0-1.04.2-1.43.59L10.3 9.45l-7.72 7.72c-.78.78-.78 2.05 0 2.83L4 21.41c.39.39.9.59 1.41.59.51 0 1.02-.2 1.41-.59l7.78-7.78 2.81-2.81c.8-.78.8-2.07 0-2.86zM5.41 20L4 18.59l7.72-7.72 1.47 1.35L5.41 20z\"/>\n",
              "  </svg>\n",
              "      </button>\n",
              "      \n",
              "  <style>\n",
              "    .colab-df-container {\n",
              "      display:flex;\n",
              "      flex-wrap:wrap;\n",
              "      gap: 12px;\n",
              "    }\n",
              "\n",
              "    .colab-df-convert {\n",
              "      background-color: #E8F0FE;\n",
              "      border: none;\n",
              "      border-radius: 50%;\n",
              "      cursor: pointer;\n",
              "      display: none;\n",
              "      fill: #1967D2;\n",
              "      height: 32px;\n",
              "      padding: 0 0 0 0;\n",
              "      width: 32px;\n",
              "    }\n",
              "\n",
              "    .colab-df-convert:hover {\n",
              "      background-color: #E2EBFA;\n",
              "      box-shadow: 0px 1px 2px rgba(60, 64, 67, 0.3), 0px 1px 3px 1px rgba(60, 64, 67, 0.15);\n",
              "      fill: #174EA6;\n",
              "    }\n",
              "\n",
              "    [theme=dark] .colab-df-convert {\n",
              "      background-color: #3B4455;\n",
              "      fill: #D2E3FC;\n",
              "    }\n",
              "\n",
              "    [theme=dark] .colab-df-convert:hover {\n",
              "      background-color: #434B5C;\n",
              "      box-shadow: 0px 1px 3px 1px rgba(0, 0, 0, 0.15);\n",
              "      filter: drop-shadow(0px 1px 2px rgba(0, 0, 0, 0.3));\n",
              "      fill: #FFFFFF;\n",
              "    }\n",
              "  </style>\n",
              "\n",
              "      <script>\n",
              "        const buttonEl =\n",
              "          document.querySelector('#df-b7736ce7-c0b7-4f33-bcac-39be1294f322 button.colab-df-convert');\n",
              "        buttonEl.style.display =\n",
              "          google.colab.kernel.accessAllowed ? 'block' : 'none';\n",
              "\n",
              "        async function convertToInteractive(key) {\n",
              "          const element = document.querySelector('#df-b7736ce7-c0b7-4f33-bcac-39be1294f322');\n",
              "          const dataTable =\n",
              "            await google.colab.kernel.invokeFunction('convertToInteractive',\n",
              "                                                     [key], {});\n",
              "          if (!dataTable) return;\n",
              "\n",
              "          const docLinkHtml = 'Like what you see? Visit the ' +\n",
              "            '<a target=\"_blank\" href=https://colab.research.google.com/notebooks/data_table.ipynb>data table notebook</a>'\n",
              "            + ' to learn more about interactive tables.';\n",
              "          element.innerHTML = '';\n",
              "          dataTable['output_type'] = 'display_data';\n",
              "          await google.colab.output.renderOutput(dataTable, element);\n",
              "          const docLink = document.createElement('div');\n",
              "          docLink.innerHTML = docLinkHtml;\n",
              "          element.appendChild(docLink);\n",
              "        }\n",
              "      </script>\n",
              "    </div>\n",
              "  </div>\n",
              "  "
            ]
          },
          "metadata": {},
          "execution_count": 7
        }
      ],
      "source": [
        "import spacy\n",
        "nlp = spacy.load(\"en_core_web_sm\")\n",
        "\n",
        "df_merged['tokens'] = df_merged['extracted sentence'].apply(nlp) # apply spacy to tokenize the sentence\n",
        "df_merged.head()"
      ]
    },
    {
      "cell_type": "markdown",
      "metadata": {
        "id": "5PynSO6RIJgS"
      },
      "source": [
        "## 1.4 Preprocess tokens"
      ]
    },
    {
      "cell_type": "markdown",
      "metadata": {
        "id": "g6g3CO9g53qa"
      },
      "source": [
        "Remove stopwords for filter sentences with subjective words, capital words, or exclamation marks.\n",
        "\n",
        "If we don't remove stopwords, captial words like \"I\", \"A\" will be selected, but these words are not helpful for sentiment analysis.\n",
        "\n",
        "I don't do lowercase because the capital words are helpful for sentiment analysis.\n",
        "\n",
        "I don't do lemmatization because it will influence the result of sentiment analysis, for example, \"better\" and \"good\" will be lemmatized to \"good\". But I want to keep the \"better\" for sentiment analysis."
      ]
    },
    {
      "cell_type": "code",
      "execution_count": 8,
      "metadata": {
        "id": "c4_ttQFX6c1r",
        "colab": {
          "base_uri": "https://localhost:8080/",
          "height": 159
        },
        "outputId": "6de5de69-fe99-42e2-e8cd-6844494c6ba4"
      },
      "outputs": [
        {
          "output_type": "execute_result",
          "data": {
            "text/plain": [
              "                                       original text  \\\n",
              "0  I had big expectations because I love English ...   \n",
              "\n",
              "                                  extracted sentence  reviewText? (1 or 0)  \\\n",
              "0  I had big expectations because I love English ...                     1   \n",
              "\n",
              "   summary? (1 or 0)                                             tokens  \\\n",
              "0                  0  (I, had, big, expectations, because, I, love, ...   \n",
              "\n",
              "                                 tokens_no_stopwords  \n",
              "0  [big, expectations, love, English, TV, ,, part...  "
            ],
            "text/html": [
              "\n",
              "  <div id=\"df-c91ff3b4-b8e2-44c6-99b0-d321171ac652\">\n",
              "    <div class=\"colab-df-container\">\n",
              "      <div>\n",
              "<style scoped>\n",
              "    .dataframe tbody tr th:only-of-type {\n",
              "        vertical-align: middle;\n",
              "    }\n",
              "\n",
              "    .dataframe tbody tr th {\n",
              "        vertical-align: top;\n",
              "    }\n",
              "\n",
              "    .dataframe thead th {\n",
              "        text-align: right;\n",
              "    }\n",
              "</style>\n",
              "<table border=\"1\" class=\"dataframe\">\n",
              "  <thead>\n",
              "    <tr style=\"text-align: right;\">\n",
              "      <th></th>\n",
              "      <th>original text</th>\n",
              "      <th>extracted sentence</th>\n",
              "      <th>reviewText? (1 or 0)</th>\n",
              "      <th>summary? (1 or 0)</th>\n",
              "      <th>tokens</th>\n",
              "      <th>tokens_no_stopwords</th>\n",
              "    </tr>\n",
              "  </thead>\n",
              "  <tbody>\n",
              "    <tr>\n",
              "      <th>0</th>\n",
              "      <td>I had big expectations because I love English ...</td>\n",
              "      <td>I had big expectations because I love English ...</td>\n",
              "      <td>1</td>\n",
              "      <td>0</td>\n",
              "      <td>(I, had, big, expectations, because, I, love, ...</td>\n",
              "      <td>[big, expectations, love, English, TV, ,, part...</td>\n",
              "    </tr>\n",
              "  </tbody>\n",
              "</table>\n",
              "</div>\n",
              "      <button class=\"colab-df-convert\" onclick=\"convertToInteractive('df-c91ff3b4-b8e2-44c6-99b0-d321171ac652')\"\n",
              "              title=\"Convert this dataframe to an interactive table.\"\n",
              "              style=\"display:none;\">\n",
              "        \n",
              "  <svg xmlns=\"http://www.w3.org/2000/svg\" height=\"24px\"viewBox=\"0 0 24 24\"\n",
              "       width=\"24px\">\n",
              "    <path d=\"M0 0h24v24H0V0z\" fill=\"none\"/>\n",
              "    <path d=\"M18.56 5.44l.94 2.06.94-2.06 2.06-.94-2.06-.94-.94-2.06-.94 2.06-2.06.94zm-11 1L8.5 8.5l.94-2.06 2.06-.94-2.06-.94L8.5 2.5l-.94 2.06-2.06.94zm10 10l.94 2.06.94-2.06 2.06-.94-2.06-.94-.94-2.06-.94 2.06-2.06.94z\"/><path d=\"M17.41 7.96l-1.37-1.37c-.4-.4-.92-.59-1.43-.59-.52 0-1.04.2-1.43.59L10.3 9.45l-7.72 7.72c-.78.78-.78 2.05 0 2.83L4 21.41c.39.39.9.59 1.41.59.51 0 1.02-.2 1.41-.59l7.78-7.78 2.81-2.81c.8-.78.8-2.07 0-2.86zM5.41 20L4 18.59l7.72-7.72 1.47 1.35L5.41 20z\"/>\n",
              "  </svg>\n",
              "      </button>\n",
              "      \n",
              "  <style>\n",
              "    .colab-df-container {\n",
              "      display:flex;\n",
              "      flex-wrap:wrap;\n",
              "      gap: 12px;\n",
              "    }\n",
              "\n",
              "    .colab-df-convert {\n",
              "      background-color: #E8F0FE;\n",
              "      border: none;\n",
              "      border-radius: 50%;\n",
              "      cursor: pointer;\n",
              "      display: none;\n",
              "      fill: #1967D2;\n",
              "      height: 32px;\n",
              "      padding: 0 0 0 0;\n",
              "      width: 32px;\n",
              "    }\n",
              "\n",
              "    .colab-df-convert:hover {\n",
              "      background-color: #E2EBFA;\n",
              "      box-shadow: 0px 1px 2px rgba(60, 64, 67, 0.3), 0px 1px 3px 1px rgba(60, 64, 67, 0.15);\n",
              "      fill: #174EA6;\n",
              "    }\n",
              "\n",
              "    [theme=dark] .colab-df-convert {\n",
              "      background-color: #3B4455;\n",
              "      fill: #D2E3FC;\n",
              "    }\n",
              "\n",
              "    [theme=dark] .colab-df-convert:hover {\n",
              "      background-color: #434B5C;\n",
              "      box-shadow: 0px 1px 3px 1px rgba(0, 0, 0, 0.15);\n",
              "      filter: drop-shadow(0px 1px 2px rgba(0, 0, 0, 0.3));\n",
              "      fill: #FFFFFF;\n",
              "    }\n",
              "  </style>\n",
              "\n",
              "      <script>\n",
              "        const buttonEl =\n",
              "          document.querySelector('#df-c91ff3b4-b8e2-44c6-99b0-d321171ac652 button.colab-df-convert');\n",
              "        buttonEl.style.display =\n",
              "          google.colab.kernel.accessAllowed ? 'block' : 'none';\n",
              "\n",
              "        async function convertToInteractive(key) {\n",
              "          const element = document.querySelector('#df-c91ff3b4-b8e2-44c6-99b0-d321171ac652');\n",
              "          const dataTable =\n",
              "            await google.colab.kernel.invokeFunction('convertToInteractive',\n",
              "                                                     [key], {});\n",
              "          if (!dataTable) return;\n",
              "\n",
              "          const docLinkHtml = 'Like what you see? Visit the ' +\n",
              "            '<a target=\"_blank\" href=https://colab.research.google.com/notebooks/data_table.ipynb>data table notebook</a>'\n",
              "            + ' to learn more about interactive tables.';\n",
              "          element.innerHTML = '';\n",
              "          dataTable['output_type'] = 'display_data';\n",
              "          await google.colab.output.renderOutput(dataTable, element);\n",
              "          const docLink = document.createElement('div');\n",
              "          docLink.innerHTML = docLinkHtml;\n",
              "          element.appendChild(docLink);\n",
              "        }\n",
              "      </script>\n",
              "    </div>\n",
              "  </div>\n",
              "  "
            ]
          },
          "metadata": {},
          "execution_count": 8
        }
      ],
      "source": [
        "def remove_stopwords(tokens):\n",
        "    return [token for token in tokens if (token.text == \"!\") or (not token.is_stop)] # I need to keep the \"!\"\n",
        "\n",
        "df_merged['tokens_no_stopwords'] = df_merged['tokens'].apply(lambda x: remove_stopwords(x))\n",
        "df_merged.head(1)"
      ]
    },
    {
      "cell_type": "markdown",
      "metadata": {
        "id": "6Zchfel6Xcsa"
      },
      "source": [
        "## 1.5 Filter sentence that contains subjective words, capital words, or exclamation marks"
      ]
    },
    {
      "cell_type": "code",
      "execution_count": 9,
      "metadata": {
        "id": "ZXFBpzE9Xb4V",
        "colab": {
          "base_uri": "https://localhost:8080/",
          "height": 225
        },
        "outputId": "acf3a38d-0df6-4638-a0cb-aaf33bbc7b3c"
      },
      "outputs": [
        {
          "output_type": "stream",
          "name": "stdout",
          "text": [
            "10867\n"
          ]
        },
        {
          "output_type": "execute_result",
          "data": {
            "text/plain": [
              "                                       original text  \\\n",
              "0  I had big expectations because I love English ...   \n",
              "1  I highly recommend this series. It is a must f...   \n",
              "\n",
              "                                  extracted sentence  reviewText? (1 or 0)  \\\n",
              "0  I had big expectations because I love English ...                     1   \n",
              "1  Complex characters and plots to keep one total...                     1   \n",
              "\n",
              "   summary? (1 or 0)                                             tokens  \\\n",
              "0                  0  (I, had, big, expectations, because, I, love, ...   \n",
              "1                  0  (Complex, characters, and, plots, to, keep, on...   \n",
              "\n",
              "                                 tokens_no_stopwords  match  \n",
              "0  [big, expectations, love, English, TV, ,, part...      1  \n",
              "1  [Complex, characters, plots, totally, involved...      1  "
            ],
            "text/html": [
              "\n",
              "  <div id=\"df-1b382b65-9785-4d72-b9aa-d228b170482e\">\n",
              "    <div class=\"colab-df-container\">\n",
              "      <div>\n",
              "<style scoped>\n",
              "    .dataframe tbody tr th:only-of-type {\n",
              "        vertical-align: middle;\n",
              "    }\n",
              "\n",
              "    .dataframe tbody tr th {\n",
              "        vertical-align: top;\n",
              "    }\n",
              "\n",
              "    .dataframe thead th {\n",
              "        text-align: right;\n",
              "    }\n",
              "</style>\n",
              "<table border=\"1\" class=\"dataframe\">\n",
              "  <thead>\n",
              "    <tr style=\"text-align: right;\">\n",
              "      <th></th>\n",
              "      <th>original text</th>\n",
              "      <th>extracted sentence</th>\n",
              "      <th>reviewText? (1 or 0)</th>\n",
              "      <th>summary? (1 or 0)</th>\n",
              "      <th>tokens</th>\n",
              "      <th>tokens_no_stopwords</th>\n",
              "      <th>match</th>\n",
              "    </tr>\n",
              "  </thead>\n",
              "  <tbody>\n",
              "    <tr>\n",
              "      <th>0</th>\n",
              "      <td>I had big expectations because I love English ...</td>\n",
              "      <td>I had big expectations because I love English ...</td>\n",
              "      <td>1</td>\n",
              "      <td>0</td>\n",
              "      <td>(I, had, big, expectations, because, I, love, ...</td>\n",
              "      <td>[big, expectations, love, English, TV, ,, part...</td>\n",
              "      <td>1</td>\n",
              "    </tr>\n",
              "    <tr>\n",
              "      <th>1</th>\n",
              "      <td>I highly recommend this series. It is a must f...</td>\n",
              "      <td>Complex characters and plots to keep one total...</td>\n",
              "      <td>1</td>\n",
              "      <td>0</td>\n",
              "      <td>(Complex, characters, and, plots, to, keep, on...</td>\n",
              "      <td>[Complex, characters, plots, totally, involved...</td>\n",
              "      <td>1</td>\n",
              "    </tr>\n",
              "  </tbody>\n",
              "</table>\n",
              "</div>\n",
              "      <button class=\"colab-df-convert\" onclick=\"convertToInteractive('df-1b382b65-9785-4d72-b9aa-d228b170482e')\"\n",
              "              title=\"Convert this dataframe to an interactive table.\"\n",
              "              style=\"display:none;\">\n",
              "        \n",
              "  <svg xmlns=\"http://www.w3.org/2000/svg\" height=\"24px\"viewBox=\"0 0 24 24\"\n",
              "       width=\"24px\">\n",
              "    <path d=\"M0 0h24v24H0V0z\" fill=\"none\"/>\n",
              "    <path d=\"M18.56 5.44l.94 2.06.94-2.06 2.06-.94-2.06-.94-.94-2.06-.94 2.06-2.06.94zm-11 1L8.5 8.5l.94-2.06 2.06-.94-2.06-.94L8.5 2.5l-.94 2.06-2.06.94zm10 10l.94 2.06.94-2.06 2.06-.94-2.06-.94-.94-2.06-.94 2.06-2.06.94z\"/><path d=\"M17.41 7.96l-1.37-1.37c-.4-.4-.92-.59-1.43-.59-.52 0-1.04.2-1.43.59L10.3 9.45l-7.72 7.72c-.78.78-.78 2.05 0 2.83L4 21.41c.39.39.9.59 1.41.59.51 0 1.02-.2 1.41-.59l7.78-7.78 2.81-2.81c.8-.78.8-2.07 0-2.86zM5.41 20L4 18.59l7.72-7.72 1.47 1.35L5.41 20z\"/>\n",
              "  </svg>\n",
              "      </button>\n",
              "      \n",
              "  <style>\n",
              "    .colab-df-container {\n",
              "      display:flex;\n",
              "      flex-wrap:wrap;\n",
              "      gap: 12px;\n",
              "    }\n",
              "\n",
              "    .colab-df-convert {\n",
              "      background-color: #E8F0FE;\n",
              "      border: none;\n",
              "      border-radius: 50%;\n",
              "      cursor: pointer;\n",
              "      display: none;\n",
              "      fill: #1967D2;\n",
              "      height: 32px;\n",
              "      padding: 0 0 0 0;\n",
              "      width: 32px;\n",
              "    }\n",
              "\n",
              "    .colab-df-convert:hover {\n",
              "      background-color: #E2EBFA;\n",
              "      box-shadow: 0px 1px 2px rgba(60, 64, 67, 0.3), 0px 1px 3px 1px rgba(60, 64, 67, 0.15);\n",
              "      fill: #174EA6;\n",
              "    }\n",
              "\n",
              "    [theme=dark] .colab-df-convert {\n",
              "      background-color: #3B4455;\n",
              "      fill: #D2E3FC;\n",
              "    }\n",
              "\n",
              "    [theme=dark] .colab-df-convert:hover {\n",
              "      background-color: #434B5C;\n",
              "      box-shadow: 0px 1px 3px 1px rgba(0, 0, 0, 0.15);\n",
              "      filter: drop-shadow(0px 1px 2px rgba(0, 0, 0, 0.3));\n",
              "      fill: #FFFFFF;\n",
              "    }\n",
              "  </style>\n",
              "\n",
              "      <script>\n",
              "        const buttonEl =\n",
              "          document.querySelector('#df-1b382b65-9785-4d72-b9aa-d228b170482e button.colab-df-convert');\n",
              "        buttonEl.style.display =\n",
              "          google.colab.kernel.accessAllowed ? 'block' : 'none';\n",
              "\n",
              "        async function convertToInteractive(key) {\n",
              "          const element = document.querySelector('#df-1b382b65-9785-4d72-b9aa-d228b170482e');\n",
              "          const dataTable =\n",
              "            await google.colab.kernel.invokeFunction('convertToInteractive',\n",
              "                                                     [key], {});\n",
              "          if (!dataTable) return;\n",
              "\n",
              "          const docLinkHtml = 'Like what you see? Visit the ' +\n",
              "            '<a target=\"_blank\" href=https://colab.research.google.com/notebooks/data_table.ipynb>data table notebook</a>'\n",
              "            + ' to learn more about interactive tables.';\n",
              "          element.innerHTML = '';\n",
              "          dataTable['output_type'] = 'display_data';\n",
              "          await google.colab.output.renderOutput(dataTable, element);\n",
              "          const docLink = document.createElement('div');\n",
              "          docLink.innerHTML = docLinkHtml;\n",
              "          element.appendChild(docLink);\n",
              "        }\n",
              "      </script>\n",
              "    </div>\n",
              "  </div>\n",
              "  "
            ]
          },
          "metadata": {},
          "execution_count": 9
        }
      ],
      "source": [
        "df_merged['match'] = 0 # create a new column called match, and give default value = 0 to all rows, which represents the sentence does not match the criteria\n",
        "for i in range(len(df_merged)):\n",
        "  for token in df_merged.iloc[i, -2]: # use tokens_no_stopwords column to filter sentences\n",
        "    if (token.is_upper) or (token.text == '!') or (token.pos_ == 'ADJ'): # if the sentence contains upper case, exclamation mark or adjective, then it matches the criteria\n",
        "      df_merged.at[i,'match'] = 1 # if the sentence matches the criteria, then change the value of match to 1\n",
        "      break\n",
        "\n",
        "df_selected = df_merged[df_merged['match'] == 1] # select the sentences that match the criteria\n",
        "df_selected = df_selected.reset_index(drop=True) # reset the index\n",
        "print(len(df_selected))\n",
        "df_selected.head(2)"
      ]
    },
    {
      "cell_type": "markdown",
      "metadata": {
        "id": "rwgputq_WDED"
      },
      "source": [
        "## 1.6 Add description columns"
      ]
    },
    {
      "cell_type": "markdown",
      "metadata": {
        "id": "p0btS9CzIJgS"
      },
      "source": [
        "(1) Add the length of the sentence as a new column:\n"
      ]
    },
    {
      "cell_type": "code",
      "execution_count": 10,
      "metadata": {
        "id": "SfwhEOoyC4ko"
      },
      "outputs": [],
      "source": [
        "df_selected['length of a sentence'] = df_selected['extracted sentence'].apply(len)"
      ]
    },
    {
      "cell_type": "markdown",
      "metadata": {
        "id": "h1IYIUryIJgS"
      },
      "source": [
        "(2) Add the adjective word list as a new column:"
      ]
    },
    {
      "cell_type": "code",
      "execution_count": 11,
      "metadata": {
        "id": "O2IpOG3E9Vml"
      },
      "outputs": [],
      "source": [
        "# define a function to extract the adjectives\n",
        "def get_adjectives(doc):\n",
        "    adj = [token for token in doc if token.pos_ == 'ADJ']\n",
        "    if len(adj) == 0:\n",
        "        return 0\n",
        "    else:\n",
        "        return adj\n",
        "df_selected['adjective word list'] = df_selected['tokens'].apply(get_adjectives)\n"
      ]
    },
    {
      "cell_type": "markdown",
      "metadata": {
        "id": "czMlAknFIJgS"
      },
      "source": [
        "(3) Add the noun list as a new column:"
      ]
    },
    {
      "cell_type": "code",
      "execution_count": 12,
      "metadata": {
        "id": "dkYP2gu8C0LX"
      },
      "outputs": [],
      "source": [
        "# define a function to extract the nouns in a document\n",
        "def get_nouns(doc):\n",
        "    nouns = [token for token in doc if token.pos_ == 'NOUN']\n",
        "    if len(nouns) == 0:\n",
        "        return 0\n",
        "    else:\n",
        "        return nouns  \n",
        "df_selected['noun list'] = df_selected['tokens'].apply(lambda doc: get_nouns(doc))"
      ]
    },
    {
      "cell_type": "markdown",
      "metadata": {
        "id": "Cuh1ayIIIJgS"
      },
      "source": [
        "(4) Add the capital word list as a new column, I use tokens_no_stopwords so that remove capital words like \"I\", \"A\"."
      ]
    },
    {
      "cell_type": "code",
      "execution_count": 13,
      "metadata": {
        "id": "b59xJIlK2quA"
      },
      "outputs": [],
      "source": [
        "# define a function to extract the capitalized words in a document\n",
        "def get_capitalized_words(doc):\n",
        "    capit = [token for token in doc if token.is_upper]\n",
        "    if len(capit) == 0:\n",
        "        return 0\n",
        "    else:\n",
        "        return capit       \n",
        "\n",
        "df_selected['capital word list'] = df_selected['tokens_no_stopwords'].apply(get_capitalized_words)"
      ]
    },
    {
      "cell_type": "markdown",
      "metadata": {
        "id": "xQhaaNAjEuBf"
      },
      "source": [
        "(5) Add the exclamation mark as a new column:"
      ]
    },
    {
      "cell_type": "code",
      "execution_count": 14,
      "metadata": {
        "id": "aKBfLz-xDkb0"
      },
      "outputs": [],
      "source": [
        "def get_exclamation_mark(doc):\n",
        "  if any(token.text == '!' for token in doc):\n",
        "    return 1 # if the sentence contains exclamation mark, then return 1\n",
        "  else:\n",
        "    return 0 # if the sentence does not contain exclamation mark, then return 0\n",
        "df_selected['exclamation mark? (1 or 0)'] = df_selected['tokens'].apply(get_exclamation_mark)"
      ]
    },
    {
      "cell_type": "markdown",
      "metadata": {
        "id": "PnhoETPPAMI0"
      },
      "source": [
        "(6) Create bigrams by using tokens that don't remove stopwords:"
      ]
    },
    {
      "cell_type": "code",
      "execution_count": 15,
      "metadata": {
        "id": "6ZV_MnjREWjo"
      },
      "outputs": [],
      "source": [
        "import nltk\n",
        "\n",
        "# Define a function to extract bigrams based on part-of-speech tags\n",
        "def get_bigrams(doc):\n",
        "    # Create a list of words\n",
        "    words = [token.text for token in doc]\n",
        "    # Create a list of bigrams\n",
        "    bigrams = list(nltk.bigrams(words))\n",
        "    # Filter the bigrams based on part-of-speech tags\n",
        "    word_list = [token.text for token in doc if token.pos_ in ['ADJ', 'NOUN', 'VERB']]\n",
        "    result = []\n",
        "    for bigram in bigrams:\n",
        "        if any(word in word_list for word in bigram):\n",
        "            result.append(bigram)\n",
        "    return result\n",
        "\n",
        "# Apply the get_bigrams function to the 'text' column and assign the result to the 'bigram list' column\n",
        "df_selected['bigram list'] = df_selected['tokens'].apply(get_bigrams)"
      ]
    },
    {
      "cell_type": "markdown",
      "metadata": {
        "id": "FegzYxJAIJgT"
      },
      "source": [
        "Remove match column:"
      ]
    },
    {
      "cell_type": "code",
      "execution_count": 16,
      "metadata": {
        "colab": {
          "base_uri": "https://localhost:8080/",
          "height": 211
        },
        "id": "W7zBIstOMbdF",
        "outputId": "0f53a450-18b4-4aa8-8fe1-672378f81156"
      },
      "outputs": [
        {
          "output_type": "execute_result",
          "data": {
            "text/plain": [
              "                                       original text  \\\n",
              "0  I had big expectations because I love English ...   \n",
              "\n",
              "                                  extracted sentence  reviewText? (1 or 0)  \\\n",
              "0  I had big expectations because I love English ...                     1   \n",
              "\n",
              "   summary? (1 or 0)                                             tokens  \\\n",
              "0                  0  (I, had, big, expectations, because, I, love, ...   \n",
              "\n",
              "                                 tokens_no_stopwords  length of a sentence  \\\n",
              "0  [big, expectations, love, English, TV, ,, part...                   128   \n",
              "\n",
              "                        adjective word list                       noun list  \\\n",
              "0  [big, particular, Investigative, boring]  [expectations, TV, stuff, guy]   \n",
              "\n",
              "  capital word list  exclamation mark? (1 or 0)  \\\n",
              "0              [TV]                           0   \n",
              "\n",
              "                                         bigram list  \n",
              "0  [(I, had), (had, big), (big, expectations), (e...  "
            ],
            "text/html": [
              "\n",
              "  <div id=\"df-73111cf0-3e67-4b78-a6e0-e731c02185ea\">\n",
              "    <div class=\"colab-df-container\">\n",
              "      <div>\n",
              "<style scoped>\n",
              "    .dataframe tbody tr th:only-of-type {\n",
              "        vertical-align: middle;\n",
              "    }\n",
              "\n",
              "    .dataframe tbody tr th {\n",
              "        vertical-align: top;\n",
              "    }\n",
              "\n",
              "    .dataframe thead th {\n",
              "        text-align: right;\n",
              "    }\n",
              "</style>\n",
              "<table border=\"1\" class=\"dataframe\">\n",
              "  <thead>\n",
              "    <tr style=\"text-align: right;\">\n",
              "      <th></th>\n",
              "      <th>original text</th>\n",
              "      <th>extracted sentence</th>\n",
              "      <th>reviewText? (1 or 0)</th>\n",
              "      <th>summary? (1 or 0)</th>\n",
              "      <th>tokens</th>\n",
              "      <th>tokens_no_stopwords</th>\n",
              "      <th>length of a sentence</th>\n",
              "      <th>adjective word list</th>\n",
              "      <th>noun list</th>\n",
              "      <th>capital word list</th>\n",
              "      <th>exclamation mark? (1 or 0)</th>\n",
              "      <th>bigram list</th>\n",
              "    </tr>\n",
              "  </thead>\n",
              "  <tbody>\n",
              "    <tr>\n",
              "      <th>0</th>\n",
              "      <td>I had big expectations because I love English ...</td>\n",
              "      <td>I had big expectations because I love English ...</td>\n",
              "      <td>1</td>\n",
              "      <td>0</td>\n",
              "      <td>(I, had, big, expectations, because, I, love, ...</td>\n",
              "      <td>[big, expectations, love, English, TV, ,, part...</td>\n",
              "      <td>128</td>\n",
              "      <td>[big, particular, Investigative, boring]</td>\n",
              "      <td>[expectations, TV, stuff, guy]</td>\n",
              "      <td>[TV]</td>\n",
              "      <td>0</td>\n",
              "      <td>[(I, had), (had, big), (big, expectations), (e...</td>\n",
              "    </tr>\n",
              "  </tbody>\n",
              "</table>\n",
              "</div>\n",
              "      <button class=\"colab-df-convert\" onclick=\"convertToInteractive('df-73111cf0-3e67-4b78-a6e0-e731c02185ea')\"\n",
              "              title=\"Convert this dataframe to an interactive table.\"\n",
              "              style=\"display:none;\">\n",
              "        \n",
              "  <svg xmlns=\"http://www.w3.org/2000/svg\" height=\"24px\"viewBox=\"0 0 24 24\"\n",
              "       width=\"24px\">\n",
              "    <path d=\"M0 0h24v24H0V0z\" fill=\"none\"/>\n",
              "    <path d=\"M18.56 5.44l.94 2.06.94-2.06 2.06-.94-2.06-.94-.94-2.06-.94 2.06-2.06.94zm-11 1L8.5 8.5l.94-2.06 2.06-.94-2.06-.94L8.5 2.5l-.94 2.06-2.06.94zm10 10l.94 2.06.94-2.06 2.06-.94-2.06-.94-.94-2.06-.94 2.06-2.06.94z\"/><path d=\"M17.41 7.96l-1.37-1.37c-.4-.4-.92-.59-1.43-.59-.52 0-1.04.2-1.43.59L10.3 9.45l-7.72 7.72c-.78.78-.78 2.05 0 2.83L4 21.41c.39.39.9.59 1.41.59.51 0 1.02-.2 1.41-.59l7.78-7.78 2.81-2.81c.8-.78.8-2.07 0-2.86zM5.41 20L4 18.59l7.72-7.72 1.47 1.35L5.41 20z\"/>\n",
              "  </svg>\n",
              "      </button>\n",
              "      \n",
              "  <style>\n",
              "    .colab-df-container {\n",
              "      display:flex;\n",
              "      flex-wrap:wrap;\n",
              "      gap: 12px;\n",
              "    }\n",
              "\n",
              "    .colab-df-convert {\n",
              "      background-color: #E8F0FE;\n",
              "      border: none;\n",
              "      border-radius: 50%;\n",
              "      cursor: pointer;\n",
              "      display: none;\n",
              "      fill: #1967D2;\n",
              "      height: 32px;\n",
              "      padding: 0 0 0 0;\n",
              "      width: 32px;\n",
              "    }\n",
              "\n",
              "    .colab-df-convert:hover {\n",
              "      background-color: #E2EBFA;\n",
              "      box-shadow: 0px 1px 2px rgba(60, 64, 67, 0.3), 0px 1px 3px 1px rgba(60, 64, 67, 0.15);\n",
              "      fill: #174EA6;\n",
              "    }\n",
              "\n",
              "    [theme=dark] .colab-df-convert {\n",
              "      background-color: #3B4455;\n",
              "      fill: #D2E3FC;\n",
              "    }\n",
              "\n",
              "    [theme=dark] .colab-df-convert:hover {\n",
              "      background-color: #434B5C;\n",
              "      box-shadow: 0px 1px 3px 1px rgba(0, 0, 0, 0.15);\n",
              "      filter: drop-shadow(0px 1px 2px rgba(0, 0, 0, 0.3));\n",
              "      fill: #FFFFFF;\n",
              "    }\n",
              "  </style>\n",
              "\n",
              "      <script>\n",
              "        const buttonEl =\n",
              "          document.querySelector('#df-73111cf0-3e67-4b78-a6e0-e731c02185ea button.colab-df-convert');\n",
              "        buttonEl.style.display =\n",
              "          google.colab.kernel.accessAllowed ? 'block' : 'none';\n",
              "\n",
              "        async function convertToInteractive(key) {\n",
              "          const element = document.querySelector('#df-73111cf0-3e67-4b78-a6e0-e731c02185ea');\n",
              "          const dataTable =\n",
              "            await google.colab.kernel.invokeFunction('convertToInteractive',\n",
              "                                                     [key], {});\n",
              "          if (!dataTable) return;\n",
              "\n",
              "          const docLinkHtml = 'Like what you see? Visit the ' +\n",
              "            '<a target=\"_blank\" href=https://colab.research.google.com/notebooks/data_table.ipynb>data table notebook</a>'\n",
              "            + ' to learn more about interactive tables.';\n",
              "          element.innerHTML = '';\n",
              "          dataTable['output_type'] = 'display_data';\n",
              "          await google.colab.output.renderOutput(dataTable, element);\n",
              "          const docLink = document.createElement('div');\n",
              "          docLink.innerHTML = docLinkHtml;\n",
              "          element.appendChild(docLink);\n",
              "        }\n",
              "      </script>\n",
              "    </div>\n",
              "  </div>\n",
              "  "
            ]
          },
          "metadata": {},
          "execution_count": 16
        }
      ],
      "source": [
        "df_selected = df_selected.drop(['match'], axis=1)\n",
        "df_selected.head(1)"
      ]
    },
    {
      "cell_type": "markdown",
      "metadata": {
        "id": "qGrKt_lQIJgT"
      },
      "source": [
        "## 1.7 Save the result for task 1"
      ]
    },
    {
      "cell_type": "code",
      "execution_count": 17,
      "metadata": {
        "id": "_K0AgYWqL7TX"
      },
      "outputs": [],
      "source": [
        "df_task1 = df_selected[['reviewText? (1 or 0)', 'summary? (1 or 0)','original text','extracted sentence', 'length of a sentence', 'adjective word list', 'noun list', 'bigram list','capital word list', 'exclamation mark? (1 or 0)']]\n",
        "df_task1.head(1)\n",
        "df_task1.to_csv(\"/drive/My Drive/Colab Notebooks/Wed_Homework1/task1.csv\")\n",
        "\n",
        "# Link: https://drive.google.com/file/d/1-3wUCvQVo3JrSkzP1084witD_HMvNni1/view?usp=share_link"
      ]
    },
    {
      "cell_type": "markdown",
      "metadata": {
        "id": "IE7pvRi4XJ2K"
      },
      "source": [
        "# Task 2: Predict sentiment for each sentence"
      ]
    },
    {
      "cell_type": "markdown",
      "metadata": {
        "id": "zRg3nccvYKjU"
      },
      "source": [
        "## 2.1 Build a classifier "
      ]
    },
    {
      "cell_type": "markdown",
      "metadata": {
        "id": "2okQZ3t7XjlX"
      },
      "source": [
        "### Use sentence_polarity corpus\n",
        "I use sentence_polarity because this dataset contains a large number of customer reviews, and specific to the movie domain, which is suitable for our review data. \n",
        "\n",
        "And it is easily downloaded and integrated into existing sentiment analysis workflows. \n",
        "\n",
        "Furthermore, it is a balanced dataset, which means that it contains an equal number of positive and negative reviews.\n",
        "\n"
      ]
    },
    {
      "cell_type": "markdown",
      "metadata": {
        "id": "7Ic2eb5bHCst"
      },
      "source": [
        "### 2.1.1 Start: Bag-of-word"
      ]
    },
    {
      "cell_type": "code",
      "execution_count": 18,
      "metadata": {
        "colab": {
          "base_uri": "https://localhost:8080/"
        },
        "id": "9-mDGJ5eXMkH",
        "outputId": "cd4f695f-557a-4fdb-fe44-0033c0da1678"
      },
      "outputs": [
        {
          "output_type": "stream",
          "name": "stderr",
          "text": [
            "[nltk_data] Downloading package sentence_polarity to\n",
            "[nltk_data]     /root/nltk_data...\n",
            "[nltk_data]   Package sentence_polarity is already up-to-date!\n"
          ]
        },
        {
          "output_type": "stream",
          "name": "stdout",
          "text": [
            "['.', 'the', ',', 'a', 'and', 'of', 'to', 'is', 'in', 'that']\n"
          ]
        }
      ],
      "source": [
        "# movie review sentences\n",
        "import nltk\n",
        "nltk.download('sentence_polarity')\n",
        "from nltk.corpus import sentence_polarity\n",
        "import random\n",
        "\n",
        "# setup the movie reviews sentences for classification\n",
        "documents = [(sent, cat) for cat in sentence_polarity.categories() \n",
        "\tfor sent in sentence_polarity.sents(categories=cat)]\n",
        "\n",
        "# Since the documents are in order by label, we mix them up for later separation into training and test sets.\n",
        "random.shuffle(documents)\n",
        "\n",
        "all_words_list = [word for (sent,cat) in documents for word in sent]\n",
        "all_words = nltk.FreqDist(all_words_list)\n",
        "\n",
        "# get the 1000 most frequently appearing keywords in the corpus\n",
        "word_items = all_words.most_common(1000)\n",
        "word_features = [word for (word,count) in word_items]\n",
        "print(word_features[:10])"
      ]
    },
    {
      "cell_type": "code",
      "source": [
        "# define the new feature sets\n",
        "def document_features(document, word_features):\n",
        "    document_words = set(document)\n",
        "    features = {}\n",
        "    for word in word_features: # this is the bag of words, with the 1000 most common words, and a boolean value for each word\n",
        "        features['V_{}'.format(word)] = (word in document_words)\n",
        "    return features\n",
        "featuresets0 = [(document_features(d, word_features), c) for (d, c) in documents]\n"
      ],
      "metadata": {
        "id": "QTs60DD4ymgZ"
      },
      "execution_count": 19,
      "outputs": []
    },
    {
      "cell_type": "code",
      "source": [
        "train_set0, test_set0 = featuresets0[1000:], featuresets0[:1000]\n",
        "classifier0 = nltk.NaiveBayesClassifier.train(train_set0)\n",
        "nltk.classify.accuracy(classifier0, test_set0)"
      ],
      "metadata": {
        "colab": {
          "base_uri": "https://localhost:8080/"
        },
        "id": "SCLgBZ_myO8y",
        "outputId": "9b199a1a-c54c-4c65-94cd-13e4614b0a4a"
      },
      "execution_count": 20,
      "outputs": [
        {
          "output_type": "execute_result",
          "data": {
            "text/plain": [
              "0.71"
            ]
          },
          "metadata": {},
          "execution_count": 20
        }
      ]
    },
    {
      "cell_type": "code",
      "source": [
        "import nltk\n",
        "from nltk.classify import NaiveBayesClassifier\n",
        "from nltk.classify.util import accuracy\n",
        "from sklearn.metrics import precision_recall_fscore_support\n",
        "from sklearn.model_selection import KFold\n",
        "import numpy as np\n",
        "\n",
        "k_fold = KFold(n_splits=2)\n",
        "\n",
        "accuracies = []\n",
        "precisions = []\n",
        "recalls = []\n",
        "f1_scores = []\n",
        "\n",
        "for train_indices, test_indices in k_fold.split(featuresets0):\n",
        "    # train the classifier on the training set\n",
        "    nb_classifier = NaiveBayesClassifier.train([featuresets0[i] for i in train_indices])\n",
        "\n",
        "    # evaluate the classifier on the test set and compute the accuracy\n",
        "    test_set = [featuresets0[i] for i in test_indices]\n",
        "    accuracy_val = accuracy(nb_classifier, test_set)\n",
        "    accuracies.append(accuracy_val)\n",
        "\n",
        "    # compute precision, recall, and F1-score\n",
        "    y_true = [cat for _, cat in test_set]\n",
        "    y_pred = [nb_classifier.classify(doc) for doc, _ in test_set]\n",
        "    precision, recall, f1_score, _ = precision_recall_fscore_support(y_true, y_pred, average='weighted')\n",
        "    precisions.append(precision)\n",
        "    recalls.append(recall)\n",
        "    f1_scores.append(f1_score)\n",
        "\n",
        "# print the evaluation metrics for each fold and the mean metrics over all folds\n",
        "print(\"Average accuracy: \", np.mean(accuracies))\n",
        "print(\"Average precision: \", np.mean(precisions))\n",
        "print(\"Average recall: \", np.mean(recalls))\n",
        "print(\"Average F1-score: \", np.mean(f1_scores))"
      ],
      "metadata": {
        "colab": {
          "base_uri": "https://localhost:8080/"
        },
        "id": "JmG9N7day8-H",
        "outputId": "49f703f9-07a2-438f-be77-c5dec7728029"
      },
      "execution_count": 21,
      "outputs": [
        {
          "output_type": "stream",
          "name": "stdout",
          "text": [
            "Average accuracy:  0.7115925717501407\n",
            "Average precision:  0.7116399317794211\n",
            "Average recall:  0.7115925717501407\n",
            "Average F1-score:  0.7115693671119729\n"
          ]
        }
      ]
    },
    {
      "cell_type": "markdown",
      "metadata": {
        "id": "iaqGLl2QZlKj"
      },
      "source": [
        "### 2.1.2 Negation + bag-of-words"
      ]
    },
    {
      "cell_type": "markdown",
      "metadata": {
        "id": "Xz4Bj6hGIJgT"
      },
      "source": [
        "This feature set is a combination of the negation feature set and the bag-of-words feature set. First, we select the most frequent 1000 words as features. Then, we add negation features to the feature set.\n",
        "\n",
        "The bag-of-words features are created in the first for loop, where each word in the document is checked against the word_features list, and if it is present in the list, the corresponding feature is set to True.\n",
        "\n",
        "The negation features are created in the second for loop. If a word in the document is a negation word (e.g. \"not\", \"never\"), or ends with \"n't\" (e.g. \"can't\", \"didn't\"), then the next word in the document is checked against the word_features list, and if it is present, the corresponding negation feature is set to True."
      ]
    },
    {
      "cell_type": "code",
      "execution_count": 22,
      "metadata": {
        "id": "_getW276Z9iG"
      },
      "outputs": [],
      "source": [
        "# this list of negation words includes some \"approximate negators\" like hardly and rarely\n",
        "negationwords = ['no', 'not', 'never', 'none', 'nowhere', 'nothing', 'noone', 'rather', 'hardly', 'scarcely', 'rarely', 'seldom', 'neither', 'nor']\n",
        "\n",
        "def NOT_features(document, word_features, negationwords):\n",
        "    features = {}\n",
        "    for word in word_features:\n",
        "        features['V_{}'.format(word)] = False\n",
        "        features['V_NOT{}'.format(word)] = False\n",
        "    # go through document words in order\n",
        "    for i in range(0, len(document)):\n",
        "        word = document[i]\n",
        "        if ((i + 1) < len(document)) and ((word in negationwords) or (word.endswith(\"n't\"))):\n",
        "            i += 1\n",
        "            features['V_NOT{}'.format(document[i])] = (document[i] in word_features)\n",
        "        else:\n",
        "            features['V_{}'.format(word)] = (word in word_features)\n",
        "    return features\n",
        "# define the feature sets\n",
        "NOT_featuresets = [(NOT_features(d, word_features, negationwords), c) for (d, c) in documents]"
      ]
    },
    {
      "cell_type": "code",
      "execution_count": 23,
      "metadata": {
        "colab": {
          "base_uri": "https://localhost:8080/"
        },
        "id": "8NgV6kgeaBlk",
        "outputId": "e770ec65-d8d8-4f4a-ee19-e075693c1ca7"
      },
      "outputs": [
        {
          "output_type": "execute_result",
          "data": {
            "text/plain": [
              "0.754"
            ]
          },
          "metadata": {},
          "execution_count": 23
        }
      ],
      "source": [
        "train_set1, test_set1 = NOT_featuresets[1000:], NOT_featuresets[:1000]\n",
        "classifier1 = nltk.NaiveBayesClassifier.train(train_set1)\n",
        "nltk.classify.accuracy(classifier1, test_set1)"
      ]
    },
    {
      "cell_type": "markdown",
      "metadata": {
        "id": "4gxapmGmIJgU"
      },
      "source": [
        "For this negation+bag-of-words feature set, I use Naive Bayes classifier and cross validation to evaluate the performance of the classifier.\n",
        "\n",
        "I use 5-fold cross validation to evaluate the performance of the classifier. And calculate the average accuracy, precision, recall, and F1 score."
      ]
    },
    {
      "cell_type": "code",
      "execution_count": 24,
      "metadata": {
        "colab": {
          "base_uri": "https://localhost:8080/"
        },
        "id": "Q-LAEJSnP1l_",
        "outputId": "69602897-c896-408b-979c-f00318225ee5"
      },
      "outputs": [
        {
          "output_type": "stream",
          "name": "stdout",
          "text": [
            "Average accuracy:  0.751735134121178\n",
            "Average precision:  0.7518018377443548\n",
            "Average recall:  0.751735134121178\n",
            "Average F1-score:  0.7517234707909055\n"
          ]
        }
      ],
      "source": [
        "k_fold = KFold(n_splits=2)\n",
        "\n",
        "accuracies = []\n",
        "precisions = []\n",
        "recalls = []\n",
        "f1_scores = []\n",
        "\n",
        "for train_indices, test_indices in k_fold.split(NOT_featuresets):\n",
        "    # train the classifier on the training set\n",
        "    nb_classifier = NaiveBayesClassifier.train([NOT_featuresets[i] for i in train_indices])\n",
        "\n",
        "    # evaluate the classifier on the test set and compute the accuracy\n",
        "    test_set = [NOT_featuresets[i] for i in test_indices]\n",
        "    accuracy_val = accuracy(nb_classifier, test_set)\n",
        "    accuracies.append(accuracy_val)\n",
        "\n",
        "    # compute precision, recall, and F1-score\n",
        "    y_true = [cat for _, cat in test_set]\n",
        "    y_pred = [nb_classifier.classify(doc) for doc, _ in test_set]\n",
        "    precision, recall, f1_score, _ = precision_recall_fscore_support(y_true, y_pred, average='weighted')\n",
        "    precisions.append(precision)\n",
        "    recalls.append(recall)\n",
        "    f1_scores.append(f1_score)\n",
        "\n",
        "# print the evaluation metrics for each fold and the mean metrics over all folds\n",
        "print(\"Average accuracy: \", np.mean(accuracies))\n",
        "print(\"Average precision: \", np.mean(precisions))\n",
        "print(\"Average recall: \", np.mean(recalls))\n",
        "print(\"Average F1-score: \", np.mean(f1_scores))\n"
      ]
    },
    {
      "cell_type": "markdown",
      "source": [
        "The result is better than the basic bag-of-word model."
      ],
      "metadata": {
        "id": "LNKaJrlh3KKT"
      }
    },
    {
      "cell_type": "markdown",
      "metadata": {
        "id": "KpPi5X_PaaZg"
      },
      "source": [
        "### 2.1.3 Stopwords + Bag-of-word"
      ]
    },
    {
      "cell_type": "markdown",
      "metadata": {
        "id": "tUBhRx1rIJgU"
      },
      "source": [
        "The feature set is a combination of the stopwords feature set and the bag-of-words feature set. It contains bag-of-words features based on the 1000 most common words in the documents after removing stopwords and some negation words."
      ]
    },
    {
      "cell_type": "code",
      "execution_count": 25,
      "metadata": {
        "colab": {
          "base_uri": "https://localhost:8080/"
        },
        "id": "WK9zWGNcZjWl",
        "outputId": "a0152f34-f38e-4f8a-a24d-0d9acce11c34"
      },
      "outputs": [
        {
          "output_type": "stream",
          "name": "stdout",
          "text": [
            "179\n",
            "['i', 'me', 'my', 'myself', 'we', 'our', 'ours', 'ourselves', 'you', \"you're\", \"you've\", \"you'll\", \"you'd\", 'your', 'yours', 'yourself', 'yourselves', 'he', 'him', 'his', 'himself', 'she', \"she's\", 'her', 'hers', 'herself', 'it', \"it's\", 'its', 'itself', 'they', 'them', 'their', 'theirs', 'themselves', 'what', 'which', 'who', 'whom', 'this', 'that', \"that'll\", 'these', 'those', 'am', 'is', 'are', 'was', 'were', 'be', 'been', 'being', 'have', 'has', 'had', 'having', 'do', 'does', 'did', 'doing', 'a', 'an', 'the', 'and', 'but', 'if', 'or', 'because', 'as', 'until', 'while', 'of', 'at', 'by', 'for', 'with', 'about', 'against', 'between', 'into', 'through', 'during', 'before', 'after', 'above', 'below', 'to', 'from', 'up', 'down', 'in', 'out', 'on', 'off', 'over', 'under', 'again', 'further', 'then', 'once', 'here', 'there', 'when', 'where', 'why', 'how', 'all', 'any', 'both', 'each', 'few', 'more', 'most', 'other', 'some', 'such', 'no', 'nor', 'not', 'only', 'own', 'same', 'so', 'than', 'too', 'very', 's', 't', 'can', 'will', 'just', 'don', \"don't\", 'should', \"should've\", 'now', 'd', 'll', 'm', 'o', 're', 've', 'y', 'ain', 'aren', \"aren't\", 'couldn', \"couldn't\", 'didn', \"didn't\", 'doesn', \"doesn't\", 'hadn', \"hadn't\", 'hasn', \"hasn't\", 'haven', \"haven't\", 'isn', \"isn't\", 'ma', 'mightn', \"mightn't\", 'mustn', \"mustn't\", 'needn', \"needn't\", 'shan', \"shan't\", 'shouldn', \"shouldn't\", 'wasn', \"wasn't\", 'weren', \"weren't\", 'won', \"won't\", 'wouldn', \"wouldn't\"]\n",
            "157\n",
            "['i', 'me', 'my', 'myself', 'we', 'our', 'ours', 'ourselves', 'you', \"you're\", \"you've\", \"you'll\", \"you'd\", 'your', 'yours', 'yourself', 'yourselves', 'he', 'him', 'his', 'himself', 'she', \"she's\", 'her', 'hers', 'herself', 'it', \"it's\", 'its', 'itself', 'they', 'them', 'their', 'theirs', 'themselves', 'what', 'which', 'who', 'whom', 'this', 'that', \"that'll\", 'these', 'those', 'am', 'is', 'are', 'was', 'were', 'be', 'been', 'being', 'have', 'has', 'had', 'having', 'do', 'does', 'did', 'doing', 'a', 'an', 'the', 'and', 'but', 'if', 'or', 'because', 'as', 'until', 'while', 'of', 'at', 'by', 'for', 'with', 'about', 'against', 'between', 'into', 'through', 'during', 'before', 'after', 'above', 'below', 'to', 'from', 'up', 'down', 'in', 'out', 'on', 'off', 'over', 'under', 'again', 'further', 'then', 'once', 'here', 'there', 'when', 'where', 'why', 'how', 'all', 'any', 'both', 'each', 'few', 'more', 'most', 'other', 'some', 'such', 'only', 'own', 'same', 'so', 'than', 'too', 'very', 's', 't', 'can', 'will', 'just', 'don', \"don't\", 'should', \"should've\", 'now', 'd', 'll', 'm', 'o', 're', 've', 'y', \"aren't\", \"couldn't\", \"didn't\", \"doesn't\", \"hadn't\", \"hasn't\", \"haven't\", \"isn't\", \"mightn't\", \"mustn't\", \"needn't\", \"shan't\", \"shouldn't\", \"wasn't\", \"weren't\", \"won't\", \"wouldn't\"]\n"
          ]
        },
        {
          "output_type": "stream",
          "name": "stderr",
          "text": [
            "[nltk_data] Downloading package stopwords to /root/nltk_data...\n",
            "[nltk_data]   Package stopwords is already up-to-date!\n"
          ]
        }
      ],
      "source": [
        "# setup the movie reviews sentences for classification\n",
        "documents = [(sent, cat) for cat in sentence_polarity.categories() \n",
        "\tfor sent in sentence_polarity.sents(categories=cat)]\n",
        "random.shuffle(documents)\n",
        "\n",
        "nltk.download('stopwords')\n",
        "stopwords = nltk.corpus.stopwords.words('english')\n",
        "print(len(stopwords))\n",
        "print(stopwords)\n",
        "\n",
        "# remove some negation words from the stopword list\n",
        "negationwords.extend(['ain', 'aren', 'couldn', 'didn', 'doesn', 'hadn', 'hasn', 'haven', 'isn', 'ma', 'mightn', 'mustn', 'needn', 'shan', 'shouldn', 'wasn', 'weren', 'won', 'wouldn'])\n",
        "\n",
        "newstopwords = [word for word in stopwords if word not in negationwords]\n",
        "print(len(newstopwords))\n",
        "print(newstopwords)"
      ]
    },
    {
      "cell_type": "code",
      "execution_count": 26,
      "metadata": {
        "colab": {
          "base_uri": "https://localhost:8080/"
        },
        "id": "NcRGoUJJZjWm",
        "outputId": "c9193294-9ef3-4a6c-e510-cc8b046bf7b5"
      },
      "outputs": [
        {
          "output_type": "stream",
          "name": "stdout",
          "text": [
            "['.', ',', 'film', 'movie', 'not', 'one', 'like', '\"', '--', 'story', 'no', 'much', 'even', 'good', 'comedy', 'time', 'characters', 'little', 'way', 'funny', 'make', 'enough', 'never', 'makes', 'may', 'us', 'work', 'best', 'bad', 'director']\n"
          ]
        }
      ],
      "source": [
        "# remove stop words from the all words list\n",
        "new_all_words_list = [word for (sent,cat) in documents for word in sent if word not in newstopwords]\n",
        "len(new_all_words_list)\n",
        "\n",
        "# continue to define a new all words dictionary, get the 1000 most common as new_word_features\n",
        "new_all_words = nltk.FreqDist(new_all_words_list)\n",
        "new_word_items = new_all_words.most_common(1000)\n",
        "new_word_features = [word for (word,count) in new_word_items]\n",
        "print(new_word_features[:30])"
      ]
    },
    {
      "cell_type": "code",
      "execution_count": 27,
      "metadata": {
        "colab": {
          "base_uri": "https://localhost:8080/"
        },
        "id": "tnj18yZ1Mrdt",
        "outputId": "784d29e2-7b3f-4568-f455-f54911ae71d3"
      },
      "outputs": [
        {
          "output_type": "execute_result",
          "data": {
            "text/plain": [
              "0.741"
            ]
          },
          "metadata": {},
          "execution_count": 27
        }
      ],
      "source": [
        "# get features sets for a document, including keyword features and category feature\n",
        "stopwords_featuresets = [(document_features(d, new_word_features), c) for (d, c) in documents]\n",
        "\n",
        "train_set2, test_set2 = stopwords_featuresets[1000:], stopwords_featuresets[:1000]\n",
        "classifier2 = nltk.NaiveBayesClassifier.train(train_set2)\n",
        "nltk.classify.accuracy(classifier2, test_set2)\n"
      ]
    },
    {
      "cell_type": "markdown",
      "metadata": {
        "id": "ArWNKCFzIJgU"
      },
      "source": [
        "I use Naive Bayes classifier and cross validation to evaluate the performance of the classifier for the stopwords+bag-of-words feature set. And calculate the average accuracy, precision, recall, and F1 score."
      ]
    },
    {
      "cell_type": "code",
      "execution_count": 28,
      "metadata": {
        "colab": {
          "base_uri": "https://localhost:8080/"
        },
        "id": "I1eofSMbYFoA",
        "outputId": "01b46a08-ea34-49b4-b5e0-d1cc46b290b7"
      },
      "outputs": [
        {
          "output_type": "stream",
          "name": "stdout",
          "text": [
            "Average accuracy:  0.7119677358844494\n",
            "Average precision:  0.7121120084707723\n",
            "Average recall:  0.7119677358844494\n",
            "Average F1-score:  0.7119413447473824\n"
          ]
        }
      ],
      "source": [
        "k_fold = KFold(n_splits=2)\n",
        "\n",
        "accuracies = []\n",
        "precisions = []\n",
        "recalls = []\n",
        "f1_scores = []\n",
        "\n",
        "for train_indices, test_indices in k_fold.split(stopwords_featuresets):\n",
        "    # train the classifier on the training set\n",
        "    nb_classifier = NaiveBayesClassifier.train([stopwords_featuresets[i] for i in train_indices])\n",
        "\n",
        "    # evaluate the classifier on the test set and compute the accuracy\n",
        "    test_set = [stopwords_featuresets[i] for i in test_indices]\n",
        "    accuracy_val = accuracy(nb_classifier, test_set)\n",
        "    accuracies.append(accuracy_val)\n",
        "\n",
        "    # compute precision, recall, and F1-score\n",
        "    y_true = [cat for _, cat in test_set]\n",
        "    y_pred = [nb_classifier.classify(doc) for doc, _ in test_set]\n",
        "    precision2, recall2, f1_score2, _ = precision_recall_fscore_support(y_true, y_pred, average='weighted')\n",
        "    precisions.append(precision2)\n",
        "    recalls.append(recall2)\n",
        "    f1_scores.append(f1_score2)\n",
        "\n",
        "# print the evaluation metrics for each fold and the mean metrics over all folds\n",
        "print(\"Average accuracy: \", np.mean(accuracies))\n",
        "print(\"Average precision: \", np.mean(precisions))\n",
        "print(\"Average recall: \", np.mean(recalls))\n",
        "print(\"Average F1-score: \", np.mean(f1_scores))"
      ]
    },
    {
      "cell_type": "markdown",
      "metadata": {
        "id": "W_C0wUVJIJgU"
      },
      "source": [
        "### 2.1.4 Comparision of these feature sets\n",
        "The baseline feature set which only has bag-of-word has the lowest accuracy among the three feature sets. And the precision, recall and F1-score is almost the same as the stopwords+bag-of-word feature set. So I will not use this one.\n",
        "\n",
        "The negation+bag-of-word feature set has the highest accuracy, precision, recall and F1-score. So I will use this one.\n",
        "\n",
        "\n",
        "The stopword+bag-of-word feature set is not as good as the previous one, so I not use stopwords+bag-of-word."
      ]
    },
    {
      "cell_type": "markdown",
      "metadata": {
        "id": "zC7htuG-ZjWm"
      },
      "source": [
        "## 2.2 Use the classifier to predict the sentiment of the sentences in the review data"
      ]
    },
    {
      "cell_type": "code",
      "execution_count": 29,
      "metadata": {
        "id": "1T6hvMaVYugv",
        "colab": {
          "base_uri": "https://localhost:8080/",
          "height": 229
        },
        "outputId": "7dd0e96b-1829-412e-ff40-eaba47357121"
      },
      "outputs": [
        {
          "output_type": "execute_result",
          "data": {
            "text/plain": [
              "                                       original text  \\\n",
              "0  I had big expectations because I love English ...   \n",
              "\n",
              "                                  extracted sentence  reviewText? (1 or 0)  \\\n",
              "0  I had big expectations because I love English ...                     1   \n",
              "\n",
              "   summary? (1 or 0)                                             tokens  \\\n",
              "0                  0  (I, had, big, expectations, because, I, love, ...   \n",
              "\n",
              "                                 tokens_no_stopwords  length of a sentence  \\\n",
              "0  [big, expectations, love, English, TV, ,, part...                   128   \n",
              "\n",
              "                        adjective word list                       noun list  \\\n",
              "0  [big, particular, Investigative, boring]  [expectations, TV, stuff, guy]   \n",
              "\n",
              "  capital word list  exclamation mark? (1 or 0)  \\\n",
              "0              [TV]                           0   \n",
              "\n",
              "                                         bigram list  \\\n",
              "0  [(I, had), (had, big), (big, expectations), (e...   \n",
              "\n",
              "                                         token_words  \n",
              "0  I had big expectations because I love English ...  "
            ],
            "text/html": [
              "\n",
              "  <div id=\"df-7ec16c1a-b84d-4cf4-a30a-42e1009c0b5d\">\n",
              "    <div class=\"colab-df-container\">\n",
              "      <div>\n",
              "<style scoped>\n",
              "    .dataframe tbody tr th:only-of-type {\n",
              "        vertical-align: middle;\n",
              "    }\n",
              "\n",
              "    .dataframe tbody tr th {\n",
              "        vertical-align: top;\n",
              "    }\n",
              "\n",
              "    .dataframe thead th {\n",
              "        text-align: right;\n",
              "    }\n",
              "</style>\n",
              "<table border=\"1\" class=\"dataframe\">\n",
              "  <thead>\n",
              "    <tr style=\"text-align: right;\">\n",
              "      <th></th>\n",
              "      <th>original text</th>\n",
              "      <th>extracted sentence</th>\n",
              "      <th>reviewText? (1 or 0)</th>\n",
              "      <th>summary? (1 or 0)</th>\n",
              "      <th>tokens</th>\n",
              "      <th>tokens_no_stopwords</th>\n",
              "      <th>length of a sentence</th>\n",
              "      <th>adjective word list</th>\n",
              "      <th>noun list</th>\n",
              "      <th>capital word list</th>\n",
              "      <th>exclamation mark? (1 or 0)</th>\n",
              "      <th>bigram list</th>\n",
              "      <th>token_words</th>\n",
              "    </tr>\n",
              "  </thead>\n",
              "  <tbody>\n",
              "    <tr>\n",
              "      <th>0</th>\n",
              "      <td>I had big expectations because I love English ...</td>\n",
              "      <td>I had big expectations because I love English ...</td>\n",
              "      <td>1</td>\n",
              "      <td>0</td>\n",
              "      <td>(I, had, big, expectations, because, I, love, ...</td>\n",
              "      <td>[big, expectations, love, English, TV, ,, part...</td>\n",
              "      <td>128</td>\n",
              "      <td>[big, particular, Investigative, boring]</td>\n",
              "      <td>[expectations, TV, stuff, guy]</td>\n",
              "      <td>[TV]</td>\n",
              "      <td>0</td>\n",
              "      <td>[(I, had), (had, big), (big, expectations), (e...</td>\n",
              "      <td>I had big expectations because I love English ...</td>\n",
              "    </tr>\n",
              "  </tbody>\n",
              "</table>\n",
              "</div>\n",
              "      <button class=\"colab-df-convert\" onclick=\"convertToInteractive('df-7ec16c1a-b84d-4cf4-a30a-42e1009c0b5d')\"\n",
              "              title=\"Convert this dataframe to an interactive table.\"\n",
              "              style=\"display:none;\">\n",
              "        \n",
              "  <svg xmlns=\"http://www.w3.org/2000/svg\" height=\"24px\"viewBox=\"0 0 24 24\"\n",
              "       width=\"24px\">\n",
              "    <path d=\"M0 0h24v24H0V0z\" fill=\"none\"/>\n",
              "    <path d=\"M18.56 5.44l.94 2.06.94-2.06 2.06-.94-2.06-.94-.94-2.06-.94 2.06-2.06.94zm-11 1L8.5 8.5l.94-2.06 2.06-.94-2.06-.94L8.5 2.5l-.94 2.06-2.06.94zm10 10l.94 2.06.94-2.06 2.06-.94-2.06-.94-.94-2.06-.94 2.06-2.06.94z\"/><path d=\"M17.41 7.96l-1.37-1.37c-.4-.4-.92-.59-1.43-.59-.52 0-1.04.2-1.43.59L10.3 9.45l-7.72 7.72c-.78.78-.78 2.05 0 2.83L4 21.41c.39.39.9.59 1.41.59.51 0 1.02-.2 1.41-.59l7.78-7.78 2.81-2.81c.8-.78.8-2.07 0-2.86zM5.41 20L4 18.59l7.72-7.72 1.47 1.35L5.41 20z\"/>\n",
              "  </svg>\n",
              "      </button>\n",
              "      \n",
              "  <style>\n",
              "    .colab-df-container {\n",
              "      display:flex;\n",
              "      flex-wrap:wrap;\n",
              "      gap: 12px;\n",
              "    }\n",
              "\n",
              "    .colab-df-convert {\n",
              "      background-color: #E8F0FE;\n",
              "      border: none;\n",
              "      border-radius: 50%;\n",
              "      cursor: pointer;\n",
              "      display: none;\n",
              "      fill: #1967D2;\n",
              "      height: 32px;\n",
              "      padding: 0 0 0 0;\n",
              "      width: 32px;\n",
              "    }\n",
              "\n",
              "    .colab-df-convert:hover {\n",
              "      background-color: #E2EBFA;\n",
              "      box-shadow: 0px 1px 2px rgba(60, 64, 67, 0.3), 0px 1px 3px 1px rgba(60, 64, 67, 0.15);\n",
              "      fill: #174EA6;\n",
              "    }\n",
              "\n",
              "    [theme=dark] .colab-df-convert {\n",
              "      background-color: #3B4455;\n",
              "      fill: #D2E3FC;\n",
              "    }\n",
              "\n",
              "    [theme=dark] .colab-df-convert:hover {\n",
              "      background-color: #434B5C;\n",
              "      box-shadow: 0px 1px 3px 1px rgba(0, 0, 0, 0.15);\n",
              "      filter: drop-shadow(0px 1px 2px rgba(0, 0, 0, 0.3));\n",
              "      fill: #FFFFFF;\n",
              "    }\n",
              "  </style>\n",
              "\n",
              "      <script>\n",
              "        const buttonEl =\n",
              "          document.querySelector('#df-7ec16c1a-b84d-4cf4-a30a-42e1009c0b5d button.colab-df-convert');\n",
              "        buttonEl.style.display =\n",
              "          google.colab.kernel.accessAllowed ? 'block' : 'none';\n",
              "\n",
              "        async function convertToInteractive(key) {\n",
              "          const element = document.querySelector('#df-7ec16c1a-b84d-4cf4-a30a-42e1009c0b5d');\n",
              "          const dataTable =\n",
              "            await google.colab.kernel.invokeFunction('convertToInteractive',\n",
              "                                                     [key], {});\n",
              "          if (!dataTable) return;\n",
              "\n",
              "          const docLinkHtml = 'Like what you see? Visit the ' +\n",
              "            '<a target=\"_blank\" href=https://colab.research.google.com/notebooks/data_table.ipynb>data table notebook</a>'\n",
              "            + ' to learn more about interactive tables.';\n",
              "          element.innerHTML = '';\n",
              "          dataTable['output_type'] = 'display_data';\n",
              "          await google.colab.output.renderOutput(dataTable, element);\n",
              "          const docLink = document.createElement('div');\n",
              "          docLink.innerHTML = docLinkHtml;\n",
              "          element.appendChild(docLink);\n",
              "        }\n",
              "      </script>\n",
              "    </div>\n",
              "  </div>\n",
              "  "
            ]
          },
          "metadata": {},
          "execution_count": 29
        }
      ],
      "source": [
        "df_selected[\"token_words\"] = df_selected[\"tokens\"].apply(lambda x: x.text)\n",
        "df_selected.head(1)"
      ]
    },
    {
      "cell_type": "code",
      "execution_count": 30,
      "metadata": {
        "colab": {
          "base_uri": "https://localhost:8080/",
          "height": 249
        },
        "id": "7gUF8mlPYr4C",
        "outputId": "a7072eaa-ab45-496d-f9fd-6ea2d2224a27"
      },
      "outputs": [
        {
          "output_type": "execute_result",
          "data": {
            "text/plain": [
              "                                       original text  \\\n",
              "0  I had big expectations because I love English ...   \n",
              "\n",
              "                                  extracted sentence  reviewText? (1 or 0)  \\\n",
              "0  I had big expectations because I love English ...                     1   \n",
              "\n",
              "   summary? (1 or 0)                                             tokens  \\\n",
              "0                  0  (I, had, big, expectations, because, I, love, ...   \n",
              "\n",
              "                                 tokens_no_stopwords  length of a sentence  \\\n",
              "0  [big, expectations, love, English, TV, ,, part...                   128   \n",
              "\n",
              "                        adjective word list                       noun list  \\\n",
              "0  [big, particular, Investigative, boring]  [expectations, TV, stuff, guy]   \n",
              "\n",
              "  capital word list  exclamation mark? (1 or 0)  \\\n",
              "0              [TV]                           0   \n",
              "\n",
              "                                         bigram list  \\\n",
              "0  [(I, had), (had, big), (big, expectations), (e...   \n",
              "\n",
              "                                         token_words sentiment  \n",
              "0  I had big expectations because I love English ...       pos  "
            ],
            "text/html": [
              "\n",
              "  <div id=\"df-04a35382-e6a8-4507-be42-f375b3ae2780\">\n",
              "    <div class=\"colab-df-container\">\n",
              "      <div>\n",
              "<style scoped>\n",
              "    .dataframe tbody tr th:only-of-type {\n",
              "        vertical-align: middle;\n",
              "    }\n",
              "\n",
              "    .dataframe tbody tr th {\n",
              "        vertical-align: top;\n",
              "    }\n",
              "\n",
              "    .dataframe thead th {\n",
              "        text-align: right;\n",
              "    }\n",
              "</style>\n",
              "<table border=\"1\" class=\"dataframe\">\n",
              "  <thead>\n",
              "    <tr style=\"text-align: right;\">\n",
              "      <th></th>\n",
              "      <th>original text</th>\n",
              "      <th>extracted sentence</th>\n",
              "      <th>reviewText? (1 or 0)</th>\n",
              "      <th>summary? (1 or 0)</th>\n",
              "      <th>tokens</th>\n",
              "      <th>tokens_no_stopwords</th>\n",
              "      <th>length of a sentence</th>\n",
              "      <th>adjective word list</th>\n",
              "      <th>noun list</th>\n",
              "      <th>capital word list</th>\n",
              "      <th>exclamation mark? (1 or 0)</th>\n",
              "      <th>bigram list</th>\n",
              "      <th>token_words</th>\n",
              "      <th>sentiment</th>\n",
              "    </tr>\n",
              "  </thead>\n",
              "  <tbody>\n",
              "    <tr>\n",
              "      <th>0</th>\n",
              "      <td>I had big expectations because I love English ...</td>\n",
              "      <td>I had big expectations because I love English ...</td>\n",
              "      <td>1</td>\n",
              "      <td>0</td>\n",
              "      <td>(I, had, big, expectations, because, I, love, ...</td>\n",
              "      <td>[big, expectations, love, English, TV, ,, part...</td>\n",
              "      <td>128</td>\n",
              "      <td>[big, particular, Investigative, boring]</td>\n",
              "      <td>[expectations, TV, stuff, guy]</td>\n",
              "      <td>[TV]</td>\n",
              "      <td>0</td>\n",
              "      <td>[(I, had), (had, big), (big, expectations), (e...</td>\n",
              "      <td>I had big expectations because I love English ...</td>\n",
              "      <td>pos</td>\n",
              "    </tr>\n",
              "  </tbody>\n",
              "</table>\n",
              "</div>\n",
              "      <button class=\"colab-df-convert\" onclick=\"convertToInteractive('df-04a35382-e6a8-4507-be42-f375b3ae2780')\"\n",
              "              title=\"Convert this dataframe to an interactive table.\"\n",
              "              style=\"display:none;\">\n",
              "        \n",
              "  <svg xmlns=\"http://www.w3.org/2000/svg\" height=\"24px\"viewBox=\"0 0 24 24\"\n",
              "       width=\"24px\">\n",
              "    <path d=\"M0 0h24v24H0V0z\" fill=\"none\"/>\n",
              "    <path d=\"M18.56 5.44l.94 2.06.94-2.06 2.06-.94-2.06-.94-.94-2.06-.94 2.06-2.06.94zm-11 1L8.5 8.5l.94-2.06 2.06-.94-2.06-.94L8.5 2.5l-.94 2.06-2.06.94zm10 10l.94 2.06.94-2.06 2.06-.94-2.06-.94-.94-2.06-.94 2.06-2.06.94z\"/><path d=\"M17.41 7.96l-1.37-1.37c-.4-.4-.92-.59-1.43-.59-.52 0-1.04.2-1.43.59L10.3 9.45l-7.72 7.72c-.78.78-.78 2.05 0 2.83L4 21.41c.39.39.9.59 1.41.59.51 0 1.02-.2 1.41-.59l7.78-7.78 2.81-2.81c.8-.78.8-2.07 0-2.86zM5.41 20L4 18.59l7.72-7.72 1.47 1.35L5.41 20z\"/>\n",
              "  </svg>\n",
              "      </button>\n",
              "      \n",
              "  <style>\n",
              "    .colab-df-container {\n",
              "      display:flex;\n",
              "      flex-wrap:wrap;\n",
              "      gap: 12px;\n",
              "    }\n",
              "\n",
              "    .colab-df-convert {\n",
              "      background-color: #E8F0FE;\n",
              "      border: none;\n",
              "      border-radius: 50%;\n",
              "      cursor: pointer;\n",
              "      display: none;\n",
              "      fill: #1967D2;\n",
              "      height: 32px;\n",
              "      padding: 0 0 0 0;\n",
              "      width: 32px;\n",
              "    }\n",
              "\n",
              "    .colab-df-convert:hover {\n",
              "      background-color: #E2EBFA;\n",
              "      box-shadow: 0px 1px 2px rgba(60, 64, 67, 0.3), 0px 1px 3px 1px rgba(60, 64, 67, 0.15);\n",
              "      fill: #174EA6;\n",
              "    }\n",
              "\n",
              "    [theme=dark] .colab-df-convert {\n",
              "      background-color: #3B4455;\n",
              "      fill: #D2E3FC;\n",
              "    }\n",
              "\n",
              "    [theme=dark] .colab-df-convert:hover {\n",
              "      background-color: #434B5C;\n",
              "      box-shadow: 0px 1px 3px 1px rgba(0, 0, 0, 0.15);\n",
              "      filter: drop-shadow(0px 1px 2px rgba(0, 0, 0, 0.3));\n",
              "      fill: #FFFFFF;\n",
              "    }\n",
              "  </style>\n",
              "\n",
              "      <script>\n",
              "        const buttonEl =\n",
              "          document.querySelector('#df-04a35382-e6a8-4507-be42-f375b3ae2780 button.colab-df-convert');\n",
              "        buttonEl.style.display =\n",
              "          google.colab.kernel.accessAllowed ? 'block' : 'none';\n",
              "\n",
              "        async function convertToInteractive(key) {\n",
              "          const element = document.querySelector('#df-04a35382-e6a8-4507-be42-f375b3ae2780');\n",
              "          const dataTable =\n",
              "            await google.colab.kernel.invokeFunction('convertToInteractive',\n",
              "                                                     [key], {});\n",
              "          if (!dataTable) return;\n",
              "\n",
              "          const docLinkHtml = 'Like what you see? Visit the ' +\n",
              "            '<a target=\"_blank\" href=https://colab.research.google.com/notebooks/data_table.ipynb>data table notebook</a>'\n",
              "            + ' to learn more about interactive tables.';\n",
              "          element.innerHTML = '';\n",
              "          dataTable['output_type'] = 'display_data';\n",
              "          await google.colab.output.renderOutput(dataTable, element);\n",
              "          const docLink = document.createElement('div');\n",
              "          docLink.innerHTML = docLinkHtml;\n",
              "          element.appendChild(docLink);\n",
              "        }\n",
              "      </script>\n",
              "    </div>\n",
              "  </div>\n",
              "  "
            ]
          },
          "metadata": {},
          "execution_count": 30
        }
      ],
      "source": [
        "# Use the classifier1 to predict the sentiment of each sentence in the de_selected dataframe\n",
        "def predict_sentiment(tokens):\n",
        "    inputfeatures = NOT_features(tokens, word_features, negationwords)\n",
        "    return classifier1.classify(inputfeatures)\n",
        "\n",
        "df_selected['sentiment'] = df_selected['token_words'].apply(predict_sentiment)\n",
        "df_selected.head(1)"
      ]
    },
    {
      "cell_type": "code",
      "source": [
        "print(len(df_selected[df_selected[\"sentiment\"]==\"pos\"]))\n",
        "print(len(df_selected[df_selected[\"sentiment\"]==\"neg\"]))"
      ],
      "metadata": {
        "colab": {
          "base_uri": "https://localhost:8080/"
        },
        "id": "mjBMKdJFst2L",
        "outputId": "4122dcea-5449-4e5d-a025-9ccbe0dc792a"
      },
      "execution_count": 31,
      "outputs": [
        {
          "output_type": "stream",
          "name": "stdout",
          "text": [
            "6120\n",
            "4747\n"
          ]
        }
      ]
    },
    {
      "cell_type": "code",
      "source": [
        "df_selected.to_csv(\"/drive/My Drive/Colab Notebooks/Wed_Homework1/sentiment.csv\")"
      ],
      "metadata": {
        "id": "SsUcs8qkKeMr"
      },
      "execution_count": 32,
      "outputs": []
    },
    {
      "cell_type": "code",
      "execution_count": 33,
      "metadata": {
        "colab": {
          "base_uri": "https://localhost:8080/",
          "height": 378
        },
        "id": "KCzx-84A5snv",
        "outputId": "6d0af43b-cc3f-4c33-eb4b-fbd10ace53f6"
      },
      "outputs": [
        {
          "output_type": "execute_result",
          "data": {
            "text/plain": [
              "sentiment                                           neg  pos\n",
              "original text                                               \n",
              "\"24\" is like Red Bull--once you've had it you'r...  7.0  6.0\n",
              "\"Another beautiful Miami day. Mutilated corpses...  1.0  1.0"
            ],
            "text/html": [
              "\n",
              "  <div id=\"df-66ab820e-2b43-4297-91d2-af1c8846d4f0\">\n",
              "    <div class=\"colab-df-container\">\n",
              "      <div>\n",
              "<style scoped>\n",
              "    .dataframe tbody tr th:only-of-type {\n",
              "        vertical-align: middle;\n",
              "    }\n",
              "\n",
              "    .dataframe tbody tr th {\n",
              "        vertical-align: top;\n",
              "    }\n",
              "\n",
              "    .dataframe thead th {\n",
              "        text-align: right;\n",
              "    }\n",
              "</style>\n",
              "<table border=\"1\" class=\"dataframe\">\n",
              "  <thead>\n",
              "    <tr style=\"text-align: right;\">\n",
              "      <th>sentiment</th>\n",
              "      <th>neg</th>\n",
              "      <th>pos</th>\n",
              "    </tr>\n",
              "    <tr>\n",
              "      <th>original text</th>\n",
              "      <th></th>\n",
              "      <th></th>\n",
              "    </tr>\n",
              "  </thead>\n",
              "  <tbody>\n",
              "    <tr>\n",
              "      <th>\"24\" is like Red Bull--once you've had it you're addicted. The fifth season of \"24\" revolves around one central mystery: who killed an ex-president and how is Jack Bauer connected to the assassination? It's a thrilling season--probably the best since the first season--and it comes to a stunning conclusion that will be answered in January of 2007. Interestingly after having watched \"Casino Royale\" its clear that the new Bond film was inspired by shows like \"24\" which were, in turn, inspired by early Bond and some of the newer spy thrillers out there. There are a number of twists and turns in this season set my advice is NOT to read any reviews that summarize anymore of the plot if you haven't seen this season as there are some major spoilers in some of the reviews that follow.As usual Fox has put together a terrific DVD. This also features a brief episode \"prequel\" to the sixth season like previous sets had. We get a large amount of worthwhile commentary tracks including some with Emmy winner Kiefer Sutherland. There's also a summary of the season included as well athough if you've watched the show (or are watching it now) it won't really provide anything new. Th \"100 Episode Reel\" is a pretty useless extra -- basically a clips compilation.Different places are offering different exclusives. If you purchase it here you can download a free episode from Unbox (at least during the Holidays) while Target also offers a limited edition bonus disc for this set with additional featurettes on the show. Regardless of whether you buy it here at amazon.com or elsewhere this set features plenty of extras including an examination of the wonderful Presidential retreat featured in the show, a good featurette on the stellar work by the cinematography on the show, a featurette on the supporting actors on the show as well as extended and deleted scenes. I haven't had a chance to dig through all the bonus material yet but it what I have checked out looks really, really good.This set is packaged in the thinpak holders with two discs per holder so the accordian style packaging has been abandoned for this thinner packaging. This is a terrific set for an outstanding season of the series.What I would love to see if Keifer Sutherland and Donald Sutherland featured during a season.</th>\n",
              "      <td>7.0</td>\n",
              "      <td>6.0</td>\n",
              "    </tr>\n",
              "    <tr>\n",
              "      <th>\"Another beautiful Miami day. Mutilated corpses with a chance of afternoon showers.\"</th>\n",
              "      <td>1.0</td>\n",
              "      <td>1.0</td>\n",
              "    </tr>\n",
              "  </tbody>\n",
              "</table>\n",
              "</div>\n",
              "      <button class=\"colab-df-convert\" onclick=\"convertToInteractive('df-66ab820e-2b43-4297-91d2-af1c8846d4f0')\"\n",
              "              title=\"Convert this dataframe to an interactive table.\"\n",
              "              style=\"display:none;\">\n",
              "        \n",
              "  <svg xmlns=\"http://www.w3.org/2000/svg\" height=\"24px\"viewBox=\"0 0 24 24\"\n",
              "       width=\"24px\">\n",
              "    <path d=\"M0 0h24v24H0V0z\" fill=\"none\"/>\n",
              "    <path d=\"M18.56 5.44l.94 2.06.94-2.06 2.06-.94-2.06-.94-.94-2.06-.94 2.06-2.06.94zm-11 1L8.5 8.5l.94-2.06 2.06-.94-2.06-.94L8.5 2.5l-.94 2.06-2.06.94zm10 10l.94 2.06.94-2.06 2.06-.94-2.06-.94-.94-2.06-.94 2.06-2.06.94z\"/><path d=\"M17.41 7.96l-1.37-1.37c-.4-.4-.92-.59-1.43-.59-.52 0-1.04.2-1.43.59L10.3 9.45l-7.72 7.72c-.78.78-.78 2.05 0 2.83L4 21.41c.39.39.9.59 1.41.59.51 0 1.02-.2 1.41-.59l7.78-7.78 2.81-2.81c.8-.78.8-2.07 0-2.86zM5.41 20L4 18.59l7.72-7.72 1.47 1.35L5.41 20z\"/>\n",
              "  </svg>\n",
              "      </button>\n",
              "      \n",
              "  <style>\n",
              "    .colab-df-container {\n",
              "      display:flex;\n",
              "      flex-wrap:wrap;\n",
              "      gap: 12px;\n",
              "    }\n",
              "\n",
              "    .colab-df-convert {\n",
              "      background-color: #E8F0FE;\n",
              "      border: none;\n",
              "      border-radius: 50%;\n",
              "      cursor: pointer;\n",
              "      display: none;\n",
              "      fill: #1967D2;\n",
              "      height: 32px;\n",
              "      padding: 0 0 0 0;\n",
              "      width: 32px;\n",
              "    }\n",
              "\n",
              "    .colab-df-convert:hover {\n",
              "      background-color: #E2EBFA;\n",
              "      box-shadow: 0px 1px 2px rgba(60, 64, 67, 0.3), 0px 1px 3px 1px rgba(60, 64, 67, 0.15);\n",
              "      fill: #174EA6;\n",
              "    }\n",
              "\n",
              "    [theme=dark] .colab-df-convert {\n",
              "      background-color: #3B4455;\n",
              "      fill: #D2E3FC;\n",
              "    }\n",
              "\n",
              "    [theme=dark] .colab-df-convert:hover {\n",
              "      background-color: #434B5C;\n",
              "      box-shadow: 0px 1px 3px 1px rgba(0, 0, 0, 0.15);\n",
              "      filter: drop-shadow(0px 1px 2px rgba(0, 0, 0, 0.3));\n",
              "      fill: #FFFFFF;\n",
              "    }\n",
              "  </style>\n",
              "\n",
              "      <script>\n",
              "        const buttonEl =\n",
              "          document.querySelector('#df-66ab820e-2b43-4297-91d2-af1c8846d4f0 button.colab-df-convert');\n",
              "        buttonEl.style.display =\n",
              "          google.colab.kernel.accessAllowed ? 'block' : 'none';\n",
              "\n",
              "        async function convertToInteractive(key) {\n",
              "          const element = document.querySelector('#df-66ab820e-2b43-4297-91d2-af1c8846d4f0');\n",
              "          const dataTable =\n",
              "            await google.colab.kernel.invokeFunction('convertToInteractive',\n",
              "                                                     [key], {});\n",
              "          if (!dataTable) return;\n",
              "\n",
              "          const docLinkHtml = 'Like what you see? Visit the ' +\n",
              "            '<a target=\"_blank\" href=https://colab.research.google.com/notebooks/data_table.ipynb>data table notebook</a>'\n",
              "            + ' to learn more about interactive tables.';\n",
              "          element.innerHTML = '';\n",
              "          dataTable['output_type'] = 'display_data';\n",
              "          await google.colab.output.renderOutput(dataTable, element);\n",
              "          const docLink = document.createElement('div');\n",
              "          docLink.innerHTML = docLinkHtml;\n",
              "          element.appendChild(docLink);\n",
              "        }\n",
              "      </script>\n",
              "    </div>\n",
              "  </div>\n",
              "  "
            ]
          },
          "metadata": {},
          "execution_count": 33
        }
      ],
      "source": [
        "# Group the sentiment by the original text, and get the the number of negative and positive sentiments for each original text\n",
        "df_task1_group = df_selected.groupby(['original text'])['sentiment'].value_counts().unstack()\n",
        "# fill the NaN values with 0\n",
        "df_task1_group = df_task1_group.fillna(0)\n",
        "df_task1_group.head(2)"
      ]
    },
    {
      "cell_type": "code",
      "execution_count": 34,
      "metadata": {
        "colab": {
          "base_uri": "https://localhost:8080/",
          "height": 371
        },
        "id": "m1egmDHC5yYe",
        "outputId": "0672696e-4d06-403d-e2f4-2e4dc426d029"
      },
      "outputs": [
        {
          "output_type": "stream",
          "name": "stdout",
          "text": [
            "2000\n"
          ]
        },
        {
          "output_type": "execute_result",
          "data": {
            "text/plain": [
              "                                          reviewText  \\\n",
              "0  I had big expectations because I love English ...   \n",
              "1  I highly recommend this series. It is a must f...   \n",
              "2  This one is a real snoozer. Don't believe anyt...   \n",
              "3  Mysteries are interesting.  The tension betwee...   \n",
              "4  This show always is excellent, as far as briti...   \n",
              "\n",
              "                          summary  \\\n",
              "0      A little bit boring for me   \n",
              "1           Excellent Grown Up TV   \n",
              "2           Way too boring for me   \n",
              "3     Robson Green is mesmerizing   \n",
              "4  Robson green and great writing   \n",
              "\n",
              "   the number of negative sentences in reviewText  \\\n",
              "0                                             0.0   \n",
              "1                                             0.0   \n",
              "2                                             1.0   \n",
              "3                                             0.0   \n",
              "4                                             3.0   \n",
              "\n",
              "   the number of positive sentences in reviewText  \\\n",
              "0                                             1.0   \n",
              "1                                             1.0   \n",
              "2                                             1.0   \n",
              "3                                             3.0   \n",
              "4                                             7.0   \n",
              "\n",
              "   the number of negative sentences in summary  \\\n",
              "0                                          1.0   \n",
              "1                                          1.0   \n",
              "2                                          1.0   \n",
              "3                                          0.0   \n",
              "4                                          0.0   \n",
              "\n",
              "   the number of positive sentences in summary  \n",
              "0                                          0.0  \n",
              "1                                          0.0  \n",
              "2                                          0.0  \n",
              "3                                          0.0  \n",
              "4                                          1.0  "
            ],
            "text/html": [
              "\n",
              "  <div id=\"df-2458893c-b216-4066-b1a7-d79c0c2fd34b\">\n",
              "    <div class=\"colab-df-container\">\n",
              "      <div>\n",
              "<style scoped>\n",
              "    .dataframe tbody tr th:only-of-type {\n",
              "        vertical-align: middle;\n",
              "    }\n",
              "\n",
              "    .dataframe tbody tr th {\n",
              "        vertical-align: top;\n",
              "    }\n",
              "\n",
              "    .dataframe thead th {\n",
              "        text-align: right;\n",
              "    }\n",
              "</style>\n",
              "<table border=\"1\" class=\"dataframe\">\n",
              "  <thead>\n",
              "    <tr style=\"text-align: right;\">\n",
              "      <th></th>\n",
              "      <th>reviewText</th>\n",
              "      <th>summary</th>\n",
              "      <th>the number of negative sentences in reviewText</th>\n",
              "      <th>the number of positive sentences in reviewText</th>\n",
              "      <th>the number of negative sentences in summary</th>\n",
              "      <th>the number of positive sentences in summary</th>\n",
              "    </tr>\n",
              "  </thead>\n",
              "  <tbody>\n",
              "    <tr>\n",
              "      <th>0</th>\n",
              "      <td>I had big expectations because I love English ...</td>\n",
              "      <td>A little bit boring for me</td>\n",
              "      <td>0.0</td>\n",
              "      <td>1.0</td>\n",
              "      <td>1.0</td>\n",
              "      <td>0.0</td>\n",
              "    </tr>\n",
              "    <tr>\n",
              "      <th>1</th>\n",
              "      <td>I highly recommend this series. It is a must f...</td>\n",
              "      <td>Excellent Grown Up TV</td>\n",
              "      <td>0.0</td>\n",
              "      <td>1.0</td>\n",
              "      <td>1.0</td>\n",
              "      <td>0.0</td>\n",
              "    </tr>\n",
              "    <tr>\n",
              "      <th>2</th>\n",
              "      <td>This one is a real snoozer. Don't believe anyt...</td>\n",
              "      <td>Way too boring for me</td>\n",
              "      <td>1.0</td>\n",
              "      <td>1.0</td>\n",
              "      <td>1.0</td>\n",
              "      <td>0.0</td>\n",
              "    </tr>\n",
              "    <tr>\n",
              "      <th>3</th>\n",
              "      <td>Mysteries are interesting.  The tension betwee...</td>\n",
              "      <td>Robson Green is mesmerizing</td>\n",
              "      <td>0.0</td>\n",
              "      <td>3.0</td>\n",
              "      <td>0.0</td>\n",
              "      <td>0.0</td>\n",
              "    </tr>\n",
              "    <tr>\n",
              "      <th>4</th>\n",
              "      <td>This show always is excellent, as far as briti...</td>\n",
              "      <td>Robson green and great writing</td>\n",
              "      <td>3.0</td>\n",
              "      <td>7.0</td>\n",
              "      <td>0.0</td>\n",
              "      <td>1.0</td>\n",
              "    </tr>\n",
              "  </tbody>\n",
              "</table>\n",
              "</div>\n",
              "      <button class=\"colab-df-convert\" onclick=\"convertToInteractive('df-2458893c-b216-4066-b1a7-d79c0c2fd34b')\"\n",
              "              title=\"Convert this dataframe to an interactive table.\"\n",
              "              style=\"display:none;\">\n",
              "        \n",
              "  <svg xmlns=\"http://www.w3.org/2000/svg\" height=\"24px\"viewBox=\"0 0 24 24\"\n",
              "       width=\"24px\">\n",
              "    <path d=\"M0 0h24v24H0V0z\" fill=\"none\"/>\n",
              "    <path d=\"M18.56 5.44l.94 2.06.94-2.06 2.06-.94-2.06-.94-.94-2.06-.94 2.06-2.06.94zm-11 1L8.5 8.5l.94-2.06 2.06-.94-2.06-.94L8.5 2.5l-.94 2.06-2.06.94zm10 10l.94 2.06.94-2.06 2.06-.94-2.06-.94-.94-2.06-.94 2.06-2.06.94z\"/><path d=\"M17.41 7.96l-1.37-1.37c-.4-.4-.92-.59-1.43-.59-.52 0-1.04.2-1.43.59L10.3 9.45l-7.72 7.72c-.78.78-.78 2.05 0 2.83L4 21.41c.39.39.9.59 1.41.59.51 0 1.02-.2 1.41-.59l7.78-7.78 2.81-2.81c.8-.78.8-2.07 0-2.86zM5.41 20L4 18.59l7.72-7.72 1.47 1.35L5.41 20z\"/>\n",
              "  </svg>\n",
              "      </button>\n",
              "      \n",
              "  <style>\n",
              "    .colab-df-container {\n",
              "      display:flex;\n",
              "      flex-wrap:wrap;\n",
              "      gap: 12px;\n",
              "    }\n",
              "\n",
              "    .colab-df-convert {\n",
              "      background-color: #E8F0FE;\n",
              "      border: none;\n",
              "      border-radius: 50%;\n",
              "      cursor: pointer;\n",
              "      display: none;\n",
              "      fill: #1967D2;\n",
              "      height: 32px;\n",
              "      padding: 0 0 0 0;\n",
              "      width: 32px;\n",
              "    }\n",
              "\n",
              "    .colab-df-convert:hover {\n",
              "      background-color: #E2EBFA;\n",
              "      box-shadow: 0px 1px 2px rgba(60, 64, 67, 0.3), 0px 1px 3px 1px rgba(60, 64, 67, 0.15);\n",
              "      fill: #174EA6;\n",
              "    }\n",
              "\n",
              "    [theme=dark] .colab-df-convert {\n",
              "      background-color: #3B4455;\n",
              "      fill: #D2E3FC;\n",
              "    }\n",
              "\n",
              "    [theme=dark] .colab-df-convert:hover {\n",
              "      background-color: #434B5C;\n",
              "      box-shadow: 0px 1px 3px 1px rgba(0, 0, 0, 0.15);\n",
              "      filter: drop-shadow(0px 1px 2px rgba(0, 0, 0, 0.3));\n",
              "      fill: #FFFFFF;\n",
              "    }\n",
              "  </style>\n",
              "\n",
              "      <script>\n",
              "        const buttonEl =\n",
              "          document.querySelector('#df-2458893c-b216-4066-b1a7-d79c0c2fd34b button.colab-df-convert');\n",
              "        buttonEl.style.display =\n",
              "          google.colab.kernel.accessAllowed ? 'block' : 'none';\n",
              "\n",
              "        async function convertToInteractive(key) {\n",
              "          const element = document.querySelector('#df-2458893c-b216-4066-b1a7-d79c0c2fd34b');\n",
              "          const dataTable =\n",
              "            await google.colab.kernel.invokeFunction('convertToInteractive',\n",
              "                                                     [key], {});\n",
              "          if (!dataTable) return;\n",
              "\n",
              "          const docLinkHtml = 'Like what you see? Visit the ' +\n",
              "            '<a target=\"_blank\" href=https://colab.research.google.com/notebooks/data_table.ipynb>data table notebook</a>'\n",
              "            + ' to learn more about interactive tables.';\n",
              "          element.innerHTML = '';\n",
              "          dataTable['output_type'] = 'display_data';\n",
              "          await google.colab.output.renderOutput(dataTable, element);\n",
              "          const docLink = document.createElement('div');\n",
              "          docLink.innerHTML = docLinkHtml;\n",
              "          element.appendChild(docLink);\n",
              "        }\n",
              "      </script>\n",
              "    </div>\n",
              "  </div>\n",
              "  "
            ]
          },
          "metadata": {},
          "execution_count": 34
        }
      ],
      "source": [
        "# merge the two dataframes, and get the total number of sentiments for each original text\n",
        "df_merge1 = pd.merge(df, df_task1_group, how='left', left_on='reviewText', right_on='original text')\n",
        "# rename the neg column to \"the number of negative sentences in reviewText\", and pos column to \"the number of positive sentences in reviewText\"\n",
        "df_merge1 = df_merge1.rename(columns={'neg': 'the number of negative sentences in reviewText', 'pos': 'the number of positive sentences in reviewText'})\n",
        "\n",
        "# get the number of positive and negative sentences in the summary\n",
        "df_merge2 = pd.merge(df_merge1, df_task1_group, how='left', left_on='summary', right_on='original text')\n",
        "print(len(df_merge2))\n",
        "# rename the neg column to \"the number of negative sentences in reviewText\", and pos column to \"the number of positive sentences in reviewText\"\n",
        "df_merge2 = df_merge2.rename(columns={'neg': 'the number of negative sentences in summary', 'pos': 'the number of positive sentences in summary'})\n",
        "# fill the NaN values with 0\n",
        "df_merge2 = df_merge2.fillna(0)\n",
        "df_merge2.head(5)\n"
      ]
    },
    {
      "cell_type": "code",
      "execution_count": 35,
      "metadata": {
        "colab": {
          "base_uri": "https://localhost:8080/"
        },
        "id": "1OYGvnmaIJgV",
        "outputId": "d24381f1-3124-4215-e4cf-d1ea94913023"
      },
      "outputs": [
        {
          "output_type": "stream",
          "name": "stdout",
          "text": [
            "1962\n"
          ]
        }
      ],
      "source": [
        "# Delete the rows with the number of positive and negative sentences in reviewText and summary are both 0\n",
        "df_merge2 = df_merge2[(df_merge2['the number of positive sentences in reviewText'] != 0) | (df_merge2['the number of negative sentences in reviewText'] != 0) | (df_merge2['the number of positive sentences in summary'] != 0) | (df_merge2['the number of negative sentences in summary'] != 0)]\n",
        "print(len(df_merge2))"
      ]
    },
    {
      "cell_type": "markdown",
      "metadata": {
        "id": "w2PvULKeIJgV"
      },
      "source": [
        "## 2.3 Save the result for task 2"
      ]
    },
    {
      "cell_type": "code",
      "execution_count": 36,
      "metadata": {
        "id": "_6LY9pl3fJVK"
      },
      "outputs": [],
      "source": [
        "df_merge2.to_csv(\"/drive/My Drive/Colab Notebooks/Wed_Homework1/task2.csv\")\n",
        "# Link: https://drive.google.com/file/d/1-1DMeTodcgsfuptoeHrawZW52SMjFwcu/view?usp=share_link"
      ]
    },
    {
      "cell_type": "markdown",
      "metadata": {
        "id": "qoeLN_GLIJgV"
      },
      "source": [
        "## 2.4 Analyze the positive sentences or negative sentences for top 50 adjectives, adverbs, and verbs"
      ]
    },
    {
      "cell_type": "code",
      "execution_count": 37,
      "metadata": {
        "id": "OQ4ej36adKvs",
        "colab": {
          "base_uri": "https://localhost:8080/"
        },
        "outputId": "1a76f5af-dd14-422d-da04-71375284c54a"
      },
      "outputs": [
        {
          "output_type": "stream",
          "name": "stdout",
          "text": [
            "The top 50 adjectives words in positive sentences:[('good', 470), ('great', 338), ('best', 292), ('first', 271), ('new', 234), ('more', 198), ('other', 197), ('bad', 171), ('little', 156), ('many', 156), ('better', 154), ('Great', 139), ('funny', 134), ('second', 129), ('old', 114), ('interesting', 113), ('real', 100), ('few', 98), ('favorite', 92), ('last', 88), ('excellent', 84), ('main', 82), ('much', 79), ('most', 76), ('entire', 68), ('different', 67), ('same', 66), ('Good', 66), ('own', 65), ('previous', 61), ('big', 60), ('able', 60), ('several', 54), ('sure', 54), ('entertaining', 53), ('serial', 52), ('next', 52), ('high', 50), ('final', 49), ('only', 48), ('hard', 48), ('strong', 48), ('worth', 47), ('nice', 47), ('human', 46), ('perfect', 46), ('enjoyable', 46), ('-', 45), ('fun', 45), ('long', 43)]\n",
            "The top 50 adverbs words in positive sentences:[('very', 439), ('just', 396), ('so', 323), ('really', 280), ('even', 243), ('well', 232), ('also', 218), ('as', 212), ('only', 180), ('more', 178), ('still', 176), ('never', 158), ('ever', 155), ('too', 145), ('then', 130), ('always', 122), ('back', 115), ('now', 113), ('much', 112), ('most', 95), ('far', 83), ('here', 82), ('So', 77), ('again', 75), ('pretty', 74), ('all', 68), ('actually', 68), ('almost', 64), ('especially', 64), ('yet', 61), ('together', 60), ('over', 50), ('often', 49), ('probably', 49), ('there', 48), ('away', 47), ('Very', 44), ('definitely', 43), ('around', 42), ('already', 39), ('completely', 38), ('sometimes', 36), ('however', 36), ('However', 34), ('finally', 34), ('first', 33), ('else', 32), ('Even', 32), ('Also', 32), ('better', 32)]\n",
            "The top 50 verbs words in positive sentences:[('have', 343), ('has', 252), ('get', 246), ('watch', 208), ('see', 188), ('love', 157), ('watching', 156), ('had', 147), ('think', 140), ('find', 133), ('make', 130), ('seen', 118), ('do', 117), ('like', 109), ('made', 108), ('know', 105), ('going', 105), ('watched', 93), ('found', 92), ('want', 86), ('go', 86), ('give', 84), ('come', 83), ('say', 83), ('are', 81), ('makes', 80), ('is', 74), ('having', 73), ('enjoy', 73), ('got', 72), ('seems', 72), ('shows', 71), ('enjoyed', 69), ('loved', 65), ('keep', 64), ('take', 62), ('done', 61), ('gets', 61), ('comes', 60), ('thought', 59), ('become', 57), ('does', 56), (\"'s\", 56), ('started', 56), ('goes', 54), ('played', 53), ('did', 51), ('left', 50), ('written', 48), ('said', 48)]\n",
            "The top 50 adjectives words in negative sentences:[('great', 371), ('good', 354), ('first', 176), ('new', 165), ('more', 146), ('other', 138), ('little', 124), ('many', 110), ('interesting', 109), ('best', 97), ('second', 83), ('excellent', 78), ('better', 72), ('bad', 69), ('few', 68), ('same', 68), ('funny', 67), ('worth', 65), ('old', 64), ('last', 61), ('real', 59), ('much', 57), ('whole', 56), ('final', 56), ('entertaining', 56), ('big', 55), ('high', 54), ('original', 54), ('Great', 53), ('most', 53), ('main', 52), ('sure', 48), ('next', 47), ('unique', 46), ('amazing', 42), ('Good', 41), ('different', 41), ('wonderful', 41), ('entire', 41), ('only', 41), ('special', 41), ('wrong', 40), ('right', 40), ('long', 39), ('nice', 39), ('perfect', 39), ('human', 39), ('serial', 39), ('own', 39), ('short', 38)]\n",
            "The top 50 adverbs words in negative sentences:[('so', 209), ('well', 163), ('just', 161), ('more', 156), ('also', 152), ('as', 150), ('really', 139), ('still', 132), ('only', 102), ('too', 98), ('quite', 95), ('very', 92), ('always', 85), ('now', 84), ('then', 84), ('most', 78), ('back', 75), ('even', 74), ('much', 63), ('never', 56), ('all', 56), ('far', 51), ('here', 49), ('again', 46), ('together', 44), ('actually', 43), ('simply', 42), ('pretty', 41), ('there', 40), ('So', 38), ('ever', 35), ('highly', 33), ('sometimes', 33), ('often', 32), ('away', 31), ('rather', 31), ('almost', 30), ('first', 29), ('around', 27), ('Still', 26), ('at', 26), ('right', 26), ('especially', 26), ('forward', 26), ('truly', 25), ('quickly', 25), ('though', 24), ('else', 24), ('long', 24), ('completely', 24)]\n",
            "The top 50 verbs words in negative sentences:[('get', 198), ('has', 169), ('watching', 158), ('watch', 147), ('see', 134), ('make', 132), ('have', 114), ('think', 101), ('makes', 100), ('going', 99), ('like', 95), ('know', 88), ('do', 84), ('had', 83), ('made', 78), ('are', 76), ('go', 73), ('find', 67), ('keep', 61), ('gets', 61), ('is', 58), ('got', 56), ('watched', 49), ('come', 48), ('want', 47), ('thought', 46), ('take', 46), ('did', 45), ('getting', 43), ('shows', 42), (\"'s\", 41), ('say', 41), ('keeps', 40), ('seems', 40), ('plays', 39), ('help', 39), ('love', 38), ('found', 38), ('feel', 38), ('done', 37), ('making', 36), ('looking', 36), ('recommend', 36), ('become', 36), ('written', 35), ('seen', 34), ('wait', 33), ('left', 33), ('becomes', 32), ('seem', 31)]\n"
          ]
        }
      ],
      "source": [
        "# analyze all the positive sentences to identify top 50 adjectives, adverbs, and verbs\n",
        "# get the positive sentences\n",
        "df_positive = df_selected[df_selected['sentiment'] == 'pos']\n",
        "df_positive.head(2)\n",
        "# get all the positive sentences\n",
        "df_negative = df_selected[df_selected['sentiment'] == 'neg']\n",
        "df_negative.head(2)\n",
        "# identify the top 50 adjectives, adverbs, and verbs in the positive sentences\n",
        "# add all tokens to a list\n",
        "pos_adj = []\n",
        "pos_adv = []\n",
        "pos_verb = []\n",
        "for i in range(len(df_positive)):\n",
        "    for token in df_positive.iloc[i]['tokens']:\n",
        "        if token.pos_ == 'ADJ':\n",
        "            pos_adj.append(token.text)\n",
        "        elif token.pos_ == 'ADV':\n",
        "            pos_adv.append(token.text)\n",
        "        elif token.pos_ == 'VERB':\n",
        "            pos_verb.append(token.text)\n",
        "# get the top 50 adjectives, adverbs, and verbs in the positive sentences\n",
        "pos_adj = nltk.FreqDist(pos_adj)\n",
        "print(\"The top 50 adjectives words in positive sentences:\" + str(pos_adj.most_common(50)))\n",
        "pos_adv = nltk.FreqDist(pos_adv)\n",
        "print(\"The top 50 adverbs words in positive sentences:\" + str(pos_adv.most_common(50)))\n",
        "pos_verb = nltk.FreqDist(pos_verb)\n",
        "print(\"The top 50 verbs words in positive sentences:\" + str(pos_verb.most_common(50)))\n",
        "\n",
        "# identify the top 50 adjectives, adverbs, and verbs in the negative sentences\n",
        "# add all tokens to a list\n",
        "neg_adj = []\n",
        "neg_adv = []\n",
        "neg_verb = []\n",
        "for i in range(len(df_negative)):\n",
        "    for token in df_negative.iloc[i]['tokens']:\n",
        "        if token.pos_ == 'ADJ':\n",
        "            neg_adj.append(token.text)\n",
        "        elif token.pos_ == 'ADV':\n",
        "            neg_adv.append(token.text)\n",
        "        elif token.pos_ == 'VERB':\n",
        "            neg_verb.append(token.text)\n",
        "# get the top 50 adjectives, adverbs, and verbs in the negative sentences\n",
        "neg_adj = nltk.FreqDist(neg_adj)\n",
        "print(\"The top 50 adjectives words in negative sentences:\" + str(neg_adj.most_common(50)))\n",
        "neg_adv = nltk.FreqDist(neg_adv)\n",
        "print(\"The top 50 adverbs words in negative sentences:\" + str(neg_adv.most_common(50)))\n",
        "neg_verb = nltk.FreqDist(neg_verb)\n",
        "print(\"The top 50 verbs words in negative sentences:\" + str(neg_verb.most_common(50)))"
      ]
    },
    {
      "cell_type": "code",
      "execution_count": 38,
      "metadata": {
        "colab": {
          "base_uri": "https://localhost:8080/"
        },
        "id": "WFQdOuSNIJgV",
        "outputId": "a98d8d4a-324e-443b-d242-3c42f7431c24"
      },
      "outputs": [
        {
          "output_type": "execute_result",
          "data": {
            "text/plain": [
              "2                           This one is a real snoozer.\n",
              "9     This show pulls no punches as it enters into t...\n",
              "11    Still crime shows don't get much better than t...\n",
              "12    It's just a great show that never has had a le...\n",
              "21    His methods may seem strange at times, but he ...\n",
              "Name: extracted sentence, dtype: object"
            ]
          },
          "metadata": {},
          "execution_count": 38
        }
      ],
      "source": [
        "df_negative.iloc[0:5,1] "
      ]
    },
    {
      "cell_type": "markdown",
      "metadata": {
        "id": "99Hbj2b0IJgV"
      },
      "source": [
        "## 2.5 Add dotted line graphs for the number of positive sentences and negative sentences in reviewText and summary"
      ]
    },
    {
      "cell_type": "code",
      "execution_count": 41,
      "metadata": {
        "colab": {
          "base_uri": "https://localhost:8080/",
          "height": 279
        },
        "id": "5EncmZXpCvc5",
        "outputId": "9456b8bc-6003-4fad-96a5-9a819b20cf0e"
      },
      "outputs": [
        {
          "output_type": "display_data",
          "data": {
            "text/plain": [
              "<Figure size 432x288 with 1 Axes>"
            ],
            "image/png": "[encoded data removed]"
          },
          "metadata": {
            "needs_background": "light"
          }
        }
      ],
      "source": [
        "# plot a dotted line graph: the x-axis is “the number of positive sentences in a reviewText\" and y-axis is “the number of positive sentences in its summary”\n",
        "import matplotlib.pyplot as plt\n",
        "plt.plot(df_merge2['the number of positive sentences in reviewText'], df_merge2['the number of positive sentences in summary'], \"ro\")\n",
        "plt.xlabel('the number of positive sentences in reviewText')\n",
        "plt.ylabel('the number of positive sentences in summary')\n",
        "plt.show()"
      ]
    },
    {
      "cell_type": "code",
      "execution_count": 42,
      "metadata": {
        "colab": {
          "base_uri": "https://localhost:8080/",
          "height": 279
        },
        "id": "5SwGN-Z4C9Sx",
        "outputId": "3509cced-1faa-4b59-cfe9-4ae0529e2fbe"
      },
      "outputs": [
        {
          "output_type": "display_data",
          "data": {
            "text/plain": [
              "<Figure size 432x288 with 1 Axes>"
            ],
            "image/png": "[encoded data removed]"
          },
          "metadata": {
            "needs_background": "light"
          }
        }
      ],
      "source": [
        "# plot a dotted line graph: the x-axis is “the number of negative sentences in a reviewText\" and y-axis is “the number of negative sentences in its summary”\n",
        "import matplotlib.pyplot as plt\n",
        "\n",
        "plt.plot(df_merge2['the number of negative sentences in reviewText'], df_merge2['the number of negative sentences in summary'], \"ro\")\n",
        "plt.xlabel('the number of negative sentences in reviewText')\n",
        "plt.ylabel('the number of negative sentences in summary')\n",
        "plt.show()\n"
      ]
    },
    {
      "cell_type": "markdown",
      "metadata": {
        "id": "NTUM5u77G9sC"
      },
      "source": [
        "# 3. Discussion"
      ]
    },
    {
      "cell_type": "markdown",
      "metadata": {
        "id": "qDsRgra_IJgV"
      },
      "source": [
        "From this task, I have learned learned several things:\n",
        "\n",
        "(1) How to determine what data preprocessing steps are needed for a sentiment analysis task.\n",
        "\n",
        "(2) I learned how to set different feature sets for a sentiment analysis task.\n",
        "\n",
        "(3) I know how to do cross validation to evaluate the performance of a classifier.\n",
        "\n",
        "(4) I can use the spacy library to extract the adjective, adverb, and verb words from a sentence.\n",
        "\n",
        "(5) I can use the matplotlib library to draw dotted line graphs.\n",
        "\n",
        "(6) I can predict the sentiment of a sentence.\n",
        "\n",
        "(7) I can do other sentiment analysis tasks after this homework.\n",
        "\n",
        "(8) I oberved that the adjectives in the negetive sentences also contains positive words like \"good\" and \"great\"."
      ]
    }
  ],
  "metadata": {
    "colab": {
      "provenance": []
    },
    "kernelspec": {
      "display_name": "Python 3",
      "name": "python3"
    },
    "language_info": {
      "codemirror_mode": {
        "name": "ipython",
        "version": 3
      },
      "file_extension": ".py",
      "mimetype": "text/x-python",
      "name": "python",
      "nbconvert_exporter": "python",
      "pygments_lexer": "ipython3",
      "version": "3.9.12"
    }
  },
  "nbformat": 4,
  "nbformat_minor": 0
}